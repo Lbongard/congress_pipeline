{
 "cells": [
  {
   "cell_type": "code",
   "execution_count": 294,
   "id": "1853abd1-49c8-4a9d-a724-62b31cd08ec0",
   "metadata": {
    "tags": []
   },
   "outputs": [],
   "source": [
    "from google.oauth2 import service_account\n",
    "from google.cloud import bigquery\n",
    "import pandas_gbq\n",
    "import os\n",
    "import json\n",
    "import altair as alt\n",
    "import plotly.express as px\n",
    "from bs4 import BeautifulSoup\n",
    "import plotly.graph_objs as go\n",
    "import numpy as np"
   ]
  },
  {
   "cell_type": "code",
   "execution_count": 194,
   "id": "4b194e85-44b0-4726-bea1-2b6aae2fe6ac",
   "metadata": {
    "tags": []
   },
   "outputs": [
    {
     "name": "stdout",
     "output_type": "stream",
     "text": [
      "Downloading: 100%|\u001b[32m█████████████████████████████████████████████████████████████████████████████████████████████████████████████████████████████████████████████████████████████████████████████████████████\u001b[0m|\u001b[0m\n"
     ]
    }
   ],
   "source": [
    "sql = \"SELECT * FROM `Congress.fact_roll_call_vote` LIMIT 10\"\n",
    "project_id='testproject-420401'\n",
    "# # Uses st.cache_data to only rerun when the query changes or after 10 min.\n",
    "# @st.cache_data(ttl=600)\n",
    "# def run_query(query):\n",
    "#     query_job = client.query(query)\n",
    "#     rows_raw = query_job.result()\n",
    "#     # Convert to list of dicts. Required for st.cache_data to hash the return value.\n",
    "#     rows = [dict(row) for row in rows_raw]\n",
    "#     return rows\n",
    "\n",
    "# rows = run_query(\"SELECT * FROM `Congress.fact_roll_call_vote` LIMIT 10\")\n",
    "\n",
    "\n",
    "df = pandas_gbq.read_gbq(sql, project_id=project_id)"
   ]
  },
  {
   "cell_type": "code",
   "execution_count": 195,
   "id": "e21ff6ba-5dc2-48ce-86eb-e664c14b141a",
   "metadata": {
    "tags": []
   },
   "outputs": [],
   "source": [
    "sql = \"\"\"\n",
    "SELECT dv.chamber\n",
    "      ,dv.bill_name\n",
    "      ,dv.result\n",
    "      ,db.title\n",
    "      ,db.policy_area\n",
    "      ,D_yea_or_aye_votes\n",
    "      ,R_yea_or_aye_votes\n",
    "      ,I_yea_or_aye_votes\n",
    "      ,D_nay_or_no_votes\n",
    "      ,R_nay_or_no_votes\n",
    "      ,I_nay_or_no_votes\n",
    "      ,D_abstain_votes\n",
    "      ,R_abstain_votes\n",
    "      ,I_abstain_votes\n",
    "      ,yea_nay_gap_votes,\n",
    "      db.most_recent_text\n",
    "    FROM `Congress.dim_votes` dv\n",
    "        left join `Congress.dim_bills` db on dv.bill_key = db.bill_key\n",
    "    WHERE dv.chamber = 'House' AND abs(dv.yea_nay_gap_votes) <=10\n",
    "order by abs(dv.yea_nay_gap_votes)\n",
    "\"\"\""
   ]
  },
  {
   "cell_type": "code",
   "execution_count": 287,
   "id": "e289a627-0a90-4dc1-940a-0b2c8e1aebdb",
   "metadata": {
    "tags": []
   },
   "outputs": [],
   "source": [
    "sql = \"\"\"\n",
    "SELECT dv.chamber\n",
    "      ,dv.bill_name\n",
    "      ,dv.result\n",
    "      ,db.title\n",
    "      ,db.policy_area\n",
    "      ,D_yea_or_aye_votes\n",
    "      ,R_yea_or_aye_votes\n",
    "      ,I_yea_or_aye_votes\n",
    "      ,D_nay_or_no_votes\n",
    "      ,R_nay_or_no_votes\n",
    "      ,I_nay_or_no_votes\n",
    "      ,D_abstain_votes\n",
    "      ,R_abstain_votes\n",
    "      ,I_abstain_votes\n",
    "      ,yea_nay_gap_votes\n",
    "      ,db.most_recent_text\n",
    "      ,rank() over(order by abs(dv.yea_nay_gap_votes)) closeness_rank\n",
    "    FROM `Congress.dim_votes` dv\n",
    "        left join `Congress.dim_bills` db on dv.bill_key = db.bill_key\n",
    "\n",
    "order by abs(dv.yea_nay_gap_votes)\n",
    "\"\"\"\n",
    "    # WHERE dv.chamber = 'House' \n",
    "# AND abs(dv.yea_nay_gap_votes) <=10"
   ]
  },
  {
   "cell_type": "code",
   "execution_count": 288,
   "id": "d8fd8602-4cce-42b2-8168-8bda93577010",
   "metadata": {
    "tags": []
   },
   "outputs": [
    {
     "name": "stdout",
     "output_type": "stream",
     "text": [
      "Downloading: 100%|\u001b[32m█████████████████████████████████████████████████████████████████████████████████████████████████████████████████████████████████████████████████████████████████████████████████████████\u001b[0m|\u001b[0m\n"
     ]
    }
   ],
   "source": [
    "df = pandas_gbq.read_gbq(sql, project_id=project_id)"
   ]
  },
  {
   "cell_type": "code",
   "execution_count": 289,
   "id": "56c39cba-422d-4faa-9e24-46665561d338",
   "metadata": {
    "tags": []
   },
   "outputs": [
    {
     "data": {
      "text/plain": [
       "result\n",
       "Passed                                        211\n",
       "Failed                                         58\n",
       "Joint Resolution Passed                        19\n",
       "Bill Passed                                    13\n",
       "Motion Rejected                                10\n",
       "Cloture Motion Agreed to                       10\n",
       "Motion Agreed to                                8\n",
       "Motion to Table Failed                          8\n",
       "Motion to Proceed Agreed to                     8\n",
       "Cloture on the Motion to Proceed Rejected       6\n",
       "Cloture on the Motion to Proceed Agreed to      5\n",
       "Veto Sustained                                  5\n",
       "Motion to Table Agreed to                       5\n",
       "Joint Resolution Defeated                       4\n",
       "Motion to Discharge Rejected                    3\n",
       "Resolution Agreed to                            3\n",
       "Bill Defeated                                   2\n",
       "Motion to Refer Rejected                        2\n",
       "Conference Report Agreed to                     1\n",
       "Name: count, dtype: int64"
      ]
     },
     "execution_count": 289,
     "metadata": {},
     "output_type": "execute_result"
    }
   ],
   "source": [
    "df.result.value_counts()"
   ]
  },
  {
   "cell_type": "code",
   "execution_count": 262,
   "id": "fa8220aa-058f-4cdb-9526-db2f95e61cb9",
   "metadata": {
    "tags": []
   },
   "outputs": [],
   "source": [
    "def parse_text(html_content):\n",
    "    # Create a BeautifulSoup object\n",
    "    \n",
    "    if html_content == None:\n",
    "        return html_content\n",
    "    \n",
    "    soup = BeautifulSoup(html_content, 'lxml')\n",
    "\n",
    "    # Initialize a variable to store the formatted text\n",
    "    formatted_text = \"\"\n",
    "\n",
    "    # Extract text from the paragraphs\n",
    "    paragraphs = soup.find_all('p')\n",
    "    for para in paragraphs:\n",
    "        formatted_text += para.get_text(strip=True) + \"\\n\\n\"\n",
    "\n",
    "    # Extract text from the list items\n",
    "    list_items = soup.find_all('li')\n",
    "    for item in list_items:\n",
    "        formatted_text += \" - \" + item.get_text(strip=True) + \"\\n\"\n",
    "        \n",
    "    return formatted_text"
   ]
  },
  {
   "cell_type": "code",
   "execution_count": 267,
   "id": "d0089321-0de4-480b-a02a-06f0b6382a32",
   "metadata": {
    "tags": []
   },
   "outputs": [],
   "source": [
    "df['abs_yea_nay_gap_vote'] = abs(df['yea_nay_gap_votes'])\n",
    "df['most_recent_text'] = df['most_recent_text'].apply(lambda x: parse_text(x))\n",
    "df['most_recent_text_short'] = df['most_recent_text'].apply(lambda x: x[:300] + '...' if x != None else 'No Text').str.wrap(50).apply(lambda x: x.replace('\\n', '<br>'))\n",
    "df['title'] = df['title'].str.wrap(50).apply(lambda x: x.replace('\\n', '<br>'))"
   ]
  },
  {
   "cell_type": "code",
   "execution_count": 268,
   "id": "6aa8f74d-5fee-4d76-a3f8-8829073fe7e6",
   "metadata": {
    "tags": []
   },
   "outputs": [
    {
     "data": {
      "application/vnd.plotly.v1+json": {
       "config": {
        "plotlyServerURL": "https://plot.ly"
       },
       "data": [
        {
         "alignmentgroup": "True",
         "hovertemplate": "Party=D_total<br>title=%{x}<br>Number of Votes=%{y}<extra></extra>",
         "legendgroup": "D_total",
         "marker": {
          "color": "#636efa",
          "pattern": {
           "shape": ""
          }
         },
         "name": "D_total",
         "offsetgroup": "D_total",
         "orientation": "v",
         "showlegend": true,
         "textposition": "auto",
         "type": "bar",
         "x": [
          "Limit, Save, Grow Act of 2023",
          "Hands Off Our Home Appliances Act",
          "Trust the Science Act",
          "Equal Representation Act",
          "Equal Representation Act",
          "Department of State, Foreign Operations,<br>and<br>Related Programs Appropriations Act, 2024",
          "Superior National Forest Restoration Act",
          "Ensuring Accountability in Agency Rulemaking Act",
          "Parents Bill of Rights Act",
          "Cutting Green Corruption and Taxes Act",
          "Mining Regulatory Clarity Act of 2024",
          "Trust the Science Act",
          "Cutting Green Corruption and Taxes Act",
          "Agriculture, Rural Development, Food and<br>Drug<br>Administration, and Related<br>Agencies<br>Appropriations Act, 2024",
          "Mining Regulatory Clarity Act of 2024",
          "Continuing Appropriations and Border<br>Security<br>Enhancement Act, 2024",
          "Secure the Border Act of 2023",
          "Western Economic Security Today Act of 2024",
          "Protecting Access for Hunters and Anglers Act<br>of<br>2023",
          "Department of State, Foreign Operations,<br>and<br>Related Programs Appropriations Act, 2024",
          "National Defense Authorization Act for Fiscal<br>Year<br>2024",
          "Legislative Branch Appropriations Act, 2024",
          "Department of Defense Appropriations Act, 2024",
          "Creating Confidence in Clean Water Permitting Act",
          "Consolidated Appropriations Act, 2024",
          "Department of Defense Appropriations Act, 2024",
          "Creating Confidence in Clean Water Permitting Act",
          "Military Construction, Veterans Affairs,<br>and<br>Related Agencies Appropriations Act, 2025",
          "Department of Homeland Security<br>Appropriations<br>Act, 2024",
          "Israel Security Assistance Support Act",
          "National Defense Authorization Act for Fiscal<br>Year<br>2024",
          "National Defense Authorization Act for Fiscal<br>Year<br>2024",
          "SOPRA",
          "Providing for congressional disapproval<br>under<br>chapter 8 of title 5, United States Code,<br>of the<br>rule submitted by the Bureau of Alcohol,<br>Tobacco,<br>Firearms, and Explosives relating to<br>\"Factoring<br>Criteria for Firearms with Attached<br>'Stabilizing<br>Braces'\".",
          "Disapproving the rule submitted by the<br>Department<br>of Commerce relating to \"Procedures<br>Covering<br>Suspension of Liquidation, Duties and<br>Estimated<br>Duties in Accord With Presidential<br>Proclamation<br>10414\".",
          "Superior National Forest Restoration Act",
          "SOPRA",
          "REINS Act of 2023",
          "Alaska’s Right to Produce Act of 2023",
          "Secure the Border Act of 2023",
          "Western Economic Security Today Act of 2024",
          "Limit, Save, Grow Act of 2023",
          "Department of the Interior, Environment,<br>and<br>Related Agencies Appropriations Act, 2024",
          "Pandemic is Over Act",
          "REINS Act of 2023",
          "Energy and Water Development and Related<br>Agencies<br>Appropriations Act, 2024",
          "Energy and Water Development and Related<br>Agencies<br>Appropriations Act, 2024",
          "A joint resolution providing for<br>congressional<br>disapproval under chapter 8 of<br>title 5, United<br>States Code, of the rule<br>submitted by the United<br>States Fish and<br>Wildlife Service relating to<br>\"Endangered and<br>Threatened Wildlife and Plants;<br>Endangered<br>Species Status for Northern Long-Eared<br>Bat\".",
          "Protecting Taxpayers and Victims of<br>Unemployment<br>Fraud Act",
          "CHOICE Arrangement Act",
          "CHOICE Arrangement Act",
          "Military Construction, Veterans Affairs,<br>and<br>Related Agencies Appropriations Act, 2025",
          "Department of Homeland Security<br>Appropriations<br>Act, 2024",
          "Schools Not Shelters Act",
          "To terminate the requirement imposed by<br>the<br>Director of the Centers for Disease Control<br>and<br>Prevention for proof of COVID-19<br>vaccination for<br>foreign travelers, and for<br>other purposes.",
          "Providing for congressional disapproval<br>under<br>chapter 8 of title 5, United States Code,<br>of the<br>rule submitted by the Department of<br>Labor relating<br>to \"Prudence and Loyalty in<br>Selecting Plan<br>Investments and Exercising<br>Shareholder Rights\".",
          "Consolidated Appropriations Act, 2024",
          "Protecting Speech from Government Interference Act",
          "Protecting Access for Hunters and Anglers Act<br>of<br>2023",
          "Choice in Automobile Retail Sales Act of 2023",
          "Protection of Women and Girls in Sports Act<br>of<br>2023",
          "Department of the Interior, Environment,<br>and<br>Related Agencies Appropriations Act, 2024",
          "Protecting Speech from Government Interference Act",
          "Alaska’s Right to Produce Act of 2023",
          "Ensuring Accountability in Agency Rulemaking Act",
          "Lower Energy Costs Act",
          "Parents Bill of Rights Act",
          "A joint resolution providing for<br>congressional<br>disapproval under chapter 8 of<br>title 5, United<br>States Code, of the rule<br>submitted by the United<br>States Fish and<br>Wildlife Service relating to<br>\"Endangered and<br>Threatened Wildlife and Plants;<br>Lesser Prairie-<br>Chicken; Threatened Status with<br>Section 4(d)<br>Rule for the Northern Distinct<br>Population<br>Segment and Endangered Status for the<br>Southern<br>Distinct Population Segment\".",
          "SHOW UP Act of 2023",
          "Providing for congressional disapproval<br>under<br>chapter 8 of title 5, United States Code,<br>of the<br>rule submitted by the Department of<br>Education<br>relating to \"Waivers and<br>Modifications of Federal<br>Student Loans\".",
          "Providing for congressional disapproval<br>under<br>chapter 8 of title 5, United States Code,<br>of the<br>rule submitted by the Department of<br>Education<br>relating to \"Waivers and<br>Modifications of Federal<br>Student Loans\".",
          "Transnational Criminal Organization<br>Illicit<br>Spotter Prevention and Elimination Act",
          "Protection of Women and Girls in Sports Act<br>of<br>2023",
          "Hands Off Our Home Appliances Act",
          "Middle Class Borrower Protection Act of 2023",
          "To prohibit individuals who are not citizens<br>of<br>the United States from voting in elections<br>in the<br>District of Columbia and to repeal the<br>Local<br>Resident Voting Rights Amendment Act of<br>2022",
          "Legislative Branch Appropriations Act, 2024",
          "A joint resolution providing for<br>congressional<br>disapproval under chapter 8 of<br>title 5, United<br>States Code, of the rule<br>submitted by the<br>Environmental Protection<br>Agency relating to<br>\"Control of Air Pollution<br>From New Motor Vehicles:<br>Heavy-Duty Engine and<br>Vehicle Standards\".",
          "Preserving Choice in Vehicle Purchases Act",
          "Providing for congressional disapproval<br>under<br>chapter 8 of title 5, United States Code,<br>of the<br>rule submitted by the Department of<br>Labor relating<br>to \"Prudence and Loyalty in<br>Selecting Plan<br>Investments and Exercising<br>Shareholder Rights\".",
          "Disapproving the rule submitted by the<br>Department<br>of Commerce relating to \"Procedures<br>Covering<br>Suspension of Liquidation, Duties and<br>Estimated<br>Duties in Accord With Presidential<br>Proclamation<br>10414\".",
          "A joint resolution providing for<br>congressional<br>disapproval under chapter 8 of<br>title 5, United<br>States Code, of the rule<br>submitted by the Bureau<br>of Consumer Financial<br>Protection relating to<br>\"Small Business Lending<br>Under the Equal Credit<br>Opportunity Act<br>(Regulation B)\".",
          "Fourth Amendment Is Not For Sale Act",
          "Lower Energy Costs Act",
          "Schools Not Shelters Act",
          "Protecting our Communities from Failure to<br>Secure<br>the Border Act of 2023",
          "Mining Regulatory Clarity Act of 2024",
          "Providing for congressional disapproval<br>under<br>chapter 8 of title 5, United States Code,<br>of the<br>rule submitted by the Department of<br>Education<br>relating to \"Improving Income Driven<br>Repayment for<br>the William D. Ford Federal<br>Direct Loan Program<br>and the Federal Family<br>Education Loan (FFEL)<br>Program\".",
          "Providing for congressional disapproval<br>under<br>chapter 8 of title 5, United States Code,<br>of the<br>rule submitted by the National Labor<br>Relations<br>Board relating to \"Standard for<br>Determining Joint<br>Employer Status\".",
          "Choice in Automobile Retail Sales Act of 2023",
          "CBDC Anti-Surveillance State Act",
          "To terminate the requirement imposed by<br>the<br>Director of the Centers for Disease Control<br>and<br>Prevention for proof of COVID-19<br>vaccination for<br>foreign travelers, and for<br>other purposes.",
          "Providing for congressional disapproval<br>under<br>chapter 8 of title 5, United States Code,<br>of the<br>rule submitted by the Department of the<br>Army,<br>Corps of Engineers, Department of Defense<br>and the<br>Environmental Protection Agency<br>relating to<br>\"Revised Definition of 'Waters of<br>the United<br>States'\".",
          "Israel Security Supplemental Appropriations<br>Act,<br>2024",
          "Protecting Taxpayers and Victims of<br>Unemployment<br>Fraud Act",
          "Providing for congressional disapproval<br>under<br>chapter 8 of title 5, United States Code,<br>of the<br>rule submitted by the Department of the<br>Army,<br>Corps of Engineers, Department of Defense<br>and the<br>Environmental Protection Agency<br>relating to<br>\"Revised Definition of 'Waters of<br>the United<br>States'\".",
          "Relating to a national emergency declared by<br>the<br>President on March 13, 2020.",
          "Preserving Choice in Vehicle Purchases Act",
          "Federal Law Enforcement Officer Service<br>Weapon<br>Purchase Act",
          "Continuing Appropriations and Border<br>Security<br>Enhancement Act, 2024",
          "LEOSA Reform Act of 2024",
          "Disapproving the action of the District<br>of<br>Columbia Council in approving the<br>Comprehensive<br>Policing and Justice Reform<br>Amendment Act of 2022.",
          "Israel Security Assistance Support Act",
          "Disapproving the action of the District<br>of<br>Columbia Council in approving the<br>Comprehensive<br>Policing and Justice Reform<br>Amendment Act of 2022.",
          "Middle Class Borrower Protection Act of 2023",
          "D. C. Criminal Reforms to Immediately<br>Make<br>Everyone Safe Act of 2024",
          "Providing for congressional disapproval<br>under<br>chapter 8 of title 5, United States Code,<br>of the<br>rule submitted by the Securities and<br>Exchange<br>Commission relating to \"Staff<br>Accounting Bulletin<br>No. 121\".",
          "Agriculture, Rural Development, Food and<br>Drug<br>Administration, and Related<br>Agencies<br>Appropriations Act, 2024",
          "Gas Stove Protection and Freedom Act",
          "Save Our Gas Stoves Act",
          "DETERRENT Act",
          "Disapproving the action of the District<br>of<br>Columbia Council in approving the Revised<br>Criminal<br>Code Act of 2022.",
          "POLICE Act of 2023",
          "SAT Streamlining Act",
          "Illegitimate Court Counteraction Act",
          "Police Our Border Act",
          "Disapproving the action of the District<br>of<br>Columbia Council in approving the Local<br>Resident<br>Voting Rights Amendment Act of 2022.",
          "To provide for the rescission of certain<br>waivers<br>and licenses relating to Iran, and for<br>other<br>purposes.",
          "Detain and Deport Illegal Aliens Who Assault<br>Cops<br>Act",
          "To prohibit individuals who are not citizens<br>of<br>the United States from voting in elections<br>in the<br>District of Columbia and to repeal the<br>Local<br>Resident Voting Rights Amendment Act of<br>2022",
          "Iran Counterterrorism Act of 2023",
          "Reduce Exacerbated Inflation Negatively<br>Impacting<br>the Nation Act",
          "Reforming Intelligence and Securing America Act",
          "Reforming Intelligence and Securing America Act",
          "Iran Sanctions Relief Review Act of 2023",
          "Financial Innovation and Technology for the<br>21st<br>Century Act",
          "Standing Against Houthi Aggression Act",
          "HALT Fentanyl Act",
          "Expressing support for local law<br>enforcement<br>officers and condemning efforts to<br>defund or<br>dismantle local law enforcement<br>agencies.",
          "No Funds for Iranian Terrorism Act",
          "No U.S. Financing for Iran Act of 2023",
          "National Defense Authorization Act for Fiscal<br>Year<br>2024",
          "Ukraine Security Assistance and<br>Oversight<br>Supplemental Appropriations Act, 2024",
          "Fiscal Responsibility Act of 2023",
          "Ukraine Security Supplemental Appropriations<br>Act,<br>2024",
          "Directing the President, pursuant to section<br>5(c)<br>of the War Powers Resolution, to remove<br>the United<br>States Armed Forces from Syria.",
          "Directing the President, pursuant to section<br>5(c)<br>of the War Powers Resolution, to remove<br>all United<br>States Armed Forces, other than<br>United States<br>Armed Forces assigned to protect<br>the United States<br>Embassy, from Somalia.",
          "Antisemitism Awareness Act of 2023",
          "Whole Milk for Healthy Kids Act of 2023",
          "Further Continuing Appropriations and<br>Other<br>Extensions Act, 2024",
          "Denouncing the horrors of socialism.",
          "Promoting Opportunities for Non-<br>Traditional<br>Capital Formation Act",
          "Continuing Appropriations Act, 2024 and<br>Other<br>Extensions Act",
          "Ukraine Security Supplemental Appropriations<br>Act,<br>2024",
          "Lower Costs, More Transparency Act",
          "Sea Turtle Rescue Assistance and<br>Rehabilitation<br>Act of 2023",
          "Deploying American Blockchains Act of 2023",
          "Abandoned Well Remediation Research<br>and<br>Development Act",
          "Stop Harboring Iranian Petroleum Act",
          "Securing Growth and Robust Leadership in<br>American<br>Aviation Act",
          "Fire Weather Development Act of 2024",
          "Coastal Communities Ocean Acidification Act<br>of<br>2023",
          "Wastewater Infrastructure Pollution Prevention<br>and<br>Environmental Safety Act",
          "One Seat Ride Act",
          "To direct the Secretary of Energy to<br>provide<br>financial assistance to graduate<br>students and<br>postdoctoral researchers pursuing<br>certain courses<br>of study relating to<br>cybersecurity and energy<br>infrastructure, and<br>for other purposes.",
          "Improving Law Enforcement Officer Safety<br>and<br>Wellness Through Data Act",
          "21st Century Peace through Strength Act",
          "Advanced Weather Model Computing Development Act",
          "Israel Security Supplemental Appropriations<br>Act,<br>2024",
          "Enhancing Multi-Class Share Disclosures Act",
          "Hamas International Financing Prevention Act",
          "National Construction Safety Team Enhancement<br>Act<br>of 2024",
          "Privacy Enhancing Technology Research Act",
          "Carbon Sequestration Collaboration Act",
          "Special District Grant Accessibility Act",
          "Fort San Gerónimo Preservation Act",
          "National Telecommunications and<br>Information<br>Administration Reauthorization Act<br>of 2024",
          "To designate the facility of the United<br>States<br>Postal Service located at 220 North<br>Hatcher Avenue<br>in Purcellville, Virginia, as<br>the \"Secretary of<br>State Madeleine Albright Post<br>Office Building\".",
          "Youth Poisoning Protection Act",
          "Setting Consumer Standards for Lithium-<br>Ion<br>Batteries Act",
          "Native American Child Protection Act",
          "Support for Patients and<br>Communities<br>Reauthorization Act",
          "Indo-Pacific Security Supplemental<br>Appropriations<br>Act, 2024",
          "Recruit and Retain Act",
          "A Stronger Workforce for America Act",
          "National Museum of Play Recognition Act",
          "Relating to a national emergency declared by<br>the<br>President on October 27, 2006.",
          "Providing Appropriate Recognition and<br>Treatment<br>Needed to Enhance Relations with<br>ASEAN Act",
          "No Paydays for Hostage-Takers Act",
          "Relating to a national emergency declared by<br>the<br>President on February 25, 2011.",
          "Small Entity Update Act",
          "No Hidden Fees on Extra Expenses for Stays Act<br>of<br>2023",
          "Coast Guard Authorization Act of 2024",
          "Airport and Airway Extension Act of 2023, Part II",
          "Airport and Airway Extension Act of 2024, Part II",
          "Securing Growth and Robust Leadership in<br>American<br>Aviation Act",
          "Transparency In Charges for Key Events<br>Ticketing<br>Act",
          "Global Investment in American Jobs Act of 2023",
          "Promoting a Resolution to the Tibet-China<br>Dispute<br>Act",
          "Equal Opportunity for All Investors Act of 2023",
          "National Defense Authorization Act for Fiscal<br>Year<br>2024",
          "Relating to a national emergency declared by<br>the<br>President on May 16, 2012.",
          "To designate the facility of the United<br>States<br>Postal Service located at 15 South<br>Valdosta Road<br>in Lakeland, Georgia, as the<br>\"Nell Patten<br>Roquemore Post Office\".",
          "Foreign Affiliates Sharing Pilot Program<br>Extension<br>Act",
          "Relating to a national emergency declared by<br>the<br>President on May 22, 2003.",
          "Relating to a national emergency declared by<br>the<br>President on May 11, 2004.",
          "Encouraging Public Offerings Act of 2023",
          "Understanding Cybersecurity of Mobile Networks Act",
          "Promoting Resilient Supply Chains Act of 2023",
          "To amend the Internal Revenue Code of 1986<br>to<br>terminate the tax-exempt status of<br>terrorist<br>supporting organizations.",
          "Iran-China Energy Sanctions Act of 2023",
          "Information Quality Assurance Act",
          "Weather Research and Forecasting<br>Innovation<br>Reauthorization Act of 2023",
          "Federal Disaster Tax Relief Act of 2023",
          "An Act to amend the Federal Fire Prevention<br>and<br>Control Act of 1974 to authorize<br>appropriations<br>for the United States Fire<br>Administration and<br>firefighter assistance grant<br>programs.",
          "Middle Market IPO Underwriting Cost Act",
          "National Defense Authorization Act for Fiscal<br>Year<br>2024",
          "Duck Stamp Modernization Act of 2023",
          "To clarify jurisdiction with respect to<br>certain<br>Bureau of Reclamation pumped storage<br>development,<br>and for other purposes.",
          "Emergency Medical Services for<br>Children<br>Reauthorization Act of 2024",
          "Puyallup Tribe of Indians Land Into<br>Trust<br>Confirmation Act of 2023",
          "Improving Access to Small Business Information Act",
          "No Technology for Terror Act",
          "To direct the Secretary of State to submit<br>to<br>Congress a report on implementation of<br>the<br>advanced capabilities pillar of the<br>trilateral<br>security partnership between<br>Australia, the United<br>Kingdom, and the United<br>States.",
          "To designate the facility of the United<br>States<br>Postal Service located at 616 East Main<br>Street in<br>St. Charles, Illinois, as the<br>\"Veterans of the<br>Vietnam War Memorial Post<br>Office\".",
          "Federal Prison Oversight Act",
          "Solidify Iran Sanctions Act of 2023",
          "To amend title 5, United States Code, to limit<br>the<br>use of educational requirements or<br>qualifications<br>in evaluating candidates for<br>certain cybersecurity<br>positions in the<br>competitive service, and for<br>other purposes.",
          "Veterans Economic Opportunity and<br>Transition<br>Administration Act",
          "Informing Consumers about Smart Devices Act",
          "Countering Weapons of Mass Destruction<br>Extension<br>Act of 2023",
          "Iran Sanctions Accountability Act of 2023",
          "Fight CRIME Act",
          "China Financial Threat Mitigation Act of 2023",
          "Extending Limits of U.S. Customs Waters Act",
          "Illicit Captagon Trafficking Suppression Act<br>of<br>2023",
          "To amend the Taiwan Assurance Act of 2020<br>to<br>require periodic reviews and updated<br>reports<br>relating to the Department of State's<br>Taiwan<br>Guidelines.",
          "Housing our Military Veterans Effectively Act<br>of<br>2023",
          "Precision Agriculture Satellite Connectivity Act",
          "Dr. Emmanuel Bilirakis and Honorable<br>Jennifer<br>Wexton National Plan to End<br>Parkinson’s Act",
          "USA Act",
          "Student Veteran Benefit Restoration Act",
          "Preventing the Financing of Illegal<br>Synthetic<br>Drugs Act",
          "Special Envoy for the Abraham Accords Act",
          "VET–TEC Authorization Act of 2023",
          "Providing Accountability Through Transparency<br>Act<br>of 2023",
          "To designate the facility of the United<br>States<br>Postal Service located at 103 Benedette<br>Street in<br>Rayville, Louisiana, as the \"Luke<br>Letlow Post<br>Office Building\".",
          "ACRES Act",
          "Countering Untrusted Telecommunications Abroad Act",
          "Expressing the sense of Congress supporting<br>the<br>State of Israel.",
          "Authorizing the use of Emancipation Hall in<br>the<br>Capitol Visitor Center for a ceremony as<br>part of<br>the commemoration of the days of<br>remembrance of<br>victims of the Holocaust.",
          "Maternal and Child Health Stillbirth<br>Prevention<br>Act of 2024",
          "Debbie Smith Act of 2023",
          "Missing Children's Assistance Reauthorization<br>Act<br>of 2023",
          "MAHSA Act",
          "Veteran Entrepreneurship Training Act of 2023",
          "Protecting and Securing Chemical Facilities<br>from<br>Terrorist Attacks Act of 2023",
          "250th Anniversary of the United States<br>Marine<br>Corps Commemorative Coin Act",
          "To rename the Department of Veterans<br>Affairs<br>community-based outpatient clinic in<br>Hinesville,<br>Georgia, as the \"John Gibson, Dan<br>James, William<br>Sapp, and Frankie Smiley VA<br>Clinic\".",
          "Elizabeth Dole Home Care Act of 2023",
          "A bill to designate the clinic of the<br>Department<br>of Veterans Affairs in Gallup, New<br>Mexico, as the<br>Hiroshi \"Hershey\" Miyamura VA<br>Clinic.",
          "To designate the clinic of the Department<br>of<br>Veterans Affairs in Indian River, Michigan,<br>as the<br>\"Pfc. Justin T. Paton Department of<br>Veterans<br>Affairs Clinic\".",
          "Isakson-Roe Education Oversight Expansion Act",
          "Stop Forced Organ Harvesting Act of 2023",
          "NDO Fairness Act",
          "Veteran Fraud Reimbursement Act",
          "To extend the authority to collect Shasta-<br>Trinity<br>Marina fees through fiscal year 2029.",
          "Holding Iranian Leaders Accountable Act of 2023",
          "Strengthening Tools to Counter the Use of<br>Human<br>Shields Act",
          "PRC Is Not a Developing Country Act",
          "COVID-19 Origin Act of 2023",
          "Protect Small Business and Prevent<br>Illicit<br>Financial Activity Act",
          "Advanced, Local Emergency<br>Response<br>Telecommunications Parity Act",
          "A bill to amend title 38, United States Code,<br>to<br>strengthen benefits for children of<br>Vietnam<br>veterans born with spina bifida, and<br>for other<br>purposes.",
          "Wounded Warrior Access Act",
          "Protecting Hunting Heritage and Education Act",
          "Veterans Benefits Improvement Act of 2023",
          "TRANQ Research Act of 2023",
          "VA COST SAVINGS Enhancements Act"
         ],
         "xaxis": "x",
         "y": [
          213,
          213,
          212,
          213,
          213,
          212,
          212,
          213,
          213,
          213,
          213,
          212,
          213,
          212,
          212,
          212,
          213,
          212,
          212,
          212,
          212,
          212,
          212,
          213,
          212,
          212,
          213,
          213,
          212,
          213,
          212,
          212,
          212,
          212,
          213,
          212,
          212,
          212,
          212,
          213,
          212,
          213,
          212,
          212,
          212,
          212,
          212,
          212,
          213,
          212,
          212,
          213,
          212,
          212,
          212,
          212,
          212,
          213,
          212,
          213,
          213,
          212,
          213,
          212,
          213,
          213,
          213,
          212,
          212,
          212,
          213,
          213,
          213,
          213,
          212,
          213,
          212,
          213,
          212,
          213,
          213,
          213,
          213,
          213,
          212,
          213,
          213,
          213,
          213,
          213,
          213,
          212,
          213,
          212,
          213,
          213,
          212,
          212,
          213,
          212,
          213,
          212,
          213,
          213,
          212,
          213,
          213,
          212,
          212,
          212,
          213,
          212,
          213,
          212,
          213,
          213,
          212,
          213,
          213,
          213,
          213,
          212,
          213,
          213,
          213,
          213,
          213,
          213,
          213,
          213,
          213,
          213,
          212,
          213,
          213,
          213,
          213,
          212,
          213,
          213,
          212,
          213,
          212,
          213,
          213,
          213,
          213,
          212,
          212,
          212,
          212,
          213,
          213,
          213,
          212,
          213,
          213,
          213,
          213,
          213,
          212,
          213,
          212,
          212,
          213,
          212,
          213,
          213,
          213,
          213,
          212,
          213,
          213,
          213,
          213,
          213,
          212,
          213,
          213,
          212,
          213,
          213,
          213,
          213,
          213,
          213,
          213,
          212,
          213,
          213,
          212,
          212,
          213,
          213,
          212,
          212,
          212,
          213,
          213,
          213,
          213,
          212,
          212,
          213,
          213,
          212,
          212,
          213,
          212,
          213,
          213,
          212,
          213,
          213,
          212,
          213,
          213,
          212,
          212,
          212,
          213,
          213,
          212,
          213,
          212,
          213,
          213,
          213,
          213,
          213,
          213,
          212,
          213,
          212,
          213,
          212,
          213,
          212,
          213,
          212,
          213,
          213,
          212,
          213,
          212,
          212,
          212,
          212,
          213,
          213,
          212,
          212,
          212,
          213,
          213,
          212,
          212,
          213,
          213,
          213,
          213,
          213,
          213,
          212,
          212,
          212,
          212,
          213,
          213
         ],
         "yaxis": "y"
        },
        {
         "alignmentgroup": "True",
         "hovertemplate": "Party=R_total<br>title=%{x}<br>Number of Votes=%{y}<extra></extra>",
         "legendgroup": "R_total",
         "marker": {
          "color": "#EF553B",
          "pattern": {
           "shape": ""
          }
         },
         "name": "R_total",
         "offsetgroup": "R_total",
         "orientation": "v",
         "showlegend": true,
         "textposition": "auto",
         "type": "bar",
         "x": [
          "Limit, Save, Grow Act of 2023",
          "Hands Off Our Home Appliances Act",
          "Trust the Science Act",
          "Equal Representation Act",
          "Equal Representation Act",
          "Department of State, Foreign Operations,<br>and<br>Related Programs Appropriations Act, 2024",
          "Superior National Forest Restoration Act",
          "Ensuring Accountability in Agency Rulemaking Act",
          "Parents Bill of Rights Act",
          "Cutting Green Corruption and Taxes Act",
          "Mining Regulatory Clarity Act of 2024",
          "Trust the Science Act",
          "Cutting Green Corruption and Taxes Act",
          "Agriculture, Rural Development, Food and<br>Drug<br>Administration, and Related<br>Agencies<br>Appropriations Act, 2024",
          "Mining Regulatory Clarity Act of 2024",
          "Continuing Appropriations and Border<br>Security<br>Enhancement Act, 2024",
          "Secure the Border Act of 2023",
          "Western Economic Security Today Act of 2024",
          "Protecting Access for Hunters and Anglers Act<br>of<br>2023",
          "Department of State, Foreign Operations,<br>and<br>Related Programs Appropriations Act, 2024",
          "National Defense Authorization Act for Fiscal<br>Year<br>2024",
          "Legislative Branch Appropriations Act, 2024",
          "Department of Defense Appropriations Act, 2024",
          "Creating Confidence in Clean Water Permitting Act",
          "Consolidated Appropriations Act, 2024",
          "Department of Defense Appropriations Act, 2024",
          "Creating Confidence in Clean Water Permitting Act",
          "Military Construction, Veterans Affairs,<br>and<br>Related Agencies Appropriations Act, 2025",
          "Department of Homeland Security<br>Appropriations<br>Act, 2024",
          "Israel Security Assistance Support Act",
          "National Defense Authorization Act for Fiscal<br>Year<br>2024",
          "National Defense Authorization Act for Fiscal<br>Year<br>2024",
          "SOPRA",
          "Providing for congressional disapproval<br>under<br>chapter 8 of title 5, United States Code,<br>of the<br>rule submitted by the Bureau of Alcohol,<br>Tobacco,<br>Firearms, and Explosives relating to<br>\"Factoring<br>Criteria for Firearms with Attached<br>'Stabilizing<br>Braces'\".",
          "Disapproving the rule submitted by the<br>Department<br>of Commerce relating to \"Procedures<br>Covering<br>Suspension of Liquidation, Duties and<br>Estimated<br>Duties in Accord With Presidential<br>Proclamation<br>10414\".",
          "Superior National Forest Restoration Act",
          "SOPRA",
          "REINS Act of 2023",
          "Alaska’s Right to Produce Act of 2023",
          "Secure the Border Act of 2023",
          "Western Economic Security Today Act of 2024",
          "Limit, Save, Grow Act of 2023",
          "Department of the Interior, Environment,<br>and<br>Related Agencies Appropriations Act, 2024",
          "Pandemic is Over Act",
          "REINS Act of 2023",
          "Energy and Water Development and Related<br>Agencies<br>Appropriations Act, 2024",
          "Energy and Water Development and Related<br>Agencies<br>Appropriations Act, 2024",
          "A joint resolution providing for<br>congressional<br>disapproval under chapter 8 of<br>title 5, United<br>States Code, of the rule<br>submitted by the United<br>States Fish and<br>Wildlife Service relating to<br>\"Endangered and<br>Threatened Wildlife and Plants;<br>Endangered<br>Species Status for Northern Long-Eared<br>Bat\".",
          "Protecting Taxpayers and Victims of<br>Unemployment<br>Fraud Act",
          "CHOICE Arrangement Act",
          "CHOICE Arrangement Act",
          "Military Construction, Veterans Affairs,<br>and<br>Related Agencies Appropriations Act, 2025",
          "Department of Homeland Security<br>Appropriations<br>Act, 2024",
          "Schools Not Shelters Act",
          "To terminate the requirement imposed by<br>the<br>Director of the Centers for Disease Control<br>and<br>Prevention for proof of COVID-19<br>vaccination for<br>foreign travelers, and for<br>other purposes.",
          "Providing for congressional disapproval<br>under<br>chapter 8 of title 5, United States Code,<br>of the<br>rule submitted by the Department of<br>Labor relating<br>to \"Prudence and Loyalty in<br>Selecting Plan<br>Investments and Exercising<br>Shareholder Rights\".",
          "Consolidated Appropriations Act, 2024",
          "Protecting Speech from Government Interference Act",
          "Protecting Access for Hunters and Anglers Act<br>of<br>2023",
          "Choice in Automobile Retail Sales Act of 2023",
          "Protection of Women and Girls in Sports Act<br>of<br>2023",
          "Department of the Interior, Environment,<br>and<br>Related Agencies Appropriations Act, 2024",
          "Protecting Speech from Government Interference Act",
          "Alaska’s Right to Produce Act of 2023",
          "Ensuring Accountability in Agency Rulemaking Act",
          "Lower Energy Costs Act",
          "Parents Bill of Rights Act",
          "A joint resolution providing for<br>congressional<br>disapproval under chapter 8 of<br>title 5, United<br>States Code, of the rule<br>submitted by the United<br>States Fish and<br>Wildlife Service relating to<br>\"Endangered and<br>Threatened Wildlife and Plants;<br>Lesser Prairie-<br>Chicken; Threatened Status with<br>Section 4(d)<br>Rule for the Northern Distinct<br>Population<br>Segment and Endangered Status for the<br>Southern<br>Distinct Population Segment\".",
          "SHOW UP Act of 2023",
          "Providing for congressional disapproval<br>under<br>chapter 8 of title 5, United States Code,<br>of the<br>rule submitted by the Department of<br>Education<br>relating to \"Waivers and<br>Modifications of Federal<br>Student Loans\".",
          "Providing for congressional disapproval<br>under<br>chapter 8 of title 5, United States Code,<br>of the<br>rule submitted by the Department of<br>Education<br>relating to \"Waivers and<br>Modifications of Federal<br>Student Loans\".",
          "Transnational Criminal Organization<br>Illicit<br>Spotter Prevention and Elimination Act",
          "Protection of Women and Girls in Sports Act<br>of<br>2023",
          "Hands Off Our Home Appliances Act",
          "Middle Class Borrower Protection Act of 2023",
          "To prohibit individuals who are not citizens<br>of<br>the United States from voting in elections<br>in the<br>District of Columbia and to repeal the<br>Local<br>Resident Voting Rights Amendment Act of<br>2022",
          "Legislative Branch Appropriations Act, 2024",
          "A joint resolution providing for<br>congressional<br>disapproval under chapter 8 of<br>title 5, United<br>States Code, of the rule<br>submitted by the<br>Environmental Protection<br>Agency relating to<br>\"Control of Air Pollution<br>From New Motor Vehicles:<br>Heavy-Duty Engine and<br>Vehicle Standards\".",
          "Preserving Choice in Vehicle Purchases Act",
          "Providing for congressional disapproval<br>under<br>chapter 8 of title 5, United States Code,<br>of the<br>rule submitted by the Department of<br>Labor relating<br>to \"Prudence and Loyalty in<br>Selecting Plan<br>Investments and Exercising<br>Shareholder Rights\".",
          "Disapproving the rule submitted by the<br>Department<br>of Commerce relating to \"Procedures<br>Covering<br>Suspension of Liquidation, Duties and<br>Estimated<br>Duties in Accord With Presidential<br>Proclamation<br>10414\".",
          "A joint resolution providing for<br>congressional<br>disapproval under chapter 8 of<br>title 5, United<br>States Code, of the rule<br>submitted by the Bureau<br>of Consumer Financial<br>Protection relating to<br>\"Small Business Lending<br>Under the Equal Credit<br>Opportunity Act<br>(Regulation B)\".",
          "Fourth Amendment Is Not For Sale Act",
          "Lower Energy Costs Act",
          "Schools Not Shelters Act",
          "Protecting our Communities from Failure to<br>Secure<br>the Border Act of 2023",
          "Mining Regulatory Clarity Act of 2024",
          "Providing for congressional disapproval<br>under<br>chapter 8 of title 5, United States Code,<br>of the<br>rule submitted by the Department of<br>Education<br>relating to \"Improving Income Driven<br>Repayment for<br>the William D. Ford Federal<br>Direct Loan Program<br>and the Federal Family<br>Education Loan (FFEL)<br>Program\".",
          "Providing for congressional disapproval<br>under<br>chapter 8 of title 5, United States Code,<br>of the<br>rule submitted by the National Labor<br>Relations<br>Board relating to \"Standard for<br>Determining Joint<br>Employer Status\".",
          "Choice in Automobile Retail Sales Act of 2023",
          "CBDC Anti-Surveillance State Act",
          "To terminate the requirement imposed by<br>the<br>Director of the Centers for Disease Control<br>and<br>Prevention for proof of COVID-19<br>vaccination for<br>foreign travelers, and for<br>other purposes.",
          "Providing for congressional disapproval<br>under<br>chapter 8 of title 5, United States Code,<br>of the<br>rule submitted by the Department of the<br>Army,<br>Corps of Engineers, Department of Defense<br>and the<br>Environmental Protection Agency<br>relating to<br>\"Revised Definition of 'Waters of<br>the United<br>States'\".",
          "Israel Security Supplemental Appropriations<br>Act,<br>2024",
          "Protecting Taxpayers and Victims of<br>Unemployment<br>Fraud Act",
          "Providing for congressional disapproval<br>under<br>chapter 8 of title 5, United States Code,<br>of the<br>rule submitted by the Department of the<br>Army,<br>Corps of Engineers, Department of Defense<br>and the<br>Environmental Protection Agency<br>relating to<br>\"Revised Definition of 'Waters of<br>the United<br>States'\".",
          "Relating to a national emergency declared by<br>the<br>President on March 13, 2020.",
          "Preserving Choice in Vehicle Purchases Act",
          "Federal Law Enforcement Officer Service<br>Weapon<br>Purchase Act",
          "Continuing Appropriations and Border<br>Security<br>Enhancement Act, 2024",
          "LEOSA Reform Act of 2024",
          "Disapproving the action of the District<br>of<br>Columbia Council in approving the<br>Comprehensive<br>Policing and Justice Reform<br>Amendment Act of 2022.",
          "Israel Security Assistance Support Act",
          "Disapproving the action of the District<br>of<br>Columbia Council in approving the<br>Comprehensive<br>Policing and Justice Reform<br>Amendment Act of 2022.",
          "Middle Class Borrower Protection Act of 2023",
          "D. C. Criminal Reforms to Immediately<br>Make<br>Everyone Safe Act of 2024",
          "Providing for congressional disapproval<br>under<br>chapter 8 of title 5, United States Code,<br>of the<br>rule submitted by the Securities and<br>Exchange<br>Commission relating to \"Staff<br>Accounting Bulletin<br>No. 121\".",
          "Agriculture, Rural Development, Food and<br>Drug<br>Administration, and Related<br>Agencies<br>Appropriations Act, 2024",
          "Gas Stove Protection and Freedom Act",
          "Save Our Gas Stoves Act",
          "DETERRENT Act",
          "Disapproving the action of the District<br>of<br>Columbia Council in approving the Revised<br>Criminal<br>Code Act of 2022.",
          "POLICE Act of 2023",
          "SAT Streamlining Act",
          "Illegitimate Court Counteraction Act",
          "Police Our Border Act",
          "Disapproving the action of the District<br>of<br>Columbia Council in approving the Local<br>Resident<br>Voting Rights Amendment Act of 2022.",
          "To provide for the rescission of certain<br>waivers<br>and licenses relating to Iran, and for<br>other<br>purposes.",
          "Detain and Deport Illegal Aliens Who Assault<br>Cops<br>Act",
          "To prohibit individuals who are not citizens<br>of<br>the United States from voting in elections<br>in the<br>District of Columbia and to repeal the<br>Local<br>Resident Voting Rights Amendment Act of<br>2022",
          "Iran Counterterrorism Act of 2023",
          "Reduce Exacerbated Inflation Negatively<br>Impacting<br>the Nation Act",
          "Reforming Intelligence and Securing America Act",
          "Reforming Intelligence and Securing America Act",
          "Iran Sanctions Relief Review Act of 2023",
          "Financial Innovation and Technology for the<br>21st<br>Century Act",
          "Standing Against Houthi Aggression Act",
          "HALT Fentanyl Act",
          "Expressing support for local law<br>enforcement<br>officers and condemning efforts to<br>defund or<br>dismantle local law enforcement<br>agencies.",
          "No Funds for Iranian Terrorism Act",
          "No U.S. Financing for Iran Act of 2023",
          "National Defense Authorization Act for Fiscal<br>Year<br>2024",
          "Ukraine Security Assistance and<br>Oversight<br>Supplemental Appropriations Act, 2024",
          "Fiscal Responsibility Act of 2023",
          "Ukraine Security Supplemental Appropriations<br>Act,<br>2024",
          "Directing the President, pursuant to section<br>5(c)<br>of the War Powers Resolution, to remove<br>the United<br>States Armed Forces from Syria.",
          "Directing the President, pursuant to section<br>5(c)<br>of the War Powers Resolution, to remove<br>all United<br>States Armed Forces, other than<br>United States<br>Armed Forces assigned to protect<br>the United States<br>Embassy, from Somalia.",
          "Antisemitism Awareness Act of 2023",
          "Whole Milk for Healthy Kids Act of 2023",
          "Further Continuing Appropriations and<br>Other<br>Extensions Act, 2024",
          "Denouncing the horrors of socialism.",
          "Promoting Opportunities for Non-<br>Traditional<br>Capital Formation Act",
          "Continuing Appropriations Act, 2024 and<br>Other<br>Extensions Act",
          "Ukraine Security Supplemental Appropriations<br>Act,<br>2024",
          "Lower Costs, More Transparency Act",
          "Sea Turtle Rescue Assistance and<br>Rehabilitation<br>Act of 2023",
          "Deploying American Blockchains Act of 2023",
          "Abandoned Well Remediation Research<br>and<br>Development Act",
          "Stop Harboring Iranian Petroleum Act",
          "Securing Growth and Robust Leadership in<br>American<br>Aviation Act",
          "Fire Weather Development Act of 2024",
          "Coastal Communities Ocean Acidification Act<br>of<br>2023",
          "Wastewater Infrastructure Pollution Prevention<br>and<br>Environmental Safety Act",
          "One Seat Ride Act",
          "To direct the Secretary of Energy to<br>provide<br>financial assistance to graduate<br>students and<br>postdoctoral researchers pursuing<br>certain courses<br>of study relating to<br>cybersecurity and energy<br>infrastructure, and<br>for other purposes.",
          "Improving Law Enforcement Officer Safety<br>and<br>Wellness Through Data Act",
          "21st Century Peace through Strength Act",
          "Advanced Weather Model Computing Development Act",
          "Israel Security Supplemental Appropriations<br>Act,<br>2024",
          "Enhancing Multi-Class Share Disclosures Act",
          "Hamas International Financing Prevention Act",
          "National Construction Safety Team Enhancement<br>Act<br>of 2024",
          "Privacy Enhancing Technology Research Act",
          "Carbon Sequestration Collaboration Act",
          "Special District Grant Accessibility Act",
          "Fort San Gerónimo Preservation Act",
          "National Telecommunications and<br>Information<br>Administration Reauthorization Act<br>of 2024",
          "To designate the facility of the United<br>States<br>Postal Service located at 220 North<br>Hatcher Avenue<br>in Purcellville, Virginia, as<br>the \"Secretary of<br>State Madeleine Albright Post<br>Office Building\".",
          "Youth Poisoning Protection Act",
          "Setting Consumer Standards for Lithium-<br>Ion<br>Batteries Act",
          "Native American Child Protection Act",
          "Support for Patients and<br>Communities<br>Reauthorization Act",
          "Indo-Pacific Security Supplemental<br>Appropriations<br>Act, 2024",
          "Recruit and Retain Act",
          "A Stronger Workforce for America Act",
          "National Museum of Play Recognition Act",
          "Relating to a national emergency declared by<br>the<br>President on October 27, 2006.",
          "Providing Appropriate Recognition and<br>Treatment<br>Needed to Enhance Relations with<br>ASEAN Act",
          "No Paydays for Hostage-Takers Act",
          "Relating to a national emergency declared by<br>the<br>President on February 25, 2011.",
          "Small Entity Update Act",
          "No Hidden Fees on Extra Expenses for Stays Act<br>of<br>2023",
          "Coast Guard Authorization Act of 2024",
          "Airport and Airway Extension Act of 2023, Part II",
          "Airport and Airway Extension Act of 2024, Part II",
          "Securing Growth and Robust Leadership in<br>American<br>Aviation Act",
          "Transparency In Charges for Key Events<br>Ticketing<br>Act",
          "Global Investment in American Jobs Act of 2023",
          "Promoting a Resolution to the Tibet-China<br>Dispute<br>Act",
          "Equal Opportunity for All Investors Act of 2023",
          "National Defense Authorization Act for Fiscal<br>Year<br>2024",
          "Relating to a national emergency declared by<br>the<br>President on May 16, 2012.",
          "To designate the facility of the United<br>States<br>Postal Service located at 15 South<br>Valdosta Road<br>in Lakeland, Georgia, as the<br>\"Nell Patten<br>Roquemore Post Office\".",
          "Foreign Affiliates Sharing Pilot Program<br>Extension<br>Act",
          "Relating to a national emergency declared by<br>the<br>President on May 22, 2003.",
          "Relating to a national emergency declared by<br>the<br>President on May 11, 2004.",
          "Encouraging Public Offerings Act of 2023",
          "Understanding Cybersecurity of Mobile Networks Act",
          "Promoting Resilient Supply Chains Act of 2023",
          "To amend the Internal Revenue Code of 1986<br>to<br>terminate the tax-exempt status of<br>terrorist<br>supporting organizations.",
          "Iran-China Energy Sanctions Act of 2023",
          "Information Quality Assurance Act",
          "Weather Research and Forecasting<br>Innovation<br>Reauthorization Act of 2023",
          "Federal Disaster Tax Relief Act of 2023",
          "An Act to amend the Federal Fire Prevention<br>and<br>Control Act of 1974 to authorize<br>appropriations<br>for the United States Fire<br>Administration and<br>firefighter assistance grant<br>programs.",
          "Middle Market IPO Underwriting Cost Act",
          "National Defense Authorization Act for Fiscal<br>Year<br>2024",
          "Duck Stamp Modernization Act of 2023",
          "To clarify jurisdiction with respect to<br>certain<br>Bureau of Reclamation pumped storage<br>development,<br>and for other purposes.",
          "Emergency Medical Services for<br>Children<br>Reauthorization Act of 2024",
          "Puyallup Tribe of Indians Land Into<br>Trust<br>Confirmation Act of 2023",
          "Improving Access to Small Business Information Act",
          "No Technology for Terror Act",
          "To direct the Secretary of State to submit<br>to<br>Congress a report on implementation of<br>the<br>advanced capabilities pillar of the<br>trilateral<br>security partnership between<br>Australia, the United<br>Kingdom, and the United<br>States.",
          "To designate the facility of the United<br>States<br>Postal Service located at 616 East Main<br>Street in<br>St. Charles, Illinois, as the<br>\"Veterans of the<br>Vietnam War Memorial Post<br>Office\".",
          "Federal Prison Oversight Act",
          "Solidify Iran Sanctions Act of 2023",
          "To amend title 5, United States Code, to limit<br>the<br>use of educational requirements or<br>qualifications<br>in evaluating candidates for<br>certain cybersecurity<br>positions in the<br>competitive service, and for<br>other purposes.",
          "Veterans Economic Opportunity and<br>Transition<br>Administration Act",
          "Informing Consumers about Smart Devices Act",
          "Countering Weapons of Mass Destruction<br>Extension<br>Act of 2023",
          "Iran Sanctions Accountability Act of 2023",
          "Fight CRIME Act",
          "China Financial Threat Mitigation Act of 2023",
          "Extending Limits of U.S. Customs Waters Act",
          "Illicit Captagon Trafficking Suppression Act<br>of<br>2023",
          "To amend the Taiwan Assurance Act of 2020<br>to<br>require periodic reviews and updated<br>reports<br>relating to the Department of State's<br>Taiwan<br>Guidelines.",
          "Housing our Military Veterans Effectively Act<br>of<br>2023",
          "Precision Agriculture Satellite Connectivity Act",
          "Dr. Emmanuel Bilirakis and Honorable<br>Jennifer<br>Wexton National Plan to End<br>Parkinson’s Act",
          "USA Act",
          "Student Veteran Benefit Restoration Act",
          "Preventing the Financing of Illegal<br>Synthetic<br>Drugs Act",
          "Special Envoy for the Abraham Accords Act",
          "VET–TEC Authorization Act of 2023",
          "Providing Accountability Through Transparency<br>Act<br>of 2023",
          "To designate the facility of the United<br>States<br>Postal Service located at 103 Benedette<br>Street in<br>Rayville, Louisiana, as the \"Luke<br>Letlow Post<br>Office Building\".",
          "ACRES Act",
          "Countering Untrusted Telecommunications Abroad Act",
          "Expressing the sense of Congress supporting<br>the<br>State of Israel.",
          "Authorizing the use of Emancipation Hall in<br>the<br>Capitol Visitor Center for a ceremony as<br>part of<br>the commemoration of the days of<br>remembrance of<br>victims of the Holocaust.",
          "Maternal and Child Health Stillbirth<br>Prevention<br>Act of 2024",
          "Debbie Smith Act of 2023",
          "Missing Children's Assistance Reauthorization<br>Act<br>of 2023",
          "MAHSA Act",
          "Veteran Entrepreneurship Training Act of 2023",
          "Protecting and Securing Chemical Facilities<br>from<br>Terrorist Attacks Act of 2023",
          "250th Anniversary of the United States<br>Marine<br>Corps Commemorative Coin Act",
          "To rename the Department of Veterans<br>Affairs<br>community-based outpatient clinic in<br>Hinesville,<br>Georgia, as the \"John Gibson, Dan<br>James, William<br>Sapp, and Frankie Smiley VA<br>Clinic\".",
          "Elizabeth Dole Home Care Act of 2023",
          "A bill to designate the clinic of the<br>Department<br>of Veterans Affairs in Gallup, New<br>Mexico, as the<br>Hiroshi \"Hershey\" Miyamura VA<br>Clinic.",
          "To designate the clinic of the Department<br>of<br>Veterans Affairs in Indian River, Michigan,<br>as the<br>\"Pfc. Justin T. Paton Department of<br>Veterans<br>Affairs Clinic\".",
          "Isakson-Roe Education Oversight Expansion Act",
          "Stop Forced Organ Harvesting Act of 2023",
          "NDO Fairness Act",
          "Veteran Fraud Reimbursement Act",
          "To extend the authority to collect Shasta-<br>Trinity<br>Marina fees through fiscal year 2029.",
          "Holding Iranian Leaders Accountable Act of 2023",
          "Strengthening Tools to Counter the Use of<br>Human<br>Shields Act",
          "PRC Is Not a Developing Country Act",
          "COVID-19 Origin Act of 2023",
          "Protect Small Business and Prevent<br>Illicit<br>Financial Activity Act",
          "Advanced, Local Emergency<br>Response<br>Telecommunications Parity Act",
          "A bill to amend title 38, United States Code,<br>to<br>strengthen benefits for children of<br>Vietnam<br>veterans born with spina bifida, and<br>for other<br>purposes.",
          "Wounded Warrior Access Act",
          "Protecting Hunting Heritage and Education Act",
          "Veterans Benefits Improvement Act of 2023",
          "TRANQ Research Act of 2023",
          "VA COST SAVINGS Enhancements Act"
         ],
         "xaxis": "x",
         "y": [
          222,
          217,
          217,
          217,
          217,
          221,
          217,
          220,
          222,
          219,
          217,
          217,
          219,
          221,
          217,
          220,
          222,
          217,
          217,
          220,
          222,
          220,
          221,
          218,
          222,
          221,
          219,
          218,
          221,
          217,
          222,
          221,
          221,
          222,
          222,
          217,
          221,
          221,
          217,
          222,
          217,
          222,
          221,
          222,
          221,
          220,
          221,
          221,
          222,
          222,
          222,
          218,
          221,
          222,
          222,
          221,
          222,
          221,
          217,
          220,
          222,
          221,
          222,
          217,
          220,
          222,
          221,
          222,
          221,
          222,
          222,
          218,
          222,
          217,
          221,
          217,
          221,
          221,
          221,
          221,
          222,
          221,
          218,
          222,
          222,
          222,
          217,
          220,
          216,
          220,
          217,
          222,
          221,
          221,
          222,
          221,
          221,
          222,
          221,
          221,
          217,
          222,
          217,
          222,
          221,
          217,
          216,
          221,
          221,
          221,
          220,
          222,
          222,
          221,
          218,
          217,
          222,
          218,
          217,
          217,
          218,
          222,
          218,
          217,
          218,
          217,
          218,
          222,
          221,
          222,
          218,
          221,
          221,
          222,
          218,
          222,
          221,
          217,
          220,
          221,
          222,
          221,
          221,
          218,
          220,
          217,
          217,
          216,
          221,
          221,
          216,
          221,
          217,
          220,
          221,
          217,
          218,
          221,
          218,
          222,
          220,
          216,
          216,
          217,
          217,
          220,
          217,
          216,
          216,
          217,
          220,
          220,
          218,
          217,
          217,
          218,
          221,
          222,
          218,
          221,
          222,
          217,
          217,
          220,
          217,
          217,
          217,
          221,
          218,
          222,
          221,
          221,
          218,
          220,
          221,
          221,
          221,
          221,
          217,
          217,
          217,
          217,
          216,
          216,
          217,
          221,
          221,
          220,
          220,
          217,
          217,
          221,
          218,
          221,
          221,
          216,
          218,
          221,
          216,
          221,
          220,
          218,
          221,
          221,
          216,
          218,
          221,
          220,
          222,
          221,
          221,
          216,
          221,
          221,
          222,
          221,
          217,
          221,
          222,
          221,
          222,
          216,
          220,
          217,
          221,
          221,
          221,
          221,
          220,
          221,
          220,
          221,
          220,
          221,
          222,
          216,
          221,
          218,
          218,
          221,
          222,
          220,
          221,
          221,
          222,
          221,
          221,
          222,
          221
         ],
         "yaxis": "y"
        },
        {
         "alignmentgroup": "True",
         "hovertemplate": "Party=I_total<br>title=%{x}<br>Number of Votes=%{y}<extra></extra>",
         "legendgroup": "I_total",
         "marker": {
          "color": "#00cc96",
          "pattern": {
           "shape": ""
          }
         },
         "name": "I_total",
         "offsetgroup": "I_total",
         "orientation": "v",
         "showlegend": true,
         "textposition": "auto",
         "type": "bar",
         "x": [
          "Limit, Save, Grow Act of 2023",
          "Hands Off Our Home Appliances Act",
          "Trust the Science Act",
          "Equal Representation Act",
          "Equal Representation Act",
          "Department of State, Foreign Operations,<br>and<br>Related Programs Appropriations Act, 2024",
          "Superior National Forest Restoration Act",
          "Ensuring Accountability in Agency Rulemaking Act",
          "Parents Bill of Rights Act",
          "Cutting Green Corruption and Taxes Act",
          "Mining Regulatory Clarity Act of 2024",
          "Trust the Science Act",
          "Cutting Green Corruption and Taxes Act",
          "Agriculture, Rural Development, Food and<br>Drug<br>Administration, and Related<br>Agencies<br>Appropriations Act, 2024",
          "Mining Regulatory Clarity Act of 2024",
          "Continuing Appropriations and Border<br>Security<br>Enhancement Act, 2024",
          "Secure the Border Act of 2023",
          "Western Economic Security Today Act of 2024",
          "Protecting Access for Hunters and Anglers Act<br>of<br>2023",
          "Department of State, Foreign Operations,<br>and<br>Related Programs Appropriations Act, 2024",
          "National Defense Authorization Act for Fiscal<br>Year<br>2024",
          "Legislative Branch Appropriations Act, 2024",
          "Department of Defense Appropriations Act, 2024",
          "Creating Confidence in Clean Water Permitting Act",
          "Consolidated Appropriations Act, 2024",
          "Department of Defense Appropriations Act, 2024",
          "Creating Confidence in Clean Water Permitting Act",
          "Military Construction, Veterans Affairs,<br>and<br>Related Agencies Appropriations Act, 2025",
          "Department of Homeland Security<br>Appropriations<br>Act, 2024",
          "Israel Security Assistance Support Act",
          "National Defense Authorization Act for Fiscal<br>Year<br>2024",
          "National Defense Authorization Act for Fiscal<br>Year<br>2024",
          "SOPRA",
          "Providing for congressional disapproval<br>under<br>chapter 8 of title 5, United States Code,<br>of the<br>rule submitted by the Bureau of Alcohol,<br>Tobacco,<br>Firearms, and Explosives relating to<br>\"Factoring<br>Criteria for Firearms with Attached<br>'Stabilizing<br>Braces'\".",
          "Disapproving the rule submitted by the<br>Department<br>of Commerce relating to \"Procedures<br>Covering<br>Suspension of Liquidation, Duties and<br>Estimated<br>Duties in Accord With Presidential<br>Proclamation<br>10414\".",
          "Superior National Forest Restoration Act",
          "SOPRA",
          "REINS Act of 2023",
          "Alaska’s Right to Produce Act of 2023",
          "Secure the Border Act of 2023",
          "Western Economic Security Today Act of 2024",
          "Limit, Save, Grow Act of 2023",
          "Department of the Interior, Environment,<br>and<br>Related Agencies Appropriations Act, 2024",
          "Pandemic is Over Act",
          "REINS Act of 2023",
          "Energy and Water Development and Related<br>Agencies<br>Appropriations Act, 2024",
          "Energy and Water Development and Related<br>Agencies<br>Appropriations Act, 2024",
          "A joint resolution providing for<br>congressional<br>disapproval under chapter 8 of<br>title 5, United<br>States Code, of the rule<br>submitted by the United<br>States Fish and<br>Wildlife Service relating to<br>\"Endangered and<br>Threatened Wildlife and Plants;<br>Endangered<br>Species Status for Northern Long-Eared<br>Bat\".",
          "Protecting Taxpayers and Victims of<br>Unemployment<br>Fraud Act",
          "CHOICE Arrangement Act",
          "CHOICE Arrangement Act",
          "Military Construction, Veterans Affairs,<br>and<br>Related Agencies Appropriations Act, 2025",
          "Department of Homeland Security<br>Appropriations<br>Act, 2024",
          "Schools Not Shelters Act",
          "To terminate the requirement imposed by<br>the<br>Director of the Centers for Disease Control<br>and<br>Prevention for proof of COVID-19<br>vaccination for<br>foreign travelers, and for<br>other purposes.",
          "Providing for congressional disapproval<br>under<br>chapter 8 of title 5, United States Code,<br>of the<br>rule submitted by the Department of<br>Labor relating<br>to \"Prudence and Loyalty in<br>Selecting Plan<br>Investments and Exercising<br>Shareholder Rights\".",
          "Consolidated Appropriations Act, 2024",
          "Protecting Speech from Government Interference Act",
          "Protecting Access for Hunters and Anglers Act<br>of<br>2023",
          "Choice in Automobile Retail Sales Act of 2023",
          "Protection of Women and Girls in Sports Act<br>of<br>2023",
          "Department of the Interior, Environment,<br>and<br>Related Agencies Appropriations Act, 2024",
          "Protecting Speech from Government Interference Act",
          "Alaska’s Right to Produce Act of 2023",
          "Ensuring Accountability in Agency Rulemaking Act",
          "Lower Energy Costs Act",
          "Parents Bill of Rights Act",
          "A joint resolution providing for<br>congressional<br>disapproval under chapter 8 of<br>title 5, United<br>States Code, of the rule<br>submitted by the United<br>States Fish and<br>Wildlife Service relating to<br>\"Endangered and<br>Threatened Wildlife and Plants;<br>Lesser Prairie-<br>Chicken; Threatened Status with<br>Section 4(d)<br>Rule for the Northern Distinct<br>Population<br>Segment and Endangered Status for the<br>Southern<br>Distinct Population Segment\".",
          "SHOW UP Act of 2023",
          "Providing for congressional disapproval<br>under<br>chapter 8 of title 5, United States Code,<br>of the<br>rule submitted by the Department of<br>Education<br>relating to \"Waivers and<br>Modifications of Federal<br>Student Loans\".",
          "Providing for congressional disapproval<br>under<br>chapter 8 of title 5, United States Code,<br>of the<br>rule submitted by the Department of<br>Education<br>relating to \"Waivers and<br>Modifications of Federal<br>Student Loans\".",
          "Transnational Criminal Organization<br>Illicit<br>Spotter Prevention and Elimination Act",
          "Protection of Women and Girls in Sports Act<br>of<br>2023",
          "Hands Off Our Home Appliances Act",
          "Middle Class Borrower Protection Act of 2023",
          "To prohibit individuals who are not citizens<br>of<br>the United States from voting in elections<br>in the<br>District of Columbia and to repeal the<br>Local<br>Resident Voting Rights Amendment Act of<br>2022",
          "Legislative Branch Appropriations Act, 2024",
          "A joint resolution providing for<br>congressional<br>disapproval under chapter 8 of<br>title 5, United<br>States Code, of the rule<br>submitted by the<br>Environmental Protection<br>Agency relating to<br>\"Control of Air Pollution<br>From New Motor Vehicles:<br>Heavy-Duty Engine and<br>Vehicle Standards\".",
          "Preserving Choice in Vehicle Purchases Act",
          "Providing for congressional disapproval<br>under<br>chapter 8 of title 5, United States Code,<br>of the<br>rule submitted by the Department of<br>Labor relating<br>to \"Prudence and Loyalty in<br>Selecting Plan<br>Investments and Exercising<br>Shareholder Rights\".",
          "Disapproving the rule submitted by the<br>Department<br>of Commerce relating to \"Procedures<br>Covering<br>Suspension of Liquidation, Duties and<br>Estimated<br>Duties in Accord With Presidential<br>Proclamation<br>10414\".",
          "A joint resolution providing for<br>congressional<br>disapproval under chapter 8 of<br>title 5, United<br>States Code, of the rule<br>submitted by the Bureau<br>of Consumer Financial<br>Protection relating to<br>\"Small Business Lending<br>Under the Equal Credit<br>Opportunity Act<br>(Regulation B)\".",
          "Fourth Amendment Is Not For Sale Act",
          "Lower Energy Costs Act",
          "Schools Not Shelters Act",
          "Protecting our Communities from Failure to<br>Secure<br>the Border Act of 2023",
          "Mining Regulatory Clarity Act of 2024",
          "Providing for congressional disapproval<br>under<br>chapter 8 of title 5, United States Code,<br>of the<br>rule submitted by the Department of<br>Education<br>relating to \"Improving Income Driven<br>Repayment for<br>the William D. Ford Federal<br>Direct Loan Program<br>and the Federal Family<br>Education Loan (FFEL)<br>Program\".",
          "Providing for congressional disapproval<br>under<br>chapter 8 of title 5, United States Code,<br>of the<br>rule submitted by the National Labor<br>Relations<br>Board relating to \"Standard for<br>Determining Joint<br>Employer Status\".",
          "Choice in Automobile Retail Sales Act of 2023",
          "CBDC Anti-Surveillance State Act",
          "To terminate the requirement imposed by<br>the<br>Director of the Centers for Disease Control<br>and<br>Prevention for proof of COVID-19<br>vaccination for<br>foreign travelers, and for<br>other purposes.",
          "Providing for congressional disapproval<br>under<br>chapter 8 of title 5, United States Code,<br>of the<br>rule submitted by the Department of the<br>Army,<br>Corps of Engineers, Department of Defense<br>and the<br>Environmental Protection Agency<br>relating to<br>\"Revised Definition of 'Waters of<br>the United<br>States'\".",
          "Israel Security Supplemental Appropriations<br>Act,<br>2024",
          "Protecting Taxpayers and Victims of<br>Unemployment<br>Fraud Act",
          "Providing for congressional disapproval<br>under<br>chapter 8 of title 5, United States Code,<br>of the<br>rule submitted by the Department of the<br>Army,<br>Corps of Engineers, Department of Defense<br>and the<br>Environmental Protection Agency<br>relating to<br>\"Revised Definition of 'Waters of<br>the United<br>States'\".",
          "Relating to a national emergency declared by<br>the<br>President on March 13, 2020.",
          "Preserving Choice in Vehicle Purchases Act",
          "Federal Law Enforcement Officer Service<br>Weapon<br>Purchase Act",
          "Continuing Appropriations and Border<br>Security<br>Enhancement Act, 2024",
          "LEOSA Reform Act of 2024",
          "Disapproving the action of the District<br>of<br>Columbia Council in approving the<br>Comprehensive<br>Policing and Justice Reform<br>Amendment Act of 2022.",
          "Israel Security Assistance Support Act",
          "Disapproving the action of the District<br>of<br>Columbia Council in approving the<br>Comprehensive<br>Policing and Justice Reform<br>Amendment Act of 2022.",
          "Middle Class Borrower Protection Act of 2023",
          "D. C. Criminal Reforms to Immediately<br>Make<br>Everyone Safe Act of 2024",
          "Providing for congressional disapproval<br>under<br>chapter 8 of title 5, United States Code,<br>of the<br>rule submitted by the Securities and<br>Exchange<br>Commission relating to \"Staff<br>Accounting Bulletin<br>No. 121\".",
          "Agriculture, Rural Development, Food and<br>Drug<br>Administration, and Related<br>Agencies<br>Appropriations Act, 2024",
          "Gas Stove Protection and Freedom Act",
          "Save Our Gas Stoves Act",
          "DETERRENT Act",
          "Disapproving the action of the District<br>of<br>Columbia Council in approving the Revised<br>Criminal<br>Code Act of 2022.",
          "POLICE Act of 2023",
          "SAT Streamlining Act",
          "Illegitimate Court Counteraction Act",
          "Police Our Border Act",
          "Disapproving the action of the District<br>of<br>Columbia Council in approving the Local<br>Resident<br>Voting Rights Amendment Act of 2022.",
          "To provide for the rescission of certain<br>waivers<br>and licenses relating to Iran, and for<br>other<br>purposes.",
          "Detain and Deport Illegal Aliens Who Assault<br>Cops<br>Act",
          "To prohibit individuals who are not citizens<br>of<br>the United States from voting in elections<br>in the<br>District of Columbia and to repeal the<br>Local<br>Resident Voting Rights Amendment Act of<br>2022",
          "Iran Counterterrorism Act of 2023",
          "Reduce Exacerbated Inflation Negatively<br>Impacting<br>the Nation Act",
          "Reforming Intelligence and Securing America Act",
          "Reforming Intelligence and Securing America Act",
          "Iran Sanctions Relief Review Act of 2023",
          "Financial Innovation and Technology for the<br>21st<br>Century Act",
          "Standing Against Houthi Aggression Act",
          "HALT Fentanyl Act",
          "Expressing support for local law<br>enforcement<br>officers and condemning efforts to<br>defund or<br>dismantle local law enforcement<br>agencies.",
          "No Funds for Iranian Terrorism Act",
          "No U.S. Financing for Iran Act of 2023",
          "National Defense Authorization Act for Fiscal<br>Year<br>2024",
          "Ukraine Security Assistance and<br>Oversight<br>Supplemental Appropriations Act, 2024",
          "Fiscal Responsibility Act of 2023",
          "Ukraine Security Supplemental Appropriations<br>Act,<br>2024",
          "Directing the President, pursuant to section<br>5(c)<br>of the War Powers Resolution, to remove<br>the United<br>States Armed Forces from Syria.",
          "Directing the President, pursuant to section<br>5(c)<br>of the War Powers Resolution, to remove<br>all United<br>States Armed Forces, other than<br>United States<br>Armed Forces assigned to protect<br>the United States<br>Embassy, from Somalia.",
          "Antisemitism Awareness Act of 2023",
          "Whole Milk for Healthy Kids Act of 2023",
          "Further Continuing Appropriations and<br>Other<br>Extensions Act, 2024",
          "Denouncing the horrors of socialism.",
          "Promoting Opportunities for Non-<br>Traditional<br>Capital Formation Act",
          "Continuing Appropriations Act, 2024 and<br>Other<br>Extensions Act",
          "Ukraine Security Supplemental Appropriations<br>Act,<br>2024",
          "Lower Costs, More Transparency Act",
          "Sea Turtle Rescue Assistance and<br>Rehabilitation<br>Act of 2023",
          "Deploying American Blockchains Act of 2023",
          "Abandoned Well Remediation Research<br>and<br>Development Act",
          "Stop Harboring Iranian Petroleum Act",
          "Securing Growth and Robust Leadership in<br>American<br>Aviation Act",
          "Fire Weather Development Act of 2024",
          "Coastal Communities Ocean Acidification Act<br>of<br>2023",
          "Wastewater Infrastructure Pollution Prevention<br>and<br>Environmental Safety Act",
          "One Seat Ride Act",
          "To direct the Secretary of Energy to<br>provide<br>financial assistance to graduate<br>students and<br>postdoctoral researchers pursuing<br>certain courses<br>of study relating to<br>cybersecurity and energy<br>infrastructure, and<br>for other purposes.",
          "Improving Law Enforcement Officer Safety<br>and<br>Wellness Through Data Act",
          "21st Century Peace through Strength Act",
          "Advanced Weather Model Computing Development Act",
          "Israel Security Supplemental Appropriations<br>Act,<br>2024",
          "Enhancing Multi-Class Share Disclosures Act",
          "Hamas International Financing Prevention Act",
          "National Construction Safety Team Enhancement<br>Act<br>of 2024",
          "Privacy Enhancing Technology Research Act",
          "Carbon Sequestration Collaboration Act",
          "Special District Grant Accessibility Act",
          "Fort San Gerónimo Preservation Act",
          "National Telecommunications and<br>Information<br>Administration Reauthorization Act<br>of 2024",
          "To designate the facility of the United<br>States<br>Postal Service located at 220 North<br>Hatcher Avenue<br>in Purcellville, Virginia, as<br>the \"Secretary of<br>State Madeleine Albright Post<br>Office Building\".",
          "Youth Poisoning Protection Act",
          "Setting Consumer Standards for Lithium-<br>Ion<br>Batteries Act",
          "Native American Child Protection Act",
          "Support for Patients and<br>Communities<br>Reauthorization Act",
          "Indo-Pacific Security Supplemental<br>Appropriations<br>Act, 2024",
          "Recruit and Retain Act",
          "A Stronger Workforce for America Act",
          "National Museum of Play Recognition Act",
          "Relating to a national emergency declared by<br>the<br>President on October 27, 2006.",
          "Providing Appropriate Recognition and<br>Treatment<br>Needed to Enhance Relations with<br>ASEAN Act",
          "No Paydays for Hostage-Takers Act",
          "Relating to a national emergency declared by<br>the<br>President on February 25, 2011.",
          "Small Entity Update Act",
          "No Hidden Fees on Extra Expenses for Stays Act<br>of<br>2023",
          "Coast Guard Authorization Act of 2024",
          "Airport and Airway Extension Act of 2023, Part II",
          "Airport and Airway Extension Act of 2024, Part II",
          "Securing Growth and Robust Leadership in<br>American<br>Aviation Act",
          "Transparency In Charges for Key Events<br>Ticketing<br>Act",
          "Global Investment in American Jobs Act of 2023",
          "Promoting a Resolution to the Tibet-China<br>Dispute<br>Act",
          "Equal Opportunity for All Investors Act of 2023",
          "National Defense Authorization Act for Fiscal<br>Year<br>2024",
          "Relating to a national emergency declared by<br>the<br>President on May 16, 2012.",
          "To designate the facility of the United<br>States<br>Postal Service located at 15 South<br>Valdosta Road<br>in Lakeland, Georgia, as the<br>\"Nell Patten<br>Roquemore Post Office\".",
          "Foreign Affiliates Sharing Pilot Program<br>Extension<br>Act",
          "Relating to a national emergency declared by<br>the<br>President on May 22, 2003.",
          "Relating to a national emergency declared by<br>the<br>President on May 11, 2004.",
          "Encouraging Public Offerings Act of 2023",
          "Understanding Cybersecurity of Mobile Networks Act",
          "Promoting Resilient Supply Chains Act of 2023",
          "To amend the Internal Revenue Code of 1986<br>to<br>terminate the tax-exempt status of<br>terrorist<br>supporting organizations.",
          "Iran-China Energy Sanctions Act of 2023",
          "Information Quality Assurance Act",
          "Weather Research and Forecasting<br>Innovation<br>Reauthorization Act of 2023",
          "Federal Disaster Tax Relief Act of 2023",
          "An Act to amend the Federal Fire Prevention<br>and<br>Control Act of 1974 to authorize<br>appropriations<br>for the United States Fire<br>Administration and<br>firefighter assistance grant<br>programs.",
          "Middle Market IPO Underwriting Cost Act",
          "National Defense Authorization Act for Fiscal<br>Year<br>2024",
          "Duck Stamp Modernization Act of 2023",
          "To clarify jurisdiction with respect to<br>certain<br>Bureau of Reclamation pumped storage<br>development,<br>and for other purposes.",
          "Emergency Medical Services for<br>Children<br>Reauthorization Act of 2024",
          "Puyallup Tribe of Indians Land Into<br>Trust<br>Confirmation Act of 2023",
          "Improving Access to Small Business Information Act",
          "No Technology for Terror Act",
          "To direct the Secretary of State to submit<br>to<br>Congress a report on implementation of<br>the<br>advanced capabilities pillar of the<br>trilateral<br>security partnership between<br>Australia, the United<br>Kingdom, and the United<br>States.",
          "To designate the facility of the United<br>States<br>Postal Service located at 616 East Main<br>Street in<br>St. Charles, Illinois, as the<br>\"Veterans of the<br>Vietnam War Memorial Post<br>Office\".",
          "Federal Prison Oversight Act",
          "Solidify Iran Sanctions Act of 2023",
          "To amend title 5, United States Code, to limit<br>the<br>use of educational requirements or<br>qualifications<br>in evaluating candidates for<br>certain cybersecurity<br>positions in the<br>competitive service, and for<br>other purposes.",
          "Veterans Economic Opportunity and<br>Transition<br>Administration Act",
          "Informing Consumers about Smart Devices Act",
          "Countering Weapons of Mass Destruction<br>Extension<br>Act of 2023",
          "Iran Sanctions Accountability Act of 2023",
          "Fight CRIME Act",
          "China Financial Threat Mitigation Act of 2023",
          "Extending Limits of U.S. Customs Waters Act",
          "Illicit Captagon Trafficking Suppression Act<br>of<br>2023",
          "To amend the Taiwan Assurance Act of 2020<br>to<br>require periodic reviews and updated<br>reports<br>relating to the Department of State's<br>Taiwan<br>Guidelines.",
          "Housing our Military Veterans Effectively Act<br>of<br>2023",
          "Precision Agriculture Satellite Connectivity Act",
          "Dr. Emmanuel Bilirakis and Honorable<br>Jennifer<br>Wexton National Plan to End<br>Parkinson’s Act",
          "USA Act",
          "Student Veteran Benefit Restoration Act",
          "Preventing the Financing of Illegal<br>Synthetic<br>Drugs Act",
          "Special Envoy for the Abraham Accords Act",
          "VET–TEC Authorization Act of 2023",
          "Providing Accountability Through Transparency<br>Act<br>of 2023",
          "To designate the facility of the United<br>States<br>Postal Service located at 103 Benedette<br>Street in<br>Rayville, Louisiana, as the \"Luke<br>Letlow Post<br>Office Building\".",
          "ACRES Act",
          "Countering Untrusted Telecommunications Abroad Act",
          "Expressing the sense of Congress supporting<br>the<br>State of Israel.",
          "Authorizing the use of Emancipation Hall in<br>the<br>Capitol Visitor Center for a ceremony as<br>part of<br>the commemoration of the days of<br>remembrance of<br>victims of the Holocaust.",
          "Maternal and Child Health Stillbirth<br>Prevention<br>Act of 2024",
          "Debbie Smith Act of 2023",
          "Missing Children's Assistance Reauthorization<br>Act<br>of 2023",
          "MAHSA Act",
          "Veteran Entrepreneurship Training Act of 2023",
          "Protecting and Securing Chemical Facilities<br>from<br>Terrorist Attacks Act of 2023",
          "250th Anniversary of the United States<br>Marine<br>Corps Commemorative Coin Act",
          "To rename the Department of Veterans<br>Affairs<br>community-based outpatient clinic in<br>Hinesville,<br>Georgia, as the \"John Gibson, Dan<br>James, William<br>Sapp, and Frankie Smiley VA<br>Clinic\".",
          "Elizabeth Dole Home Care Act of 2023",
          "A bill to designate the clinic of the<br>Department<br>of Veterans Affairs in Gallup, New<br>Mexico, as the<br>Hiroshi \"Hershey\" Miyamura VA<br>Clinic.",
          "To designate the clinic of the Department<br>of<br>Veterans Affairs in Indian River, Michigan,<br>as the<br>\"Pfc. Justin T. Paton Department of<br>Veterans<br>Affairs Clinic\".",
          "Isakson-Roe Education Oversight Expansion Act",
          "Stop Forced Organ Harvesting Act of 2023",
          "NDO Fairness Act",
          "Veteran Fraud Reimbursement Act",
          "To extend the authority to collect Shasta-<br>Trinity<br>Marina fees through fiscal year 2029.",
          "Holding Iranian Leaders Accountable Act of 2023",
          "Strengthening Tools to Counter the Use of<br>Human<br>Shields Act",
          "PRC Is Not a Developing Country Act",
          "COVID-19 Origin Act of 2023",
          "Protect Small Business and Prevent<br>Illicit<br>Financial Activity Act",
          "Advanced, Local Emergency<br>Response<br>Telecommunications Parity Act",
          "A bill to amend title 38, United States Code,<br>to<br>strengthen benefits for children of<br>Vietnam<br>veterans born with spina bifida, and<br>for other<br>purposes.",
          "Wounded Warrior Access Act",
          "Protecting Hunting Heritage and Education Act",
          "Veterans Benefits Improvement Act of 2023",
          "TRANQ Research Act of 2023",
          "VA COST SAVINGS Enhancements Act"
         ],
         "xaxis": "x",
         "y": [
          0,
          0,
          0,
          0,
          0,
          0,
          0,
          0,
          0,
          0,
          0,
          0,
          0,
          0,
          0,
          0,
          0,
          0,
          0,
          0,
          0,
          0,
          0,
          0,
          0,
          0,
          0,
          0,
          0,
          0,
          0,
          0,
          0,
          0,
          0,
          0,
          0,
          0,
          0,
          0,
          0,
          0,
          0,
          0,
          0,
          0,
          0,
          0,
          0,
          0,
          0,
          0,
          0,
          0,
          0,
          0,
          0,
          0,
          0,
          0,
          0,
          0,
          0,
          0,
          0,
          0,
          0,
          0,
          0,
          0,
          0,
          0,
          0,
          0,
          0,
          0,
          0,
          0,
          0,
          0,
          0,
          0,
          0,
          0,
          0,
          0,
          0,
          0,
          0,
          0,
          0,
          0,
          0,
          0,
          0,
          0,
          0,
          0,
          0,
          0,
          0,
          0,
          0,
          0,
          0,
          0,
          0,
          0,
          0,
          0,
          0,
          0,
          0,
          0,
          0,
          0,
          0,
          0,
          0,
          0,
          0,
          0,
          0,
          0,
          0,
          0,
          0,
          0,
          0,
          0,
          0,
          0,
          0,
          0,
          0,
          0,
          0,
          0,
          0,
          0,
          0,
          0,
          0,
          0,
          0,
          0,
          0,
          0,
          0,
          0,
          0,
          0,
          0,
          0,
          0,
          0,
          0,
          0,
          0,
          0,
          0,
          0,
          0,
          0,
          0,
          0,
          0,
          0,
          0,
          0,
          0,
          0,
          0,
          0,
          0,
          0,
          0,
          0,
          0,
          0,
          0,
          0,
          0,
          0,
          0,
          0,
          0,
          0,
          0,
          0,
          0,
          0,
          0,
          0,
          0,
          0,
          0,
          0,
          0,
          0,
          0,
          0,
          0,
          0,
          0,
          0,
          0,
          0,
          0,
          0,
          0,
          0,
          0,
          0,
          0,
          0,
          0,
          0,
          0,
          0,
          0,
          0,
          0,
          0,
          0,
          0,
          0,
          0,
          0,
          0,
          0,
          0,
          0,
          0,
          0,
          0,
          0,
          0,
          0,
          0,
          0,
          0,
          0,
          0,
          0,
          0,
          0,
          0,
          0,
          0,
          0,
          0,
          0,
          0,
          0,
          0,
          0,
          0,
          0,
          0,
          0,
          0,
          0,
          0,
          0,
          0,
          0,
          0,
          0
         ],
         "yaxis": "y"
        }
       ],
       "layout": {
        "autosize": true,
        "barmode": "relative",
        "legend": {
         "title": {
          "text": "Party"
         },
         "tracegroupgap": 0
        },
        "template": {
         "data": {
          "bar": [
           {
            "error_x": {
             "color": "#2a3f5f"
            },
            "error_y": {
             "color": "#2a3f5f"
            },
            "marker": {
             "line": {
              "color": "#E5ECF6",
              "width": 0.5
             },
             "pattern": {
              "fillmode": "overlay",
              "size": 10,
              "solidity": 0.2
             }
            },
            "type": "bar"
           }
          ],
          "barpolar": [
           {
            "marker": {
             "line": {
              "color": "#E5ECF6",
              "width": 0.5
             },
             "pattern": {
              "fillmode": "overlay",
              "size": 10,
              "solidity": 0.2
             }
            },
            "type": "barpolar"
           }
          ],
          "carpet": [
           {
            "aaxis": {
             "endlinecolor": "#2a3f5f",
             "gridcolor": "white",
             "linecolor": "white",
             "minorgridcolor": "white",
             "startlinecolor": "#2a3f5f"
            },
            "baxis": {
             "endlinecolor": "#2a3f5f",
             "gridcolor": "white",
             "linecolor": "white",
             "minorgridcolor": "white",
             "startlinecolor": "#2a3f5f"
            },
            "type": "carpet"
           }
          ],
          "choropleth": [
           {
            "colorbar": {
             "outlinewidth": 0,
             "ticks": ""
            },
            "type": "choropleth"
           }
          ],
          "contour": [
           {
            "colorbar": {
             "outlinewidth": 0,
             "ticks": ""
            },
            "colorscale": [
             [
              0,
              "#0d0887"
             ],
             [
              0.1111111111111111,
              "#46039f"
             ],
             [
              0.2222222222222222,
              "#7201a8"
             ],
             [
              0.3333333333333333,
              "#9c179e"
             ],
             [
              0.4444444444444444,
              "#bd3786"
             ],
             [
              0.5555555555555556,
              "#d8576b"
             ],
             [
              0.6666666666666666,
              "#ed7953"
             ],
             [
              0.7777777777777778,
              "#fb9f3a"
             ],
             [
              0.8888888888888888,
              "#fdca26"
             ],
             [
              1,
              "#f0f921"
             ]
            ],
            "type": "contour"
           }
          ],
          "contourcarpet": [
           {
            "colorbar": {
             "outlinewidth": 0,
             "ticks": ""
            },
            "type": "contourcarpet"
           }
          ],
          "heatmap": [
           {
            "colorbar": {
             "outlinewidth": 0,
             "ticks": ""
            },
            "colorscale": [
             [
              0,
              "#0d0887"
             ],
             [
              0.1111111111111111,
              "#46039f"
             ],
             [
              0.2222222222222222,
              "#7201a8"
             ],
             [
              0.3333333333333333,
              "#9c179e"
             ],
             [
              0.4444444444444444,
              "#bd3786"
             ],
             [
              0.5555555555555556,
              "#d8576b"
             ],
             [
              0.6666666666666666,
              "#ed7953"
             ],
             [
              0.7777777777777778,
              "#fb9f3a"
             ],
             [
              0.8888888888888888,
              "#fdca26"
             ],
             [
              1,
              "#f0f921"
             ]
            ],
            "type": "heatmap"
           }
          ],
          "heatmapgl": [
           {
            "colorbar": {
             "outlinewidth": 0,
             "ticks": ""
            },
            "colorscale": [
             [
              0,
              "#0d0887"
             ],
             [
              0.1111111111111111,
              "#46039f"
             ],
             [
              0.2222222222222222,
              "#7201a8"
             ],
             [
              0.3333333333333333,
              "#9c179e"
             ],
             [
              0.4444444444444444,
              "#bd3786"
             ],
             [
              0.5555555555555556,
              "#d8576b"
             ],
             [
              0.6666666666666666,
              "#ed7953"
             ],
             [
              0.7777777777777778,
              "#fb9f3a"
             ],
             [
              0.8888888888888888,
              "#fdca26"
             ],
             [
              1,
              "#f0f921"
             ]
            ],
            "type": "heatmapgl"
           }
          ],
          "histogram": [
           {
            "marker": {
             "pattern": {
              "fillmode": "overlay",
              "size": 10,
              "solidity": 0.2
             }
            },
            "type": "histogram"
           }
          ],
          "histogram2d": [
           {
            "colorbar": {
             "outlinewidth": 0,
             "ticks": ""
            },
            "colorscale": [
             [
              0,
              "#0d0887"
             ],
             [
              0.1111111111111111,
              "#46039f"
             ],
             [
              0.2222222222222222,
              "#7201a8"
             ],
             [
              0.3333333333333333,
              "#9c179e"
             ],
             [
              0.4444444444444444,
              "#bd3786"
             ],
             [
              0.5555555555555556,
              "#d8576b"
             ],
             [
              0.6666666666666666,
              "#ed7953"
             ],
             [
              0.7777777777777778,
              "#fb9f3a"
             ],
             [
              0.8888888888888888,
              "#fdca26"
             ],
             [
              1,
              "#f0f921"
             ]
            ],
            "type": "histogram2d"
           }
          ],
          "histogram2dcontour": [
           {
            "colorbar": {
             "outlinewidth": 0,
             "ticks": ""
            },
            "colorscale": [
             [
              0,
              "#0d0887"
             ],
             [
              0.1111111111111111,
              "#46039f"
             ],
             [
              0.2222222222222222,
              "#7201a8"
             ],
             [
              0.3333333333333333,
              "#9c179e"
             ],
             [
              0.4444444444444444,
              "#bd3786"
             ],
             [
              0.5555555555555556,
              "#d8576b"
             ],
             [
              0.6666666666666666,
              "#ed7953"
             ],
             [
              0.7777777777777778,
              "#fb9f3a"
             ],
             [
              0.8888888888888888,
              "#fdca26"
             ],
             [
              1,
              "#f0f921"
             ]
            ],
            "type": "histogram2dcontour"
           }
          ],
          "mesh3d": [
           {
            "colorbar": {
             "outlinewidth": 0,
             "ticks": ""
            },
            "type": "mesh3d"
           }
          ],
          "parcoords": [
           {
            "line": {
             "colorbar": {
              "outlinewidth": 0,
              "ticks": ""
             }
            },
            "type": "parcoords"
           }
          ],
          "pie": [
           {
            "automargin": true,
            "type": "pie"
           }
          ],
          "scatter": [
           {
            "fillpattern": {
             "fillmode": "overlay",
             "size": 10,
             "solidity": 0.2
            },
            "type": "scatter"
           }
          ],
          "scatter3d": [
           {
            "line": {
             "colorbar": {
              "outlinewidth": 0,
              "ticks": ""
             }
            },
            "marker": {
             "colorbar": {
              "outlinewidth": 0,
              "ticks": ""
             }
            },
            "type": "scatter3d"
           }
          ],
          "scattercarpet": [
           {
            "marker": {
             "colorbar": {
              "outlinewidth": 0,
              "ticks": ""
             }
            },
            "type": "scattercarpet"
           }
          ],
          "scattergeo": [
           {
            "marker": {
             "colorbar": {
              "outlinewidth": 0,
              "ticks": ""
             }
            },
            "type": "scattergeo"
           }
          ],
          "scattergl": [
           {
            "marker": {
             "colorbar": {
              "outlinewidth": 0,
              "ticks": ""
             }
            },
            "type": "scattergl"
           }
          ],
          "scattermapbox": [
           {
            "marker": {
             "colorbar": {
              "outlinewidth": 0,
              "ticks": ""
             }
            },
            "type": "scattermapbox"
           }
          ],
          "scatterpolar": [
           {
            "marker": {
             "colorbar": {
              "outlinewidth": 0,
              "ticks": ""
             }
            },
            "type": "scatterpolar"
           }
          ],
          "scatterpolargl": [
           {
            "marker": {
             "colorbar": {
              "outlinewidth": 0,
              "ticks": ""
             }
            },
            "type": "scatterpolargl"
           }
          ],
          "scatterternary": [
           {
            "marker": {
             "colorbar": {
              "outlinewidth": 0,
              "ticks": ""
             }
            },
            "type": "scatterternary"
           }
          ],
          "surface": [
           {
            "colorbar": {
             "outlinewidth": 0,
             "ticks": ""
            },
            "colorscale": [
             [
              0,
              "#0d0887"
             ],
             [
              0.1111111111111111,
              "#46039f"
             ],
             [
              0.2222222222222222,
              "#7201a8"
             ],
             [
              0.3333333333333333,
              "#9c179e"
             ],
             [
              0.4444444444444444,
              "#bd3786"
             ],
             [
              0.5555555555555556,
              "#d8576b"
             ],
             [
              0.6666666666666666,
              "#ed7953"
             ],
             [
              0.7777777777777778,
              "#fb9f3a"
             ],
             [
              0.8888888888888888,
              "#fdca26"
             ],
             [
              1,
              "#f0f921"
             ]
            ],
            "type": "surface"
           }
          ],
          "table": [
           {
            "cells": {
             "fill": {
              "color": "#EBF0F8"
             },
             "line": {
              "color": "white"
             }
            },
            "header": {
             "fill": {
              "color": "#C8D4E3"
             },
             "line": {
              "color": "white"
             }
            },
            "type": "table"
           }
          ]
         },
         "layout": {
          "annotationdefaults": {
           "arrowcolor": "#2a3f5f",
           "arrowhead": 0,
           "arrowwidth": 1
          },
          "autotypenumbers": "strict",
          "coloraxis": {
           "colorbar": {
            "outlinewidth": 0,
            "ticks": ""
           }
          },
          "colorscale": {
           "diverging": [
            [
             0,
             "#8e0152"
            ],
            [
             0.1,
             "#c51b7d"
            ],
            [
             0.2,
             "#de77ae"
            ],
            [
             0.3,
             "#f1b6da"
            ],
            [
             0.4,
             "#fde0ef"
            ],
            [
             0.5,
             "#f7f7f7"
            ],
            [
             0.6,
             "#e6f5d0"
            ],
            [
             0.7,
             "#b8e186"
            ],
            [
             0.8,
             "#7fbc41"
            ],
            [
             0.9,
             "#4d9221"
            ],
            [
             1,
             "#276419"
            ]
           ],
           "sequential": [
            [
             0,
             "#0d0887"
            ],
            [
             0.1111111111111111,
             "#46039f"
            ],
            [
             0.2222222222222222,
             "#7201a8"
            ],
            [
             0.3333333333333333,
             "#9c179e"
            ],
            [
             0.4444444444444444,
             "#bd3786"
            ],
            [
             0.5555555555555556,
             "#d8576b"
            ],
            [
             0.6666666666666666,
             "#ed7953"
            ],
            [
             0.7777777777777778,
             "#fb9f3a"
            ],
            [
             0.8888888888888888,
             "#fdca26"
            ],
            [
             1,
             "#f0f921"
            ]
           ],
           "sequentialminus": [
            [
             0,
             "#0d0887"
            ],
            [
             0.1111111111111111,
             "#46039f"
            ],
            [
             0.2222222222222222,
             "#7201a8"
            ],
            [
             0.3333333333333333,
             "#9c179e"
            ],
            [
             0.4444444444444444,
             "#bd3786"
            ],
            [
             0.5555555555555556,
             "#d8576b"
            ],
            [
             0.6666666666666666,
             "#ed7953"
            ],
            [
             0.7777777777777778,
             "#fb9f3a"
            ],
            [
             0.8888888888888888,
             "#fdca26"
            ],
            [
             1,
             "#f0f921"
            ]
           ]
          },
          "colorway": [
           "#636efa",
           "#EF553B",
           "#00cc96",
           "#ab63fa",
           "#FFA15A",
           "#19d3f3",
           "#FF6692",
           "#B6E880",
           "#FF97FF",
           "#FECB52"
          ],
          "font": {
           "color": "#2a3f5f"
          },
          "geo": {
           "bgcolor": "white",
           "lakecolor": "white",
           "landcolor": "#E5ECF6",
           "showlakes": true,
           "showland": true,
           "subunitcolor": "white"
          },
          "hoverlabel": {
           "align": "left"
          },
          "hovermode": "closest",
          "mapbox": {
           "style": "light"
          },
          "paper_bgcolor": "white",
          "plot_bgcolor": "#E5ECF6",
          "polar": {
           "angularaxis": {
            "gridcolor": "white",
            "linecolor": "white",
            "ticks": ""
           },
           "bgcolor": "#E5ECF6",
           "radialaxis": {
            "gridcolor": "white",
            "linecolor": "white",
            "ticks": ""
           }
          },
          "scene": {
           "xaxis": {
            "backgroundcolor": "#E5ECF6",
            "gridcolor": "white",
            "gridwidth": 2,
            "linecolor": "white",
            "showbackground": true,
            "ticks": "",
            "zerolinecolor": "white"
           },
           "yaxis": {
            "backgroundcolor": "#E5ECF6",
            "gridcolor": "white",
            "gridwidth": 2,
            "linecolor": "white",
            "showbackground": true,
            "ticks": "",
            "zerolinecolor": "white"
           },
           "zaxis": {
            "backgroundcolor": "#E5ECF6",
            "gridcolor": "white",
            "gridwidth": 2,
            "linecolor": "white",
            "showbackground": true,
            "ticks": "",
            "zerolinecolor": "white"
           }
          },
          "shapedefaults": {
           "line": {
            "color": "#2a3f5f"
           }
          },
          "ternary": {
           "aaxis": {
            "gridcolor": "white",
            "linecolor": "white",
            "ticks": ""
           },
           "baxis": {
            "gridcolor": "white",
            "linecolor": "white",
            "ticks": ""
           },
           "bgcolor": "#E5ECF6",
           "caxis": {
            "gridcolor": "white",
            "linecolor": "white",
            "ticks": ""
           }
          },
          "title": {
           "x": 0.05
          },
          "xaxis": {
           "automargin": true,
           "gridcolor": "white",
           "linecolor": "white",
           "ticks": "",
           "title": {
            "standoff": 15
           },
           "zerolinecolor": "white",
           "zerolinewidth": 2
          },
          "yaxis": {
           "automargin": true,
           "gridcolor": "white",
           "linecolor": "white",
           "ticks": "",
           "title": {
            "standoff": 15
           },
           "zerolinecolor": "white",
           "zerolinewidth": 2
          }
         }
        },
        "title": {
         "text": "Vote Distribution by Party"
        },
        "xaxis": {
         "anchor": "y",
         "autorange": true,
         "domain": [
          0,
          1
         ],
         "range": [
          -0.5,
          215.5
         ],
         "title": {
          "text": "title"
         },
         "type": "category"
        },
        "yaxis": {
         "anchor": "x",
         "autorange": true,
         "domain": [
          0,
          1
         ],
         "range": [
          0,
          2737.8947368421054
         ],
         "title": {
          "text": "Number of Votes"
         },
         "type": "linear"
        }
       }
      },
      "image/png": "[encoded data removed]",
      "text/html": [
       "<div>                            <div id=\"49431c59-a248-4913-a2b6-e9a22b30dd7e\" class=\"plotly-graph-div\" style=\"height:525px; width:100%;\"></div>            <script type=\"text/javascript\">                require([\"plotly\"], function(Plotly) {                    window.PLOTLYENV=window.PLOTLYENV || {};                                    if (document.getElementById(\"49431c59-a248-4913-a2b6-e9a22b30dd7e\")) {                    Plotly.newPlot(                        \"49431c59-a248-4913-a2b6-e9a22b30dd7e\",                        [{\"alignmentgroup\":\"True\",\"hovertemplate\":\"Party=D_total<br>title=%{x}<br>Number of Votes=%{y}<extra></extra>\",\"legendgroup\":\"D_total\",\"marker\":{\"color\":\"#636efa\",\"pattern\":{\"shape\":\"\"}},\"name\":\"D_total\",\"offsetgroup\":\"D_total\",\"orientation\":\"v\",\"showlegend\":true,\"textposition\":\"auto\",\"x\":[\"Limit, Save, Grow Act of 2023\",\"Hands Off Our Home Appliances Act\",\"Trust the Science Act\",\"Equal Representation Act\",\"Equal Representation Act\",\"Department of State, Foreign Operations,<br>and<br>Related Programs Appropriations Act, 2024\",\"Superior National Forest Restoration Act\",\"Ensuring Accountability in Agency Rulemaking Act\",\"Parents Bill of Rights Act\",\"Cutting Green Corruption and Taxes Act\",\"Mining Regulatory Clarity Act of 2024\",\"Trust the Science Act\",\"Cutting Green Corruption and Taxes Act\",\"Agriculture, Rural Development, Food and<br>Drug<br>Administration, and Related<br>Agencies<br>Appropriations Act, 2024\",\"Mining Regulatory Clarity Act of 2024\",\"Continuing Appropriations and Border<br>Security<br>Enhancement Act, 2024\",\"Secure the Border Act of 2023\",\"Western Economic Security Today Act of 2024\",\"Protecting Access for Hunters and Anglers Act<br>of<br>2023\",\"Department of State, Foreign Operations,<br>and<br>Related Programs Appropriations Act, 2024\",\"National Defense Authorization Act for Fiscal<br>Year<br>2024\",\"Legislative Branch Appropriations Act, 2024\",\"Department of Defense Appropriations Act, 2024\",\"Creating Confidence in Clean Water Permitting Act\",\"Consolidated Appropriations Act, 2024\",\"Department of Defense Appropriations Act, 2024\",\"Creating Confidence in Clean Water Permitting Act\",\"Military Construction, Veterans Affairs,<br>and<br>Related Agencies Appropriations Act, 2025\",\"Department of Homeland Security<br>Appropriations<br>Act, 2024\",\"Israel Security Assistance Support Act\",\"National Defense Authorization Act for Fiscal<br>Year<br>2024\",\"National Defense Authorization Act for Fiscal<br>Year<br>2024\",\"SOPRA\",\"Providing for congressional disapproval<br>under<br>chapter 8 of title 5, United States Code,<br>of the<br>rule submitted by the Bureau of Alcohol,<br>Tobacco,<br>Firearms, and Explosives relating to<br>\\\"Factoring<br>Criteria for Firearms with Attached<br>'Stabilizing<br>Braces'\\\".\",\"Disapproving the rule submitted by the<br>Department<br>of Commerce relating to \\\"Procedures<br>Covering<br>Suspension of Liquidation, Duties and<br>Estimated<br>Duties in Accord With Presidential<br>Proclamation<br>10414\\\".\",\"Superior National Forest Restoration Act\",\"SOPRA\",\"REINS Act of 2023\",\"Alaska\\u2019s Right to Produce Act of 2023\",\"Secure the Border Act of 2023\",\"Western Economic Security Today Act of 2024\",\"Limit, Save, Grow Act of 2023\",\"Department of the Interior, Environment,<br>and<br>Related Agencies Appropriations Act, 2024\",\"Pandemic is Over Act\",\"REINS Act of 2023\",\"Energy and Water Development and Related<br>Agencies<br>Appropriations Act, 2024\",\"Energy and Water Development and Related<br>Agencies<br>Appropriations Act, 2024\",\"A joint resolution providing for<br>congressional<br>disapproval under chapter 8 of<br>title 5, United<br>States Code, of the rule<br>submitted by the United<br>States Fish and<br>Wildlife Service relating to<br>\\\"Endangered and<br>Threatened Wildlife and Plants;<br>Endangered<br>Species Status for Northern Long-Eared<br>Bat\\\".\",\"Protecting Taxpayers and Victims of<br>Unemployment<br>Fraud Act\",\"CHOICE Arrangement Act\",\"CHOICE Arrangement Act\",\"Military Construction, Veterans Affairs,<br>and<br>Related Agencies Appropriations Act, 2025\",\"Department of Homeland Security<br>Appropriations<br>Act, 2024\",\"Schools Not Shelters Act\",\"To terminate the requirement imposed by<br>the<br>Director of the Centers for Disease Control<br>and<br>Prevention for proof of COVID-19<br>vaccination for<br>foreign travelers, and for<br>other purposes.\",\"Providing for congressional disapproval<br>under<br>chapter 8 of title 5, United States Code,<br>of the<br>rule submitted by the Department of<br>Labor relating<br>to \\\"Prudence and Loyalty in<br>Selecting Plan<br>Investments and Exercising<br>Shareholder Rights\\\".\",\"Consolidated Appropriations Act, 2024\",\"Protecting Speech from Government Interference Act\",\"Protecting Access for Hunters and Anglers Act<br>of<br>2023\",\"Choice in Automobile Retail Sales Act of 2023\",\"Protection of Women and Girls in Sports Act<br>of<br>2023\",\"Department of the Interior, Environment,<br>and<br>Related Agencies Appropriations Act, 2024\",\"Protecting Speech from Government Interference Act\",\"Alaska\\u2019s Right to Produce Act of 2023\",\"Ensuring Accountability in Agency Rulemaking Act\",\"Lower Energy Costs Act\",\"Parents Bill of Rights Act\",\"A joint resolution providing for<br>congressional<br>disapproval under chapter 8 of<br>title 5, United<br>States Code, of the rule<br>submitted by the United<br>States Fish and<br>Wildlife Service relating to<br>\\\"Endangered and<br>Threatened Wildlife and Plants;<br>Lesser Prairie-<br>Chicken; Threatened Status with<br>Section 4(d)<br>Rule for the Northern Distinct<br>Population<br>Segment and Endangered Status for the<br>Southern<br>Distinct Population Segment\\\".\",\"SHOW UP Act of 2023\",\"Providing for congressional disapproval<br>under<br>chapter 8 of title 5, United States Code,<br>of the<br>rule submitted by the Department of<br>Education<br>relating to \\\"Waivers and<br>Modifications of Federal<br>Student Loans\\\".\",\"Providing for congressional disapproval<br>under<br>chapter 8 of title 5, United States Code,<br>of the<br>rule submitted by the Department of<br>Education<br>relating to \\\"Waivers and<br>Modifications of Federal<br>Student Loans\\\".\",\"Transnational Criminal Organization<br>Illicit<br>Spotter Prevention and Elimination Act\",\"Protection of Women and Girls in Sports Act<br>of<br>2023\",\"Hands Off Our Home Appliances Act\",\"Middle Class Borrower Protection Act of 2023\",\"To prohibit individuals who are not citizens<br>of<br>the United States from voting in elections<br>in the<br>District of Columbia and to repeal the<br>Local<br>Resident Voting Rights Amendment Act of<br>2022\",\"Legislative Branch Appropriations Act, 2024\",\"A joint resolution providing for<br>congressional<br>disapproval under chapter 8 of<br>title 5, United<br>States Code, of the rule<br>submitted by the<br>Environmental Protection<br>Agency relating to<br>\\\"Control of Air Pollution<br>From New Motor Vehicles:<br>Heavy-Duty Engine and<br>Vehicle Standards\\\".\",\"Preserving Choice in Vehicle Purchases Act\",\"Providing for congressional disapproval<br>under<br>chapter 8 of title 5, United States Code,<br>of the<br>rule submitted by the Department of<br>Labor relating<br>to \\\"Prudence and Loyalty in<br>Selecting Plan<br>Investments and Exercising<br>Shareholder Rights\\\".\",\"Disapproving the rule submitted by the<br>Department<br>of Commerce relating to \\\"Procedures<br>Covering<br>Suspension of Liquidation, Duties and<br>Estimated<br>Duties in Accord With Presidential<br>Proclamation<br>10414\\\".\",\"A joint resolution providing for<br>congressional<br>disapproval under chapter 8 of<br>title 5, United<br>States Code, of the rule<br>submitted by the Bureau<br>of Consumer Financial<br>Protection relating to<br>\\\"Small Business Lending<br>Under the Equal Credit<br>Opportunity Act<br>(Regulation B)\\\".\",\"Fourth Amendment Is Not For Sale Act\",\"Lower Energy Costs Act\",\"Schools Not Shelters Act\",\"Protecting our Communities from Failure to<br>Secure<br>the Border Act of 2023\",\"Mining Regulatory Clarity Act of 2024\",\"Providing for congressional disapproval<br>under<br>chapter 8 of title 5, United States Code,<br>of the<br>rule submitted by the Department of<br>Education<br>relating to \\\"Improving Income Driven<br>Repayment for<br>the William D. Ford Federal<br>Direct Loan Program<br>and the Federal Family<br>Education Loan (FFEL)<br>Program\\\".\",\"Providing for congressional disapproval<br>under<br>chapter 8 of title 5, United States Code,<br>of the<br>rule submitted by the National Labor<br>Relations<br>Board relating to \\\"Standard for<br>Determining Joint<br>Employer Status\\\".\",\"Choice in Automobile Retail Sales Act of 2023\",\"CBDC Anti-Surveillance State Act\",\"To terminate the requirement imposed by<br>the<br>Director of the Centers for Disease Control<br>and<br>Prevention for proof of COVID-19<br>vaccination for<br>foreign travelers, and for<br>other purposes.\",\"Providing for congressional disapproval<br>under<br>chapter 8 of title 5, United States Code,<br>of the<br>rule submitted by the Department of the<br>Army,<br>Corps of Engineers, Department of Defense<br>and the<br>Environmental Protection Agency<br>relating to<br>\\\"Revised Definition of 'Waters of<br>the United<br>States'\\\".\",\"Israel Security Supplemental Appropriations<br>Act,<br>2024\",\"Protecting Taxpayers and Victims of<br>Unemployment<br>Fraud Act\",\"Providing for congressional disapproval<br>under<br>chapter 8 of title 5, United States Code,<br>of the<br>rule submitted by the Department of the<br>Army,<br>Corps of Engineers, Department of Defense<br>and the<br>Environmental Protection Agency<br>relating to<br>\\\"Revised Definition of 'Waters of<br>the United<br>States'\\\".\",\"Relating to a national emergency declared by<br>the<br>President on March 13, 2020.\",\"Preserving Choice in Vehicle Purchases Act\",\"Federal Law Enforcement Officer Service<br>Weapon<br>Purchase Act\",\"Continuing Appropriations and Border<br>Security<br>Enhancement Act, 2024\",\"LEOSA Reform Act of 2024\",\"Disapproving the action of the District<br>of<br>Columbia Council in approving the<br>Comprehensive<br>Policing and Justice Reform<br>Amendment Act of 2022.\",\"Israel Security Assistance Support Act\",\"Disapproving the action of the District<br>of<br>Columbia Council in approving the<br>Comprehensive<br>Policing and Justice Reform<br>Amendment Act of 2022.\",\"Middle Class Borrower Protection Act of 2023\",\"D. C. Criminal Reforms to Immediately<br>Make<br>Everyone Safe Act of 2024\",\"Providing for congressional disapproval<br>under<br>chapter 8 of title 5, United States Code,<br>of the<br>rule submitted by the Securities and<br>Exchange<br>Commission relating to \\\"Staff<br>Accounting Bulletin<br>No. 121\\\".\",\"Agriculture, Rural Development, Food and<br>Drug<br>Administration, and Related<br>Agencies<br>Appropriations Act, 2024\",\"Gas Stove Protection and Freedom Act\",\"Save Our Gas Stoves Act\",\"DETERRENT Act\",\"Disapproving the action of the District<br>of<br>Columbia Council in approving the Revised<br>Criminal<br>Code Act of 2022.\",\"POLICE Act of 2023\",\"SAT Streamlining Act\",\"Illegitimate Court Counteraction Act\",\"Police Our Border Act\",\"Disapproving the action of the District<br>of<br>Columbia Council in approving the Local<br>Resident<br>Voting Rights Amendment Act of 2022.\",\"To provide for the rescission of certain<br>waivers<br>and licenses relating to Iran, and for<br>other<br>purposes.\",\"Detain and Deport Illegal Aliens Who Assault<br>Cops<br>Act\",\"To prohibit individuals who are not citizens<br>of<br>the United States from voting in elections<br>in the<br>District of Columbia and to repeal the<br>Local<br>Resident Voting Rights Amendment Act of<br>2022\",\"Iran Counterterrorism Act of 2023\",\"Reduce Exacerbated Inflation Negatively<br>Impacting<br>the Nation Act\",\"Reforming Intelligence and Securing America Act\",\"Reforming Intelligence and Securing America Act\",\"Iran Sanctions Relief Review Act of 2023\",\"Financial Innovation and Technology for the<br>21st<br>Century Act\",\"Standing Against Houthi Aggression Act\",\"HALT Fentanyl Act\",\"Expressing support for local law<br>enforcement<br>officers and condemning efforts to<br>defund or<br>dismantle local law enforcement<br>agencies.\",\"No Funds for Iranian Terrorism Act\",\"No U.S. Financing for Iran Act of 2023\",\"National Defense Authorization Act for Fiscal<br>Year<br>2024\",\"Ukraine Security Assistance and<br>Oversight<br>Supplemental Appropriations Act, 2024\",\"Fiscal Responsibility Act of 2023\",\"Ukraine Security Supplemental Appropriations<br>Act,<br>2024\",\"Directing the President, pursuant to section<br>5(c)<br>of the War Powers Resolution, to remove<br>the United<br>States Armed Forces from Syria.\",\"Directing the President, pursuant to section<br>5(c)<br>of the War Powers Resolution, to remove<br>all United<br>States Armed Forces, other than<br>United States<br>Armed Forces assigned to protect<br>the United States<br>Embassy, from Somalia.\",\"Antisemitism Awareness Act of 2023\",\"Whole Milk for Healthy Kids Act of 2023\",\"Further Continuing Appropriations and<br>Other<br>Extensions Act, 2024\",\"Denouncing the horrors of socialism.\",\"Promoting Opportunities for Non-<br>Traditional<br>Capital Formation Act\",\"Continuing Appropriations Act, 2024 and<br>Other<br>Extensions Act\",\"Ukraine Security Supplemental Appropriations<br>Act,<br>2024\",\"Lower Costs, More Transparency Act\",\"Sea Turtle Rescue Assistance and<br>Rehabilitation<br>Act of 2023\",\"Deploying American Blockchains Act of 2023\",\"Abandoned Well Remediation Research<br>and<br>Development Act\",\"Stop Harboring Iranian Petroleum Act\",\"Securing Growth and Robust Leadership in<br>American<br>Aviation Act\",\"Fire Weather Development Act of 2024\",\"Coastal Communities Ocean Acidification Act<br>of<br>2023\",\"Wastewater Infrastructure Pollution Prevention<br>and<br>Environmental Safety Act\",\"One Seat Ride Act\",\"To direct the Secretary of Energy to<br>provide<br>financial assistance to graduate<br>students and<br>postdoctoral researchers pursuing<br>certain courses<br>of study relating to<br>cybersecurity and energy<br>infrastructure, and<br>for other purposes.\",\"Improving Law Enforcement Officer Safety<br>and<br>Wellness Through Data Act\",\"21st Century Peace through Strength Act\",\"Advanced Weather Model Computing Development Act\",\"Israel Security Supplemental Appropriations<br>Act,<br>2024\",\"Enhancing Multi-Class Share Disclosures Act\",\"Hamas International Financing Prevention Act\",\"National Construction Safety Team Enhancement<br>Act<br>of 2024\",\"Privacy Enhancing Technology Research Act\",\"Carbon Sequestration Collaboration Act\",\"Special District Grant Accessibility Act\",\"Fort San Ger\\u00f3nimo Preservation Act\",\"National Telecommunications and<br>Information<br>Administration Reauthorization Act<br>of 2024\",\"To designate the facility of the United<br>States<br>Postal Service located at 220 North<br>Hatcher Avenue<br>in Purcellville, Virginia, as<br>the \\\"Secretary of<br>State Madeleine Albright Post<br>Office Building\\\".\",\"Youth Poisoning Protection Act\",\"Setting Consumer Standards for Lithium-<br>Ion<br>Batteries Act\",\"Native American Child Protection Act\",\"Support for Patients and<br>Communities<br>Reauthorization Act\",\"Indo-Pacific Security Supplemental<br>Appropriations<br>Act, 2024\",\"Recruit and Retain Act\",\"A Stronger Workforce for America Act\",\"National Museum of Play Recognition Act\",\"Relating to a national emergency declared by<br>the<br>President on October 27, 2006.\",\"Providing Appropriate Recognition and<br>Treatment<br>Needed to Enhance Relations with<br>ASEAN Act\",\"No Paydays for Hostage-Takers Act\",\"Relating to a national emergency declared by<br>the<br>President on February 25, 2011.\",\"Small Entity Update Act\",\"No Hidden Fees on Extra Expenses for Stays Act<br>of<br>2023\",\"Coast Guard Authorization Act of 2024\",\"Airport and Airway Extension Act of 2023, Part II\",\"Airport and Airway Extension Act of 2024, Part II\",\"Securing Growth and Robust Leadership in<br>American<br>Aviation Act\",\"Transparency In Charges for Key Events<br>Ticketing<br>Act\",\"Global Investment in American Jobs Act of 2023\",\"Promoting a Resolution to the Tibet-China<br>Dispute<br>Act\",\"Equal Opportunity for All Investors Act of 2023\",\"National Defense Authorization Act for Fiscal<br>Year<br>2024\",\"Relating to a national emergency declared by<br>the<br>President on May 16, 2012.\",\"To designate the facility of the United<br>States<br>Postal Service located at 15 South<br>Valdosta Road<br>in Lakeland, Georgia, as the<br>\\\"Nell Patten<br>Roquemore Post Office\\\".\",\"Foreign Affiliates Sharing Pilot Program<br>Extension<br>Act\",\"Relating to a national emergency declared by<br>the<br>President on May 22, 2003.\",\"Relating to a national emergency declared by<br>the<br>President on May 11, 2004.\",\"Encouraging Public Offerings Act of 2023\",\"Understanding Cybersecurity of Mobile Networks Act\",\"Promoting Resilient Supply Chains Act of 2023\",\"To amend the Internal Revenue Code of 1986<br>to<br>terminate the tax-exempt status of<br>terrorist<br>supporting organizations.\",\"Iran-China Energy Sanctions Act of 2023\",\"Information Quality Assurance Act\",\"Weather Research and Forecasting<br>Innovation<br>Reauthorization Act of 2023\",\"Federal Disaster Tax Relief Act of 2023\",\"An Act to amend the Federal Fire Prevention<br>and<br>Control Act of 1974 to authorize<br>appropriations<br>for the United States Fire<br>Administration and<br>firefighter assistance grant<br>programs.\",\"Middle Market IPO Underwriting Cost Act\",\"National Defense Authorization Act for Fiscal<br>Year<br>2024\",\"Duck Stamp Modernization Act of 2023\",\"To clarify jurisdiction with respect to<br>certain<br>Bureau of Reclamation pumped storage<br>development,<br>and for other purposes.\",\"Emergency Medical Services for<br>Children<br>Reauthorization Act of 2024\",\"Puyallup Tribe of Indians Land Into<br>Trust<br>Confirmation Act of 2023\",\"Improving Access to Small Business Information Act\",\"No Technology for Terror Act\",\"To direct the Secretary of State to submit<br>to<br>Congress a report on implementation of<br>the<br>advanced capabilities pillar of the<br>trilateral<br>security partnership between<br>Australia, the United<br>Kingdom, and the United<br>States.\",\"To designate the facility of the United<br>States<br>Postal Service located at 616 East Main<br>Street in<br>St. Charles, Illinois, as the<br>\\\"Veterans of the<br>Vietnam War Memorial Post<br>Office\\\".\",\"Federal Prison Oversight Act\",\"Solidify Iran Sanctions Act of 2023\",\"To amend title 5, United States Code, to limit<br>the<br>use of educational requirements or<br>qualifications<br>in evaluating candidates for<br>certain cybersecurity<br>positions in the<br>competitive service, and for<br>other purposes.\",\"Veterans Economic Opportunity and<br>Transition<br>Administration Act\",\"Informing Consumers about Smart Devices Act\",\"Countering Weapons of Mass Destruction<br>Extension<br>Act of 2023\",\"Iran Sanctions Accountability Act of 2023\",\"Fight CRIME Act\",\"China Financial Threat Mitigation Act of 2023\",\"Extending Limits of U.S. Customs Waters Act\",\"Illicit Captagon Trafficking Suppression Act<br>of<br>2023\",\"To amend the Taiwan Assurance Act of 2020<br>to<br>require periodic reviews and updated<br>reports<br>relating to the Department of State's<br>Taiwan<br>Guidelines.\",\"Housing our Military Veterans Effectively Act<br>of<br>2023\",\"Precision Agriculture Satellite Connectivity Act\",\"Dr. Emmanuel Bilirakis and Honorable<br>Jennifer<br>Wexton National Plan to End<br>Parkinson\\u2019s Act\",\"USA Act\",\"Student Veteran Benefit Restoration Act\",\"Preventing the Financing of Illegal<br>Synthetic<br>Drugs Act\",\"Special Envoy for the Abraham Accords Act\",\"VET\\u2013TEC Authorization Act of 2023\",\"Providing Accountability Through Transparency<br>Act<br>of 2023\",\"To designate the facility of the United<br>States<br>Postal Service located at 103 Benedette<br>Street in<br>Rayville, Louisiana, as the \\\"Luke<br>Letlow Post<br>Office Building\\\".\",\"ACRES Act\",\"Countering Untrusted Telecommunications Abroad Act\",\"Expressing the sense of Congress supporting<br>the<br>State of Israel.\",\"Authorizing the use of Emancipation Hall in<br>the<br>Capitol Visitor Center for a ceremony as<br>part of<br>the commemoration of the days of<br>remembrance of<br>victims of the Holocaust.\",\"Maternal and Child Health Stillbirth<br>Prevention<br>Act of 2024\",\"Debbie Smith Act of 2023\",\"Missing Children's Assistance Reauthorization<br>Act<br>of 2023\",\"MAHSA Act\",\"Veteran Entrepreneurship Training Act of 2023\",\"Protecting and Securing Chemical Facilities<br>from<br>Terrorist Attacks Act of 2023\",\"250th Anniversary of the United States<br>Marine<br>Corps Commemorative Coin Act\",\"To rename the Department of Veterans<br>Affairs<br>community-based outpatient clinic in<br>Hinesville,<br>Georgia, as the \\\"John Gibson, Dan<br>James, William<br>Sapp, and Frankie Smiley VA<br>Clinic\\\".\",\"Elizabeth Dole Home Care Act of 2023\",\"A bill to designate the clinic of the<br>Department<br>of Veterans Affairs in Gallup, New<br>Mexico, as the<br>Hiroshi \\\"Hershey\\\" Miyamura VA<br>Clinic.\",\"To designate the clinic of the Department<br>of<br>Veterans Affairs in Indian River, Michigan,<br>as the<br>\\\"Pfc. Justin T. Paton Department of<br>Veterans<br>Affairs Clinic\\\".\",\"Isakson-Roe Education Oversight Expansion Act\",\"Stop Forced Organ Harvesting Act of 2023\",\"NDO Fairness Act\",\"Veteran Fraud Reimbursement Act\",\"To extend the authority to collect Shasta-<br>Trinity<br>Marina fees through fiscal year 2029.\",\"Holding Iranian Leaders Accountable Act of 2023\",\"Strengthening Tools to Counter the Use of<br>Human<br>Shields Act\",\"PRC Is Not a Developing Country Act\",\"COVID-19 Origin Act of 2023\",\"Protect Small Business and Prevent<br>Illicit<br>Financial Activity Act\",\"Advanced, Local Emergency<br>Response<br>Telecommunications Parity Act\",\"A bill to amend title 38, United States Code,<br>to<br>strengthen benefits for children of<br>Vietnam<br>veterans born with spina bifida, and<br>for other<br>purposes.\",\"Wounded Warrior Access Act\",\"Protecting Hunting Heritage and Education Act\",\"Veterans Benefits Improvement Act of 2023\",\"TRANQ Research Act of 2023\",\"VA COST SAVINGS Enhancements Act\"],\"xaxis\":\"x\",\"y\":[213,213,212,213,213,212,212,213,213,213,213,212,213,212,212,212,213,212,212,212,212,212,212,213,212,212,213,213,212,213,212,212,212,212,213,212,212,212,212,213,212,213,212,212,212,212,212,212,213,212,212,213,212,212,212,212,212,213,212,213,213,212,213,212,213,213,213,212,212,212,213,213,213,213,212,213,212,213,212,213,213,213,213,213,212,213,213,213,213,213,213,212,213,212,213,213,212,212,213,212,213,212,213,213,212,213,213,212,212,212,213,212,213,212,213,213,212,213,213,213,213,212,213,213,213,213,213,213,213,213,213,213,212,213,213,213,213,212,213,213,212,213,212,213,213,213,213,212,212,212,212,213,213,213,212,213,213,213,213,213,212,213,212,212,213,212,213,213,213,213,212,213,213,213,213,213,212,213,213,212,213,213,213,213,213,213,213,212,213,213,212,212,213,213,212,212,212,213,213,213,213,212,212,213,213,212,212,213,212,213,213,212,213,213,212,213,213,212,212,212,213,213,212,213,212,213,213,213,213,213,213,212,213,212,213,212,213,212,213,212,213,213,212,213,212,212,212,212,213,213,212,212,212,213,213,212,212,213,213,213,213,213,213,212,212,212,212,213,213],\"yaxis\":\"y\",\"type\":\"bar\"},{\"alignmentgroup\":\"True\",\"hovertemplate\":\"Party=R_total<br>title=%{x}<br>Number of Votes=%{y}<extra></extra>\",\"legendgroup\":\"R_total\",\"marker\":{\"color\":\"#EF553B\",\"pattern\":{\"shape\":\"\"}},\"name\":\"R_total\",\"offsetgroup\":\"R_total\",\"orientation\":\"v\",\"showlegend\":true,\"textposition\":\"auto\",\"x\":[\"Limit, Save, Grow Act of 2023\",\"Hands Off Our Home Appliances Act\",\"Trust the Science Act\",\"Equal Representation Act\",\"Equal Representation Act\",\"Department of State, Foreign Operations,<br>and<br>Related Programs Appropriations Act, 2024\",\"Superior National Forest Restoration Act\",\"Ensuring Accountability in Agency Rulemaking Act\",\"Parents Bill of Rights Act\",\"Cutting Green Corruption and Taxes Act\",\"Mining Regulatory Clarity Act of 2024\",\"Trust the Science Act\",\"Cutting Green Corruption and Taxes Act\",\"Agriculture, Rural Development, Food and<br>Drug<br>Administration, and Related<br>Agencies<br>Appropriations Act, 2024\",\"Mining Regulatory Clarity Act of 2024\",\"Continuing Appropriations and Border<br>Security<br>Enhancement Act, 2024\",\"Secure the Border Act of 2023\",\"Western Economic Security Today Act of 2024\",\"Protecting Access for Hunters and Anglers Act<br>of<br>2023\",\"Department of State, Foreign Operations,<br>and<br>Related Programs Appropriations Act, 2024\",\"National Defense Authorization Act for Fiscal<br>Year<br>2024\",\"Legislative Branch Appropriations Act, 2024\",\"Department of Defense Appropriations Act, 2024\",\"Creating Confidence in Clean Water Permitting Act\",\"Consolidated Appropriations Act, 2024\",\"Department of Defense Appropriations Act, 2024\",\"Creating Confidence in Clean Water Permitting Act\",\"Military Construction, Veterans Affairs,<br>and<br>Related Agencies Appropriations Act, 2025\",\"Department of Homeland Security<br>Appropriations<br>Act, 2024\",\"Israel Security Assistance Support Act\",\"National Defense Authorization Act for Fiscal<br>Year<br>2024\",\"National Defense Authorization Act for Fiscal<br>Year<br>2024\",\"SOPRA\",\"Providing for congressional disapproval<br>under<br>chapter 8 of title 5, United States Code,<br>of the<br>rule submitted by the Bureau of Alcohol,<br>Tobacco,<br>Firearms, and Explosives relating to<br>\\\"Factoring<br>Criteria for Firearms with Attached<br>'Stabilizing<br>Braces'\\\".\",\"Disapproving the rule submitted by the<br>Department<br>of Commerce relating to \\\"Procedures<br>Covering<br>Suspension of Liquidation, Duties and<br>Estimated<br>Duties in Accord With Presidential<br>Proclamation<br>10414\\\".\",\"Superior National Forest Restoration Act\",\"SOPRA\",\"REINS Act of 2023\",\"Alaska\\u2019s Right to Produce Act of 2023\",\"Secure the Border Act of 2023\",\"Western Economic Security Today Act of 2024\",\"Limit, Save, Grow Act of 2023\",\"Department of the Interior, Environment,<br>and<br>Related Agencies Appropriations Act, 2024\",\"Pandemic is Over Act\",\"REINS Act of 2023\",\"Energy and Water Development and Related<br>Agencies<br>Appropriations Act, 2024\",\"Energy and Water Development and Related<br>Agencies<br>Appropriations Act, 2024\",\"A joint resolution providing for<br>congressional<br>disapproval under chapter 8 of<br>title 5, United<br>States Code, of the rule<br>submitted by the United<br>States Fish and<br>Wildlife Service relating to<br>\\\"Endangered and<br>Threatened Wildlife and Plants;<br>Endangered<br>Species Status for Northern Long-Eared<br>Bat\\\".\",\"Protecting Taxpayers and Victims of<br>Unemployment<br>Fraud Act\",\"CHOICE Arrangement Act\",\"CHOICE Arrangement Act\",\"Military Construction, Veterans Affairs,<br>and<br>Related Agencies Appropriations Act, 2025\",\"Department of Homeland Security<br>Appropriations<br>Act, 2024\",\"Schools Not Shelters Act\",\"To terminate the requirement imposed by<br>the<br>Director of the Centers for Disease Control<br>and<br>Prevention for proof of COVID-19<br>vaccination for<br>foreign travelers, and for<br>other purposes.\",\"Providing for congressional disapproval<br>under<br>chapter 8 of title 5, United States Code,<br>of the<br>rule submitted by the Department of<br>Labor relating<br>to \\\"Prudence and Loyalty in<br>Selecting Plan<br>Investments and Exercising<br>Shareholder Rights\\\".\",\"Consolidated Appropriations Act, 2024\",\"Protecting Speech from Government Interference Act\",\"Protecting Access for Hunters and Anglers Act<br>of<br>2023\",\"Choice in Automobile Retail Sales Act of 2023\",\"Protection of Women and Girls in Sports Act<br>of<br>2023\",\"Department of the Interior, Environment,<br>and<br>Related Agencies Appropriations Act, 2024\",\"Protecting Speech from Government Interference Act\",\"Alaska\\u2019s Right to Produce Act of 2023\",\"Ensuring Accountability in Agency Rulemaking Act\",\"Lower Energy Costs Act\",\"Parents Bill of Rights Act\",\"A joint resolution providing for<br>congressional<br>disapproval under chapter 8 of<br>title 5, United<br>States Code, of the rule<br>submitted by the United<br>States Fish and<br>Wildlife Service relating to<br>\\\"Endangered and<br>Threatened Wildlife and Plants;<br>Lesser Prairie-<br>Chicken; Threatened Status with<br>Section 4(d)<br>Rule for the Northern Distinct<br>Population<br>Segment and Endangered Status for the<br>Southern<br>Distinct Population Segment\\\".\",\"SHOW UP Act of 2023\",\"Providing for congressional disapproval<br>under<br>chapter 8 of title 5, United States Code,<br>of the<br>rule submitted by the Department of<br>Education<br>relating to \\\"Waivers and<br>Modifications of Federal<br>Student Loans\\\".\",\"Providing for congressional disapproval<br>under<br>chapter 8 of title 5, United States Code,<br>of the<br>rule submitted by the Department of<br>Education<br>relating to \\\"Waivers and<br>Modifications of Federal<br>Student Loans\\\".\",\"Transnational Criminal Organization<br>Illicit<br>Spotter Prevention and Elimination Act\",\"Protection of Women and Girls in Sports Act<br>of<br>2023\",\"Hands Off Our Home Appliances Act\",\"Middle Class Borrower Protection Act of 2023\",\"To prohibit individuals who are not citizens<br>of<br>the United States from voting in elections<br>in the<br>District of Columbia and to repeal the<br>Local<br>Resident Voting Rights Amendment Act of<br>2022\",\"Legislative Branch Appropriations Act, 2024\",\"A joint resolution providing for<br>congressional<br>disapproval under chapter 8 of<br>title 5, United<br>States Code, of the rule<br>submitted by the<br>Environmental Protection<br>Agency relating to<br>\\\"Control of Air Pollution<br>From New Motor Vehicles:<br>Heavy-Duty Engine and<br>Vehicle Standards\\\".\",\"Preserving Choice in Vehicle Purchases Act\",\"Providing for congressional disapproval<br>under<br>chapter 8 of title 5, United States Code,<br>of the<br>rule submitted by the Department of<br>Labor relating<br>to \\\"Prudence and Loyalty in<br>Selecting Plan<br>Investments and Exercising<br>Shareholder Rights\\\".\",\"Disapproving the rule submitted by the<br>Department<br>of Commerce relating to \\\"Procedures<br>Covering<br>Suspension of Liquidation, Duties and<br>Estimated<br>Duties in Accord With Presidential<br>Proclamation<br>10414\\\".\",\"A joint resolution providing for<br>congressional<br>disapproval under chapter 8 of<br>title 5, United<br>States Code, of the rule<br>submitted by the Bureau<br>of Consumer Financial<br>Protection relating to<br>\\\"Small Business Lending<br>Under the Equal Credit<br>Opportunity Act<br>(Regulation B)\\\".\",\"Fourth Amendment Is Not For Sale Act\",\"Lower Energy Costs Act\",\"Schools Not Shelters Act\",\"Protecting our Communities from Failure to<br>Secure<br>the Border Act of 2023\",\"Mining Regulatory Clarity Act of 2024\",\"Providing for congressional disapproval<br>under<br>chapter 8 of title 5, United States Code,<br>of the<br>rule submitted by the Department of<br>Education<br>relating to \\\"Improving Income Driven<br>Repayment for<br>the William D. Ford Federal<br>Direct Loan Program<br>and the Federal Family<br>Education Loan (FFEL)<br>Program\\\".\",\"Providing for congressional disapproval<br>under<br>chapter 8 of title 5, United States Code,<br>of the<br>rule submitted by the National Labor<br>Relations<br>Board relating to \\\"Standard for<br>Determining Joint<br>Employer Status\\\".\",\"Choice in Automobile Retail Sales Act of 2023\",\"CBDC Anti-Surveillance State Act\",\"To terminate the requirement imposed by<br>the<br>Director of the Centers for Disease Control<br>and<br>Prevention for proof of COVID-19<br>vaccination for<br>foreign travelers, and for<br>other purposes.\",\"Providing for congressional disapproval<br>under<br>chapter 8 of title 5, United States Code,<br>of the<br>rule submitted by the Department of the<br>Army,<br>Corps of Engineers, Department of Defense<br>and the<br>Environmental Protection Agency<br>relating to<br>\\\"Revised Definition of 'Waters of<br>the United<br>States'\\\".\",\"Israel Security Supplemental Appropriations<br>Act,<br>2024\",\"Protecting Taxpayers and Victims of<br>Unemployment<br>Fraud Act\",\"Providing for congressional disapproval<br>under<br>chapter 8 of title 5, United States Code,<br>of the<br>rule submitted by the Department of the<br>Army,<br>Corps of Engineers, Department of Defense<br>and the<br>Environmental Protection Agency<br>relating to<br>\\\"Revised Definition of 'Waters of<br>the United<br>States'\\\".\",\"Relating to a national emergency declared by<br>the<br>President on March 13, 2020.\",\"Preserving Choice in Vehicle Purchases Act\",\"Federal Law Enforcement Officer Service<br>Weapon<br>Purchase Act\",\"Continuing Appropriations and Border<br>Security<br>Enhancement Act, 2024\",\"LEOSA Reform Act of 2024\",\"Disapproving the action of the District<br>of<br>Columbia Council in approving the<br>Comprehensive<br>Policing and Justice Reform<br>Amendment Act of 2022.\",\"Israel Security Assistance Support Act\",\"Disapproving the action of the District<br>of<br>Columbia Council in approving the<br>Comprehensive<br>Policing and Justice Reform<br>Amendment Act of 2022.\",\"Middle Class Borrower Protection Act of 2023\",\"D. C. Criminal Reforms to Immediately<br>Make<br>Everyone Safe Act of 2024\",\"Providing for congressional disapproval<br>under<br>chapter 8 of title 5, United States Code,<br>of the<br>rule submitted by the Securities and<br>Exchange<br>Commission relating to \\\"Staff<br>Accounting Bulletin<br>No. 121\\\".\",\"Agriculture, Rural Development, Food and<br>Drug<br>Administration, and Related<br>Agencies<br>Appropriations Act, 2024\",\"Gas Stove Protection and Freedom Act\",\"Save Our Gas Stoves Act\",\"DETERRENT Act\",\"Disapproving the action of the District<br>of<br>Columbia Council in approving the Revised<br>Criminal<br>Code Act of 2022.\",\"POLICE Act of 2023\",\"SAT Streamlining Act\",\"Illegitimate Court Counteraction Act\",\"Police Our Border Act\",\"Disapproving the action of the District<br>of<br>Columbia Council in approving the Local<br>Resident<br>Voting Rights Amendment Act of 2022.\",\"To provide for the rescission of certain<br>waivers<br>and licenses relating to Iran, and for<br>other<br>purposes.\",\"Detain and Deport Illegal Aliens Who Assault<br>Cops<br>Act\",\"To prohibit individuals who are not citizens<br>of<br>the United States from voting in elections<br>in the<br>District of Columbia and to repeal the<br>Local<br>Resident Voting Rights Amendment Act of<br>2022\",\"Iran Counterterrorism Act of 2023\",\"Reduce Exacerbated Inflation Negatively<br>Impacting<br>the Nation Act\",\"Reforming Intelligence and Securing America Act\",\"Reforming Intelligence and Securing America Act\",\"Iran Sanctions Relief Review Act of 2023\",\"Financial Innovation and Technology for the<br>21st<br>Century Act\",\"Standing Against Houthi Aggression Act\",\"HALT Fentanyl Act\",\"Expressing support for local law<br>enforcement<br>officers and condemning efforts to<br>defund or<br>dismantle local law enforcement<br>agencies.\",\"No Funds for Iranian Terrorism Act\",\"No U.S. Financing for Iran Act of 2023\",\"National Defense Authorization Act for Fiscal<br>Year<br>2024\",\"Ukraine Security Assistance and<br>Oversight<br>Supplemental Appropriations Act, 2024\",\"Fiscal Responsibility Act of 2023\",\"Ukraine Security Supplemental Appropriations<br>Act,<br>2024\",\"Directing the President, pursuant to section<br>5(c)<br>of the War Powers Resolution, to remove<br>the United<br>States Armed Forces from Syria.\",\"Directing the President, pursuant to section<br>5(c)<br>of the War Powers Resolution, to remove<br>all United<br>States Armed Forces, other than<br>United States<br>Armed Forces assigned to protect<br>the United States<br>Embassy, from Somalia.\",\"Antisemitism Awareness Act of 2023\",\"Whole Milk for Healthy Kids Act of 2023\",\"Further Continuing Appropriations and<br>Other<br>Extensions Act, 2024\",\"Denouncing the horrors of socialism.\",\"Promoting Opportunities for Non-<br>Traditional<br>Capital Formation Act\",\"Continuing Appropriations Act, 2024 and<br>Other<br>Extensions Act\",\"Ukraine Security Supplemental Appropriations<br>Act,<br>2024\",\"Lower Costs, More Transparency Act\",\"Sea Turtle Rescue Assistance and<br>Rehabilitation<br>Act of 2023\",\"Deploying American Blockchains Act of 2023\",\"Abandoned Well Remediation Research<br>and<br>Development Act\",\"Stop Harboring Iranian Petroleum Act\",\"Securing Growth and Robust Leadership in<br>American<br>Aviation Act\",\"Fire Weather Development Act of 2024\",\"Coastal Communities Ocean Acidification Act<br>of<br>2023\",\"Wastewater Infrastructure Pollution Prevention<br>and<br>Environmental Safety Act\",\"One Seat Ride Act\",\"To direct the Secretary of Energy to<br>provide<br>financial assistance to graduate<br>students and<br>postdoctoral researchers pursuing<br>certain courses<br>of study relating to<br>cybersecurity and energy<br>infrastructure, and<br>for other purposes.\",\"Improving Law Enforcement Officer Safety<br>and<br>Wellness Through Data Act\",\"21st Century Peace through Strength Act\",\"Advanced Weather Model Computing Development Act\",\"Israel Security Supplemental Appropriations<br>Act,<br>2024\",\"Enhancing Multi-Class Share Disclosures Act\",\"Hamas International Financing Prevention Act\",\"National Construction Safety Team Enhancement<br>Act<br>of 2024\",\"Privacy Enhancing Technology Research Act\",\"Carbon Sequestration Collaboration Act\",\"Special District Grant Accessibility Act\",\"Fort San Ger\\u00f3nimo Preservation Act\",\"National Telecommunications and<br>Information<br>Administration Reauthorization Act<br>of 2024\",\"To designate the facility of the United<br>States<br>Postal Service located at 220 North<br>Hatcher Avenue<br>in Purcellville, Virginia, as<br>the \\\"Secretary of<br>State Madeleine Albright Post<br>Office Building\\\".\",\"Youth Poisoning Protection Act\",\"Setting Consumer Standards for Lithium-<br>Ion<br>Batteries Act\",\"Native American Child Protection Act\",\"Support for Patients and<br>Communities<br>Reauthorization Act\",\"Indo-Pacific Security Supplemental<br>Appropriations<br>Act, 2024\",\"Recruit and Retain Act\",\"A Stronger Workforce for America Act\",\"National Museum of Play Recognition Act\",\"Relating to a national emergency declared by<br>the<br>President on October 27, 2006.\",\"Providing Appropriate Recognition and<br>Treatment<br>Needed to Enhance Relations with<br>ASEAN Act\",\"No Paydays for Hostage-Takers Act\",\"Relating to a national emergency declared by<br>the<br>President on February 25, 2011.\",\"Small Entity Update Act\",\"No Hidden Fees on Extra Expenses for Stays Act<br>of<br>2023\",\"Coast Guard Authorization Act of 2024\",\"Airport and Airway Extension Act of 2023, Part II\",\"Airport and Airway Extension Act of 2024, Part II\",\"Securing Growth and Robust Leadership in<br>American<br>Aviation Act\",\"Transparency In Charges for Key Events<br>Ticketing<br>Act\",\"Global Investment in American Jobs Act of 2023\",\"Promoting a Resolution to the Tibet-China<br>Dispute<br>Act\",\"Equal Opportunity for All Investors Act of 2023\",\"National Defense Authorization Act for Fiscal<br>Year<br>2024\",\"Relating to a national emergency declared by<br>the<br>President on May 16, 2012.\",\"To designate the facility of the United<br>States<br>Postal Service located at 15 South<br>Valdosta Road<br>in Lakeland, Georgia, as the<br>\\\"Nell Patten<br>Roquemore Post Office\\\".\",\"Foreign Affiliates Sharing Pilot Program<br>Extension<br>Act\",\"Relating to a national emergency declared by<br>the<br>President on May 22, 2003.\",\"Relating to a national emergency declared by<br>the<br>President on May 11, 2004.\",\"Encouraging Public Offerings Act of 2023\",\"Understanding Cybersecurity of Mobile Networks Act\",\"Promoting Resilient Supply Chains Act of 2023\",\"To amend the Internal Revenue Code of 1986<br>to<br>terminate the tax-exempt status of<br>terrorist<br>supporting organizations.\",\"Iran-China Energy Sanctions Act of 2023\",\"Information Quality Assurance Act\",\"Weather Research and Forecasting<br>Innovation<br>Reauthorization Act of 2023\",\"Federal Disaster Tax Relief Act of 2023\",\"An Act to amend the Federal Fire Prevention<br>and<br>Control Act of 1974 to authorize<br>appropriations<br>for the United States Fire<br>Administration and<br>firefighter assistance grant<br>programs.\",\"Middle Market IPO Underwriting Cost Act\",\"National Defense Authorization Act for Fiscal<br>Year<br>2024\",\"Duck Stamp Modernization Act of 2023\",\"To clarify jurisdiction with respect to<br>certain<br>Bureau of Reclamation pumped storage<br>development,<br>and for other purposes.\",\"Emergency Medical Services for<br>Children<br>Reauthorization Act of 2024\",\"Puyallup Tribe of Indians Land Into<br>Trust<br>Confirmation Act of 2023\",\"Improving Access to Small Business Information Act\",\"No Technology for Terror Act\",\"To direct the Secretary of State to submit<br>to<br>Congress a report on implementation of<br>the<br>advanced capabilities pillar of the<br>trilateral<br>security partnership between<br>Australia, the United<br>Kingdom, and the United<br>States.\",\"To designate the facility of the United<br>States<br>Postal Service located at 616 East Main<br>Street in<br>St. Charles, Illinois, as the<br>\\\"Veterans of the<br>Vietnam War Memorial Post<br>Office\\\".\",\"Federal Prison Oversight Act\",\"Solidify Iran Sanctions Act of 2023\",\"To amend title 5, United States Code, to limit<br>the<br>use of educational requirements or<br>qualifications<br>in evaluating candidates for<br>certain cybersecurity<br>positions in the<br>competitive service, and for<br>other purposes.\",\"Veterans Economic Opportunity and<br>Transition<br>Administration Act\",\"Informing Consumers about Smart Devices Act\",\"Countering Weapons of Mass Destruction<br>Extension<br>Act of 2023\",\"Iran Sanctions Accountability Act of 2023\",\"Fight CRIME Act\",\"China Financial Threat Mitigation Act of 2023\",\"Extending Limits of U.S. Customs Waters Act\",\"Illicit Captagon Trafficking Suppression Act<br>of<br>2023\",\"To amend the Taiwan Assurance Act of 2020<br>to<br>require periodic reviews and updated<br>reports<br>relating to the Department of State's<br>Taiwan<br>Guidelines.\",\"Housing our Military Veterans Effectively Act<br>of<br>2023\",\"Precision Agriculture Satellite Connectivity Act\",\"Dr. Emmanuel Bilirakis and Honorable<br>Jennifer<br>Wexton National Plan to End<br>Parkinson\\u2019s Act\",\"USA Act\",\"Student Veteran Benefit Restoration Act\",\"Preventing the Financing of Illegal<br>Synthetic<br>Drugs Act\",\"Special Envoy for the Abraham Accords Act\",\"VET\\u2013TEC Authorization Act of 2023\",\"Providing Accountability Through Transparency<br>Act<br>of 2023\",\"To designate the facility of the United<br>States<br>Postal Service located at 103 Benedette<br>Street in<br>Rayville, Louisiana, as the \\\"Luke<br>Letlow Post<br>Office Building\\\".\",\"ACRES Act\",\"Countering Untrusted Telecommunications Abroad Act\",\"Expressing the sense of Congress supporting<br>the<br>State of Israel.\",\"Authorizing the use of Emancipation Hall in<br>the<br>Capitol Visitor Center for a ceremony as<br>part of<br>the commemoration of the days of<br>remembrance of<br>victims of the Holocaust.\",\"Maternal and Child Health Stillbirth<br>Prevention<br>Act of 2024\",\"Debbie Smith Act of 2023\",\"Missing Children's Assistance Reauthorization<br>Act<br>of 2023\",\"MAHSA Act\",\"Veteran Entrepreneurship Training Act of 2023\",\"Protecting and Securing Chemical Facilities<br>from<br>Terrorist Attacks Act of 2023\",\"250th Anniversary of the United States<br>Marine<br>Corps Commemorative Coin Act\",\"To rename the Department of Veterans<br>Affairs<br>community-based outpatient clinic in<br>Hinesville,<br>Georgia, as the \\\"John Gibson, Dan<br>James, William<br>Sapp, and Frankie Smiley VA<br>Clinic\\\".\",\"Elizabeth Dole Home Care Act of 2023\",\"A bill to designate the clinic of the<br>Department<br>of Veterans Affairs in Gallup, New<br>Mexico, as the<br>Hiroshi \\\"Hershey\\\" Miyamura VA<br>Clinic.\",\"To designate the clinic of the Department<br>of<br>Veterans Affairs in Indian River, Michigan,<br>as the<br>\\\"Pfc. Justin T. Paton Department of<br>Veterans<br>Affairs Clinic\\\".\",\"Isakson-Roe Education Oversight Expansion Act\",\"Stop Forced Organ Harvesting Act of 2023\",\"NDO Fairness Act\",\"Veteran Fraud Reimbursement Act\",\"To extend the authority to collect Shasta-<br>Trinity<br>Marina fees through fiscal year 2029.\",\"Holding Iranian Leaders Accountable Act of 2023\",\"Strengthening Tools to Counter the Use of<br>Human<br>Shields Act\",\"PRC Is Not a Developing Country Act\",\"COVID-19 Origin Act of 2023\",\"Protect Small Business and Prevent<br>Illicit<br>Financial Activity Act\",\"Advanced, Local Emergency<br>Response<br>Telecommunications Parity Act\",\"A bill to amend title 38, United States Code,<br>to<br>strengthen benefits for children of<br>Vietnam<br>veterans born with spina bifida, and<br>for other<br>purposes.\",\"Wounded Warrior Access Act\",\"Protecting Hunting Heritage and Education Act\",\"Veterans Benefits Improvement Act of 2023\",\"TRANQ Research Act of 2023\",\"VA COST SAVINGS Enhancements Act\"],\"xaxis\":\"x\",\"y\":[222,217,217,217,217,221,217,220,222,219,217,217,219,221,217,220,222,217,217,220,222,220,221,218,222,221,219,218,221,217,222,221,221,222,222,217,221,221,217,222,217,222,221,222,221,220,221,221,222,222,222,218,221,222,222,221,222,221,217,220,222,221,222,217,220,222,221,222,221,222,222,218,222,217,221,217,221,221,221,221,222,221,218,222,222,222,217,220,216,220,217,222,221,221,222,221,221,222,221,221,217,222,217,222,221,217,216,221,221,221,220,222,222,221,218,217,222,218,217,217,218,222,218,217,218,217,218,222,221,222,218,221,221,222,218,222,221,217,220,221,222,221,221,218,220,217,217,216,221,221,216,221,217,220,221,217,218,221,218,222,220,216,216,217,217,220,217,216,216,217,220,220,218,217,217,218,221,222,218,221,222,217,217,220,217,217,217,221,218,222,221,221,218,220,221,221,221,221,217,217,217,217,216,216,217,221,221,220,220,217,217,221,218,221,221,216,218,221,216,221,220,218,221,221,216,218,221,220,222,221,221,216,221,221,222,221,217,221,222,221,222,216,220,217,221,221,221,221,220,221,220,221,220,221,222,216,221,218,218,221,222,220,221,221,222,221,221,222,221],\"yaxis\":\"y\",\"type\":\"bar\"},{\"alignmentgroup\":\"True\",\"hovertemplate\":\"Party=I_total<br>title=%{x}<br>Number of Votes=%{y}<extra></extra>\",\"legendgroup\":\"I_total\",\"marker\":{\"color\":\"#00cc96\",\"pattern\":{\"shape\":\"\"}},\"name\":\"I_total\",\"offsetgroup\":\"I_total\",\"orientation\":\"v\",\"showlegend\":true,\"textposition\":\"auto\",\"x\":[\"Limit, Save, Grow Act of 2023\",\"Hands Off Our Home Appliances Act\",\"Trust the Science Act\",\"Equal Representation Act\",\"Equal Representation Act\",\"Department of State, Foreign Operations,<br>and<br>Related Programs Appropriations Act, 2024\",\"Superior National Forest Restoration Act\",\"Ensuring Accountability in Agency Rulemaking Act\",\"Parents Bill of Rights Act\",\"Cutting Green Corruption and Taxes Act\",\"Mining Regulatory Clarity Act of 2024\",\"Trust the Science Act\",\"Cutting Green Corruption and Taxes Act\",\"Agriculture, Rural Development, Food and<br>Drug<br>Administration, and Related<br>Agencies<br>Appropriations Act, 2024\",\"Mining Regulatory Clarity Act of 2024\",\"Continuing Appropriations and Border<br>Security<br>Enhancement Act, 2024\",\"Secure the Border Act of 2023\",\"Western Economic Security Today Act of 2024\",\"Protecting Access for Hunters and Anglers Act<br>of<br>2023\",\"Department of State, Foreign Operations,<br>and<br>Related Programs Appropriations Act, 2024\",\"National Defense Authorization Act for Fiscal<br>Year<br>2024\",\"Legislative Branch Appropriations Act, 2024\",\"Department of Defense Appropriations Act, 2024\",\"Creating Confidence in Clean Water Permitting Act\",\"Consolidated Appropriations Act, 2024\",\"Department of Defense Appropriations Act, 2024\",\"Creating Confidence in Clean Water Permitting Act\",\"Military Construction, Veterans Affairs,<br>and<br>Related Agencies Appropriations Act, 2025\",\"Department of Homeland Security<br>Appropriations<br>Act, 2024\",\"Israel Security Assistance Support Act\",\"National Defense Authorization Act for Fiscal<br>Year<br>2024\",\"National Defense Authorization Act for Fiscal<br>Year<br>2024\",\"SOPRA\",\"Providing for congressional disapproval<br>under<br>chapter 8 of title 5, United States Code,<br>of the<br>rule submitted by the Bureau of Alcohol,<br>Tobacco,<br>Firearms, and Explosives relating to<br>\\\"Factoring<br>Criteria for Firearms with Attached<br>'Stabilizing<br>Braces'\\\".\",\"Disapproving the rule submitted by the<br>Department<br>of Commerce relating to \\\"Procedures<br>Covering<br>Suspension of Liquidation, Duties and<br>Estimated<br>Duties in Accord With Presidential<br>Proclamation<br>10414\\\".\",\"Superior National Forest Restoration Act\",\"SOPRA\",\"REINS Act of 2023\",\"Alaska\\u2019s Right to Produce Act of 2023\",\"Secure the Border Act of 2023\",\"Western Economic Security Today Act of 2024\",\"Limit, Save, Grow Act of 2023\",\"Department of the Interior, Environment,<br>and<br>Related Agencies Appropriations Act, 2024\",\"Pandemic is Over Act\",\"REINS Act of 2023\",\"Energy and Water Development and Related<br>Agencies<br>Appropriations Act, 2024\",\"Energy and Water Development and Related<br>Agencies<br>Appropriations Act, 2024\",\"A joint resolution providing for<br>congressional<br>disapproval under chapter 8 of<br>title 5, United<br>States Code, of the rule<br>submitted by the United<br>States Fish and<br>Wildlife Service relating to<br>\\\"Endangered and<br>Threatened Wildlife and Plants;<br>Endangered<br>Species Status for Northern Long-Eared<br>Bat\\\".\",\"Protecting Taxpayers and Victims of<br>Unemployment<br>Fraud Act\",\"CHOICE Arrangement Act\",\"CHOICE Arrangement Act\",\"Military Construction, Veterans Affairs,<br>and<br>Related Agencies Appropriations Act, 2025\",\"Department of Homeland Security<br>Appropriations<br>Act, 2024\",\"Schools Not Shelters Act\",\"To terminate the requirement imposed by<br>the<br>Director of the Centers for Disease Control<br>and<br>Prevention for proof of COVID-19<br>vaccination for<br>foreign travelers, and for<br>other purposes.\",\"Providing for congressional disapproval<br>under<br>chapter 8 of title 5, United States Code,<br>of the<br>rule submitted by the Department of<br>Labor relating<br>to \\\"Prudence and Loyalty in<br>Selecting Plan<br>Investments and Exercising<br>Shareholder Rights\\\".\",\"Consolidated Appropriations Act, 2024\",\"Protecting Speech from Government Interference Act\",\"Protecting Access for Hunters and Anglers Act<br>of<br>2023\",\"Choice in Automobile Retail Sales Act of 2023\",\"Protection of Women and Girls in Sports Act<br>of<br>2023\",\"Department of the Interior, Environment,<br>and<br>Related Agencies Appropriations Act, 2024\",\"Protecting Speech from Government Interference Act\",\"Alaska\\u2019s Right to Produce Act of 2023\",\"Ensuring Accountability in Agency Rulemaking Act\",\"Lower Energy Costs Act\",\"Parents Bill of Rights Act\",\"A joint resolution providing for<br>congressional<br>disapproval under chapter 8 of<br>title 5, United<br>States Code, of the rule<br>submitted by the United<br>States Fish and<br>Wildlife Service relating to<br>\\\"Endangered and<br>Threatened Wildlife and Plants;<br>Lesser Prairie-<br>Chicken; Threatened Status with<br>Section 4(d)<br>Rule for the Northern Distinct<br>Population<br>Segment and Endangered Status for the<br>Southern<br>Distinct Population Segment\\\".\",\"SHOW UP Act of 2023\",\"Providing for congressional disapproval<br>under<br>chapter 8 of title 5, United States Code,<br>of the<br>rule submitted by the Department of<br>Education<br>relating to \\\"Waivers and<br>Modifications of Federal<br>Student Loans\\\".\",\"Providing for congressional disapproval<br>under<br>chapter 8 of title 5, United States Code,<br>of the<br>rule submitted by the Department of<br>Education<br>relating to \\\"Waivers and<br>Modifications of Federal<br>Student Loans\\\".\",\"Transnational Criminal Organization<br>Illicit<br>Spotter Prevention and Elimination Act\",\"Protection of Women and Girls in Sports Act<br>of<br>2023\",\"Hands Off Our Home Appliances Act\",\"Middle Class Borrower Protection Act of 2023\",\"To prohibit individuals who are not citizens<br>of<br>the United States from voting in elections<br>in the<br>District of Columbia and to repeal the<br>Local<br>Resident Voting Rights Amendment Act of<br>2022\",\"Legislative Branch Appropriations Act, 2024\",\"A joint resolution providing for<br>congressional<br>disapproval under chapter 8 of<br>title 5, United<br>States Code, of the rule<br>submitted by the<br>Environmental Protection<br>Agency relating to<br>\\\"Control of Air Pollution<br>From New Motor Vehicles:<br>Heavy-Duty Engine and<br>Vehicle Standards\\\".\",\"Preserving Choice in Vehicle Purchases Act\",\"Providing for congressional disapproval<br>under<br>chapter 8 of title 5, United States Code,<br>of the<br>rule submitted by the Department of<br>Labor relating<br>to \\\"Prudence and Loyalty in<br>Selecting Plan<br>Investments and Exercising<br>Shareholder Rights\\\".\",\"Disapproving the rule submitted by the<br>Department<br>of Commerce relating to \\\"Procedures<br>Covering<br>Suspension of Liquidation, Duties and<br>Estimated<br>Duties in Accord With Presidential<br>Proclamation<br>10414\\\".\",\"A joint resolution providing for<br>congressional<br>disapproval under chapter 8 of<br>title 5, United<br>States Code, of the rule<br>submitted by the Bureau<br>of Consumer Financial<br>Protection relating to<br>\\\"Small Business Lending<br>Under the Equal Credit<br>Opportunity Act<br>(Regulation B)\\\".\",\"Fourth Amendment Is Not For Sale Act\",\"Lower Energy Costs Act\",\"Schools Not Shelters Act\",\"Protecting our Communities from Failure to<br>Secure<br>the Border Act of 2023\",\"Mining Regulatory Clarity Act of 2024\",\"Providing for congressional disapproval<br>under<br>chapter 8 of title 5, United States Code,<br>of the<br>rule submitted by the Department of<br>Education<br>relating to \\\"Improving Income Driven<br>Repayment for<br>the William D. Ford Federal<br>Direct Loan Program<br>and the Federal Family<br>Education Loan (FFEL)<br>Program\\\".\",\"Providing for congressional disapproval<br>under<br>chapter 8 of title 5, United States Code,<br>of the<br>rule submitted by the National Labor<br>Relations<br>Board relating to \\\"Standard for<br>Determining Joint<br>Employer Status\\\".\",\"Choice in Automobile Retail Sales Act of 2023\",\"CBDC Anti-Surveillance State Act\",\"To terminate the requirement imposed by<br>the<br>Director of the Centers for Disease Control<br>and<br>Prevention for proof of COVID-19<br>vaccination for<br>foreign travelers, and for<br>other purposes.\",\"Providing for congressional disapproval<br>under<br>chapter 8 of title 5, United States Code,<br>of the<br>rule submitted by the Department of the<br>Army,<br>Corps of Engineers, Department of Defense<br>and the<br>Environmental Protection Agency<br>relating to<br>\\\"Revised Definition of 'Waters of<br>the United<br>States'\\\".\",\"Israel Security Supplemental Appropriations<br>Act,<br>2024\",\"Protecting Taxpayers and Victims of<br>Unemployment<br>Fraud Act\",\"Providing for congressional disapproval<br>under<br>chapter 8 of title 5, United States Code,<br>of the<br>rule submitted by the Department of the<br>Army,<br>Corps of Engineers, Department of Defense<br>and the<br>Environmental Protection Agency<br>relating to<br>\\\"Revised Definition of 'Waters of<br>the United<br>States'\\\".\",\"Relating to a national emergency declared by<br>the<br>President on March 13, 2020.\",\"Preserving Choice in Vehicle Purchases Act\",\"Federal Law Enforcement Officer Service<br>Weapon<br>Purchase Act\",\"Continuing Appropriations and Border<br>Security<br>Enhancement Act, 2024\",\"LEOSA Reform Act of 2024\",\"Disapproving the action of the District<br>of<br>Columbia Council in approving the<br>Comprehensive<br>Policing and Justice Reform<br>Amendment Act of 2022.\",\"Israel Security Assistance Support Act\",\"Disapproving the action of the District<br>of<br>Columbia Council in approving the<br>Comprehensive<br>Policing and Justice Reform<br>Amendment Act of 2022.\",\"Middle Class Borrower Protection Act of 2023\",\"D. C. Criminal Reforms to Immediately<br>Make<br>Everyone Safe Act of 2024\",\"Providing for congressional disapproval<br>under<br>chapter 8 of title 5, United States Code,<br>of the<br>rule submitted by the Securities and<br>Exchange<br>Commission relating to \\\"Staff<br>Accounting Bulletin<br>No. 121\\\".\",\"Agriculture, Rural Development, Food and<br>Drug<br>Administration, and Related<br>Agencies<br>Appropriations Act, 2024\",\"Gas Stove Protection and Freedom Act\",\"Save Our Gas Stoves Act\",\"DETERRENT Act\",\"Disapproving the action of the District<br>of<br>Columbia Council in approving the Revised<br>Criminal<br>Code Act of 2022.\",\"POLICE Act of 2023\",\"SAT Streamlining Act\",\"Illegitimate Court Counteraction Act\",\"Police Our Border Act\",\"Disapproving the action of the District<br>of<br>Columbia Council in approving the Local<br>Resident<br>Voting Rights Amendment Act of 2022.\",\"To provide for the rescission of certain<br>waivers<br>and licenses relating to Iran, and for<br>other<br>purposes.\",\"Detain and Deport Illegal Aliens Who Assault<br>Cops<br>Act\",\"To prohibit individuals who are not citizens<br>of<br>the United States from voting in elections<br>in the<br>District of Columbia and to repeal the<br>Local<br>Resident Voting Rights Amendment Act of<br>2022\",\"Iran Counterterrorism Act of 2023\",\"Reduce Exacerbated Inflation Negatively<br>Impacting<br>the Nation Act\",\"Reforming Intelligence and Securing America Act\",\"Reforming Intelligence and Securing America Act\",\"Iran Sanctions Relief Review Act of 2023\",\"Financial Innovation and Technology for the<br>21st<br>Century Act\",\"Standing Against Houthi Aggression Act\",\"HALT Fentanyl Act\",\"Expressing support for local law<br>enforcement<br>officers and condemning efforts to<br>defund or<br>dismantle local law enforcement<br>agencies.\",\"No Funds for Iranian Terrorism Act\",\"No U.S. Financing for Iran Act of 2023\",\"National Defense Authorization Act for Fiscal<br>Year<br>2024\",\"Ukraine Security Assistance and<br>Oversight<br>Supplemental Appropriations Act, 2024\",\"Fiscal Responsibility Act of 2023\",\"Ukraine Security Supplemental Appropriations<br>Act,<br>2024\",\"Directing the President, pursuant to section<br>5(c)<br>of the War Powers Resolution, to remove<br>the United<br>States Armed Forces from Syria.\",\"Directing the President, pursuant to section<br>5(c)<br>of the War Powers Resolution, to remove<br>all United<br>States Armed Forces, other than<br>United States<br>Armed Forces assigned to protect<br>the United States<br>Embassy, from Somalia.\",\"Antisemitism Awareness Act of 2023\",\"Whole Milk for Healthy Kids Act of 2023\",\"Further Continuing Appropriations and<br>Other<br>Extensions Act, 2024\",\"Denouncing the horrors of socialism.\",\"Promoting Opportunities for Non-<br>Traditional<br>Capital Formation Act\",\"Continuing Appropriations Act, 2024 and<br>Other<br>Extensions Act\",\"Ukraine Security Supplemental Appropriations<br>Act,<br>2024\",\"Lower Costs, More Transparency Act\",\"Sea Turtle Rescue Assistance and<br>Rehabilitation<br>Act of 2023\",\"Deploying American Blockchains Act of 2023\",\"Abandoned Well Remediation Research<br>and<br>Development Act\",\"Stop Harboring Iranian Petroleum Act\",\"Securing Growth and Robust Leadership in<br>American<br>Aviation Act\",\"Fire Weather Development Act of 2024\",\"Coastal Communities Ocean Acidification Act<br>of<br>2023\",\"Wastewater Infrastructure Pollution Prevention<br>and<br>Environmental Safety Act\",\"One Seat Ride Act\",\"To direct the Secretary of Energy to<br>provide<br>financial assistance to graduate<br>students and<br>postdoctoral researchers pursuing<br>certain courses<br>of study relating to<br>cybersecurity and energy<br>infrastructure, and<br>for other purposes.\",\"Improving Law Enforcement Officer Safety<br>and<br>Wellness Through Data Act\",\"21st Century Peace through Strength Act\",\"Advanced Weather Model Computing Development Act\",\"Israel Security Supplemental Appropriations<br>Act,<br>2024\",\"Enhancing Multi-Class Share Disclosures Act\",\"Hamas International Financing Prevention Act\",\"National Construction Safety Team Enhancement<br>Act<br>of 2024\",\"Privacy Enhancing Technology Research Act\",\"Carbon Sequestration Collaboration Act\",\"Special District Grant Accessibility Act\",\"Fort San Ger\\u00f3nimo Preservation Act\",\"National Telecommunications and<br>Information<br>Administration Reauthorization Act<br>of 2024\",\"To designate the facility of the United<br>States<br>Postal Service located at 220 North<br>Hatcher Avenue<br>in Purcellville, Virginia, as<br>the \\\"Secretary of<br>State Madeleine Albright Post<br>Office Building\\\".\",\"Youth Poisoning Protection Act\",\"Setting Consumer Standards for Lithium-<br>Ion<br>Batteries Act\",\"Native American Child Protection Act\",\"Support for Patients and<br>Communities<br>Reauthorization Act\",\"Indo-Pacific Security Supplemental<br>Appropriations<br>Act, 2024\",\"Recruit and Retain Act\",\"A Stronger Workforce for America Act\",\"National Museum of Play Recognition Act\",\"Relating to a national emergency declared by<br>the<br>President on October 27, 2006.\",\"Providing Appropriate Recognition and<br>Treatment<br>Needed to Enhance Relations with<br>ASEAN Act\",\"No Paydays for Hostage-Takers Act\",\"Relating to a national emergency declared by<br>the<br>President on February 25, 2011.\",\"Small Entity Update Act\",\"No Hidden Fees on Extra Expenses for Stays Act<br>of<br>2023\",\"Coast Guard Authorization Act of 2024\",\"Airport and Airway Extension Act of 2023, Part II\",\"Airport and Airway Extension Act of 2024, Part II\",\"Securing Growth and Robust Leadership in<br>American<br>Aviation Act\",\"Transparency In Charges for Key Events<br>Ticketing<br>Act\",\"Global Investment in American Jobs Act of 2023\",\"Promoting a Resolution to the Tibet-China<br>Dispute<br>Act\",\"Equal Opportunity for All Investors Act of 2023\",\"National Defense Authorization Act for Fiscal<br>Year<br>2024\",\"Relating to a national emergency declared by<br>the<br>President on May 16, 2012.\",\"To designate the facility of the United<br>States<br>Postal Service located at 15 South<br>Valdosta Road<br>in Lakeland, Georgia, as the<br>\\\"Nell Patten<br>Roquemore Post Office\\\".\",\"Foreign Affiliates Sharing Pilot Program<br>Extension<br>Act\",\"Relating to a national emergency declared by<br>the<br>President on May 22, 2003.\",\"Relating to a national emergency declared by<br>the<br>President on May 11, 2004.\",\"Encouraging Public Offerings Act of 2023\",\"Understanding Cybersecurity of Mobile Networks Act\",\"Promoting Resilient Supply Chains Act of 2023\",\"To amend the Internal Revenue Code of 1986<br>to<br>terminate the tax-exempt status of<br>terrorist<br>supporting organizations.\",\"Iran-China Energy Sanctions Act of 2023\",\"Information Quality Assurance Act\",\"Weather Research and Forecasting<br>Innovation<br>Reauthorization Act of 2023\",\"Federal Disaster Tax Relief Act of 2023\",\"An Act to amend the Federal Fire Prevention<br>and<br>Control Act of 1974 to authorize<br>appropriations<br>for the United States Fire<br>Administration and<br>firefighter assistance grant<br>programs.\",\"Middle Market IPO Underwriting Cost Act\",\"National Defense Authorization Act for Fiscal<br>Year<br>2024\",\"Duck Stamp Modernization Act of 2023\",\"To clarify jurisdiction with respect to<br>certain<br>Bureau of Reclamation pumped storage<br>development,<br>and for other purposes.\",\"Emergency Medical Services for<br>Children<br>Reauthorization Act of 2024\",\"Puyallup Tribe of Indians Land Into<br>Trust<br>Confirmation Act of 2023\",\"Improving Access to Small Business Information Act\",\"No Technology for Terror Act\",\"To direct the Secretary of State to submit<br>to<br>Congress a report on implementation of<br>the<br>advanced capabilities pillar of the<br>trilateral<br>security partnership between<br>Australia, the United<br>Kingdom, and the United<br>States.\",\"To designate the facility of the United<br>States<br>Postal Service located at 616 East Main<br>Street in<br>St. Charles, Illinois, as the<br>\\\"Veterans of the<br>Vietnam War Memorial Post<br>Office\\\".\",\"Federal Prison Oversight Act\",\"Solidify Iran Sanctions Act of 2023\",\"To amend title 5, United States Code, to limit<br>the<br>use of educational requirements or<br>qualifications<br>in evaluating candidates for<br>certain cybersecurity<br>positions in the<br>competitive service, and for<br>other purposes.\",\"Veterans Economic Opportunity and<br>Transition<br>Administration Act\",\"Informing Consumers about Smart Devices Act\",\"Countering Weapons of Mass Destruction<br>Extension<br>Act of 2023\",\"Iran Sanctions Accountability Act of 2023\",\"Fight CRIME Act\",\"China Financial Threat Mitigation Act of 2023\",\"Extending Limits of U.S. Customs Waters Act\",\"Illicit Captagon Trafficking Suppression Act<br>of<br>2023\",\"To amend the Taiwan Assurance Act of 2020<br>to<br>require periodic reviews and updated<br>reports<br>relating to the Department of State's<br>Taiwan<br>Guidelines.\",\"Housing our Military Veterans Effectively Act<br>of<br>2023\",\"Precision Agriculture Satellite Connectivity Act\",\"Dr. Emmanuel Bilirakis and Honorable<br>Jennifer<br>Wexton National Plan to End<br>Parkinson\\u2019s Act\",\"USA Act\",\"Student Veteran Benefit Restoration Act\",\"Preventing the Financing of Illegal<br>Synthetic<br>Drugs Act\",\"Special Envoy for the Abraham Accords Act\",\"VET\\u2013TEC Authorization Act of 2023\",\"Providing Accountability Through Transparency<br>Act<br>of 2023\",\"To designate the facility of the United<br>States<br>Postal Service located at 103 Benedette<br>Street in<br>Rayville, Louisiana, as the \\\"Luke<br>Letlow Post<br>Office Building\\\".\",\"ACRES Act\",\"Countering Untrusted Telecommunications Abroad Act\",\"Expressing the sense of Congress supporting<br>the<br>State of Israel.\",\"Authorizing the use of Emancipation Hall in<br>the<br>Capitol Visitor Center for a ceremony as<br>part of<br>the commemoration of the days of<br>remembrance of<br>victims of the Holocaust.\",\"Maternal and Child Health Stillbirth<br>Prevention<br>Act of 2024\",\"Debbie Smith Act of 2023\",\"Missing Children's Assistance Reauthorization<br>Act<br>of 2023\",\"MAHSA Act\",\"Veteran Entrepreneurship Training Act of 2023\",\"Protecting and Securing Chemical Facilities<br>from<br>Terrorist Attacks Act of 2023\",\"250th Anniversary of the United States<br>Marine<br>Corps Commemorative Coin Act\",\"To rename the Department of Veterans<br>Affairs<br>community-based outpatient clinic in<br>Hinesville,<br>Georgia, as the \\\"John Gibson, Dan<br>James, William<br>Sapp, and Frankie Smiley VA<br>Clinic\\\".\",\"Elizabeth Dole Home Care Act of 2023\",\"A bill to designate the clinic of the<br>Department<br>of Veterans Affairs in Gallup, New<br>Mexico, as the<br>Hiroshi \\\"Hershey\\\" Miyamura VA<br>Clinic.\",\"To designate the clinic of the Department<br>of<br>Veterans Affairs in Indian River, Michigan,<br>as the<br>\\\"Pfc. Justin T. Paton Department of<br>Veterans<br>Affairs Clinic\\\".\",\"Isakson-Roe Education Oversight Expansion Act\",\"Stop Forced Organ Harvesting Act of 2023\",\"NDO Fairness Act\",\"Veteran Fraud Reimbursement Act\",\"To extend the authority to collect Shasta-<br>Trinity<br>Marina fees through fiscal year 2029.\",\"Holding Iranian Leaders Accountable Act of 2023\",\"Strengthening Tools to Counter the Use of<br>Human<br>Shields Act\",\"PRC Is Not a Developing Country Act\",\"COVID-19 Origin Act of 2023\",\"Protect Small Business and Prevent<br>Illicit<br>Financial Activity Act\",\"Advanced, Local Emergency<br>Response<br>Telecommunications Parity Act\",\"A bill to amend title 38, United States Code,<br>to<br>strengthen benefits for children of<br>Vietnam<br>veterans born with spina bifida, and<br>for other<br>purposes.\",\"Wounded Warrior Access Act\",\"Protecting Hunting Heritage and Education Act\",\"Veterans Benefits Improvement Act of 2023\",\"TRANQ Research Act of 2023\",\"VA COST SAVINGS Enhancements Act\"],\"xaxis\":\"x\",\"y\":[0,0,0,0,0,0,0,0,0,0,0,0,0,0,0,0,0,0,0,0,0,0,0,0,0,0,0,0,0,0,0,0,0,0,0,0,0,0,0,0,0,0,0,0,0,0,0,0,0,0,0,0,0,0,0,0,0,0,0,0,0,0,0,0,0,0,0,0,0,0,0,0,0,0,0,0,0,0,0,0,0,0,0,0,0,0,0,0,0,0,0,0,0,0,0,0,0,0,0,0,0,0,0,0,0,0,0,0,0,0,0,0,0,0,0,0,0,0,0,0,0,0,0,0,0,0,0,0,0,0,0,0,0,0,0,0,0,0,0,0,0,0,0,0,0,0,0,0,0,0,0,0,0,0,0,0,0,0,0,0,0,0,0,0,0,0,0,0,0,0,0,0,0,0,0,0,0,0,0,0,0,0,0,0,0,0,0,0,0,0,0,0,0,0,0,0,0,0,0,0,0,0,0,0,0,0,0,0,0,0,0,0,0,0,0,0,0,0,0,0,0,0,0,0,0,0,0,0,0,0,0,0,0,0,0,0,0,0,0,0,0,0,0,0,0,0,0,0,0,0,0,0,0,0,0,0,0,0,0,0,0,0,0,0,0,0,0,0,0],\"yaxis\":\"y\",\"type\":\"bar\"}],                        {\"template\":{\"data\":{\"histogram2dcontour\":[{\"type\":\"histogram2dcontour\",\"colorbar\":{\"outlinewidth\":0,\"ticks\":\"\"},\"colorscale\":[[0.0,\"#0d0887\"],[0.1111111111111111,\"#46039f\"],[0.2222222222222222,\"#7201a8\"],[0.3333333333333333,\"#9c179e\"],[0.4444444444444444,\"#bd3786\"],[0.5555555555555556,\"#d8576b\"],[0.6666666666666666,\"#ed7953\"],[0.7777777777777778,\"#fb9f3a\"],[0.8888888888888888,\"#fdca26\"],[1.0,\"#f0f921\"]]}],\"choropleth\":[{\"type\":\"choropleth\",\"colorbar\":{\"outlinewidth\":0,\"ticks\":\"\"}}],\"histogram2d\":[{\"type\":\"histogram2d\",\"colorbar\":{\"outlinewidth\":0,\"ticks\":\"\"},\"colorscale\":[[0.0,\"#0d0887\"],[0.1111111111111111,\"#46039f\"],[0.2222222222222222,\"#7201a8\"],[0.3333333333333333,\"#9c179e\"],[0.4444444444444444,\"#bd3786\"],[0.5555555555555556,\"#d8576b\"],[0.6666666666666666,\"#ed7953\"],[0.7777777777777778,\"#fb9f3a\"],[0.8888888888888888,\"#fdca26\"],[1.0,\"#f0f921\"]]}],\"heatmap\":[{\"type\":\"heatmap\",\"colorbar\":{\"outlinewidth\":0,\"ticks\":\"\"},\"colorscale\":[[0.0,\"#0d0887\"],[0.1111111111111111,\"#46039f\"],[0.2222222222222222,\"#7201a8\"],[0.3333333333333333,\"#9c179e\"],[0.4444444444444444,\"#bd3786\"],[0.5555555555555556,\"#d8576b\"],[0.6666666666666666,\"#ed7953\"],[0.7777777777777778,\"#fb9f3a\"],[0.8888888888888888,\"#fdca26\"],[1.0,\"#f0f921\"]]}],\"heatmapgl\":[{\"type\":\"heatmapgl\",\"colorbar\":{\"outlinewidth\":0,\"ticks\":\"\"},\"colorscale\":[[0.0,\"#0d0887\"],[0.1111111111111111,\"#46039f\"],[0.2222222222222222,\"#7201a8\"],[0.3333333333333333,\"#9c179e\"],[0.4444444444444444,\"#bd3786\"],[0.5555555555555556,\"#d8576b\"],[0.6666666666666666,\"#ed7953\"],[0.7777777777777778,\"#fb9f3a\"],[0.8888888888888888,\"#fdca26\"],[1.0,\"#f0f921\"]]}],\"contourcarpet\":[{\"type\":\"contourcarpet\",\"colorbar\":{\"outlinewidth\":0,\"ticks\":\"\"}}],\"contour\":[{\"type\":\"contour\",\"colorbar\":{\"outlinewidth\":0,\"ticks\":\"\"},\"colorscale\":[[0.0,\"#0d0887\"],[0.1111111111111111,\"#46039f\"],[0.2222222222222222,\"#7201a8\"],[0.3333333333333333,\"#9c179e\"],[0.4444444444444444,\"#bd3786\"],[0.5555555555555556,\"#d8576b\"],[0.6666666666666666,\"#ed7953\"],[0.7777777777777778,\"#fb9f3a\"],[0.8888888888888888,\"#fdca26\"],[1.0,\"#f0f921\"]]}],\"surface\":[{\"type\":\"surface\",\"colorbar\":{\"outlinewidth\":0,\"ticks\":\"\"},\"colorscale\":[[0.0,\"#0d0887\"],[0.1111111111111111,\"#46039f\"],[0.2222222222222222,\"#7201a8\"],[0.3333333333333333,\"#9c179e\"],[0.4444444444444444,\"#bd3786\"],[0.5555555555555556,\"#d8576b\"],[0.6666666666666666,\"#ed7953\"],[0.7777777777777778,\"#fb9f3a\"],[0.8888888888888888,\"#fdca26\"],[1.0,\"#f0f921\"]]}],\"mesh3d\":[{\"type\":\"mesh3d\",\"colorbar\":{\"outlinewidth\":0,\"ticks\":\"\"}}],\"scatter\":[{\"fillpattern\":{\"fillmode\":\"overlay\",\"size\":10,\"solidity\":0.2},\"type\":\"scatter\"}],\"parcoords\":[{\"type\":\"parcoords\",\"line\":{\"colorbar\":{\"outlinewidth\":0,\"ticks\":\"\"}}}],\"scatterpolargl\":[{\"type\":\"scatterpolargl\",\"marker\":{\"colorbar\":{\"outlinewidth\":0,\"ticks\":\"\"}}}],\"bar\":[{\"error_x\":{\"color\":\"#2a3f5f\"},\"error_y\":{\"color\":\"#2a3f5f\"},\"marker\":{\"line\":{\"color\":\"#E5ECF6\",\"width\":0.5},\"pattern\":{\"fillmode\":\"overlay\",\"size\":10,\"solidity\":0.2}},\"type\":\"bar\"}],\"scattergeo\":[{\"type\":\"scattergeo\",\"marker\":{\"colorbar\":{\"outlinewidth\":0,\"ticks\":\"\"}}}],\"scatterpolar\":[{\"type\":\"scatterpolar\",\"marker\":{\"colorbar\":{\"outlinewidth\":0,\"ticks\":\"\"}}}],\"histogram\":[{\"marker\":{\"pattern\":{\"fillmode\":\"overlay\",\"size\":10,\"solidity\":0.2}},\"type\":\"histogram\"}],\"scattergl\":[{\"type\":\"scattergl\",\"marker\":{\"colorbar\":{\"outlinewidth\":0,\"ticks\":\"\"}}}],\"scatter3d\":[{\"type\":\"scatter3d\",\"line\":{\"colorbar\":{\"outlinewidth\":0,\"ticks\":\"\"}},\"marker\":{\"colorbar\":{\"outlinewidth\":0,\"ticks\":\"\"}}}],\"scattermapbox\":[{\"type\":\"scattermapbox\",\"marker\":{\"colorbar\":{\"outlinewidth\":0,\"ticks\":\"\"}}}],\"scatterternary\":[{\"type\":\"scatterternary\",\"marker\":{\"colorbar\":{\"outlinewidth\":0,\"ticks\":\"\"}}}],\"scattercarpet\":[{\"type\":\"scattercarpet\",\"marker\":{\"colorbar\":{\"outlinewidth\":0,\"ticks\":\"\"}}}],\"carpet\":[{\"aaxis\":{\"endlinecolor\":\"#2a3f5f\",\"gridcolor\":\"white\",\"linecolor\":\"white\",\"minorgridcolor\":\"white\",\"startlinecolor\":\"#2a3f5f\"},\"baxis\":{\"endlinecolor\":\"#2a3f5f\",\"gridcolor\":\"white\",\"linecolor\":\"white\",\"minorgridcolor\":\"white\",\"startlinecolor\":\"#2a3f5f\"},\"type\":\"carpet\"}],\"table\":[{\"cells\":{\"fill\":{\"color\":\"#EBF0F8\"},\"line\":{\"color\":\"white\"}},\"header\":{\"fill\":{\"color\":\"#C8D4E3\"},\"line\":{\"color\":\"white\"}},\"type\":\"table\"}],\"barpolar\":[{\"marker\":{\"line\":{\"color\":\"#E5ECF6\",\"width\":0.5},\"pattern\":{\"fillmode\":\"overlay\",\"size\":10,\"solidity\":0.2}},\"type\":\"barpolar\"}],\"pie\":[{\"automargin\":true,\"type\":\"pie\"}]},\"layout\":{\"autotypenumbers\":\"strict\",\"colorway\":[\"#636efa\",\"#EF553B\",\"#00cc96\",\"#ab63fa\",\"#FFA15A\",\"#19d3f3\",\"#FF6692\",\"#B6E880\",\"#FF97FF\",\"#FECB52\"],\"font\":{\"color\":\"#2a3f5f\"},\"hovermode\":\"closest\",\"hoverlabel\":{\"align\":\"left\"},\"paper_bgcolor\":\"white\",\"plot_bgcolor\":\"#E5ECF6\",\"polar\":{\"bgcolor\":\"#E5ECF6\",\"angularaxis\":{\"gridcolor\":\"white\",\"linecolor\":\"white\",\"ticks\":\"\"},\"radialaxis\":{\"gridcolor\":\"white\",\"linecolor\":\"white\",\"ticks\":\"\"}},\"ternary\":{\"bgcolor\":\"#E5ECF6\",\"aaxis\":{\"gridcolor\":\"white\",\"linecolor\":\"white\",\"ticks\":\"\"},\"baxis\":{\"gridcolor\":\"white\",\"linecolor\":\"white\",\"ticks\":\"\"},\"caxis\":{\"gridcolor\":\"white\",\"linecolor\":\"white\",\"ticks\":\"\"}},\"coloraxis\":{\"colorbar\":{\"outlinewidth\":0,\"ticks\":\"\"}},\"colorscale\":{\"sequential\":[[0.0,\"#0d0887\"],[0.1111111111111111,\"#46039f\"],[0.2222222222222222,\"#7201a8\"],[0.3333333333333333,\"#9c179e\"],[0.4444444444444444,\"#bd3786\"],[0.5555555555555556,\"#d8576b\"],[0.6666666666666666,\"#ed7953\"],[0.7777777777777778,\"#fb9f3a\"],[0.8888888888888888,\"#fdca26\"],[1.0,\"#f0f921\"]],\"sequentialminus\":[[0.0,\"#0d0887\"],[0.1111111111111111,\"#46039f\"],[0.2222222222222222,\"#7201a8\"],[0.3333333333333333,\"#9c179e\"],[0.4444444444444444,\"#bd3786\"],[0.5555555555555556,\"#d8576b\"],[0.6666666666666666,\"#ed7953\"],[0.7777777777777778,\"#fb9f3a\"],[0.8888888888888888,\"#fdca26\"],[1.0,\"#f0f921\"]],\"diverging\":[[0,\"#8e0152\"],[0.1,\"#c51b7d\"],[0.2,\"#de77ae\"],[0.3,\"#f1b6da\"],[0.4,\"#fde0ef\"],[0.5,\"#f7f7f7\"],[0.6,\"#e6f5d0\"],[0.7,\"#b8e186\"],[0.8,\"#7fbc41\"],[0.9,\"#4d9221\"],[1,\"#276419\"]]},\"xaxis\":{\"gridcolor\":\"white\",\"linecolor\":\"white\",\"ticks\":\"\",\"title\":{\"standoff\":15},\"zerolinecolor\":\"white\",\"automargin\":true,\"zerolinewidth\":2},\"yaxis\":{\"gridcolor\":\"white\",\"linecolor\":\"white\",\"ticks\":\"\",\"title\":{\"standoff\":15},\"zerolinecolor\":\"white\",\"automargin\":true,\"zerolinewidth\":2},\"scene\":{\"xaxis\":{\"backgroundcolor\":\"#E5ECF6\",\"gridcolor\":\"white\",\"linecolor\":\"white\",\"showbackground\":true,\"ticks\":\"\",\"zerolinecolor\":\"white\",\"gridwidth\":2},\"yaxis\":{\"backgroundcolor\":\"#E5ECF6\",\"gridcolor\":\"white\",\"linecolor\":\"white\",\"showbackground\":true,\"ticks\":\"\",\"zerolinecolor\":\"white\",\"gridwidth\":2},\"zaxis\":{\"backgroundcolor\":\"#E5ECF6\",\"gridcolor\":\"white\",\"linecolor\":\"white\",\"showbackground\":true,\"ticks\":\"\",\"zerolinecolor\":\"white\",\"gridwidth\":2}},\"shapedefaults\":{\"line\":{\"color\":\"#2a3f5f\"}},\"annotationdefaults\":{\"arrowcolor\":\"#2a3f5f\",\"arrowhead\":0,\"arrowwidth\":1},\"geo\":{\"bgcolor\":\"white\",\"landcolor\":\"#E5ECF6\",\"subunitcolor\":\"white\",\"showland\":true,\"showlakes\":true,\"lakecolor\":\"white\"},\"title\":{\"x\":0.05},\"mapbox\":{\"style\":\"light\"}}},\"xaxis\":{\"anchor\":\"y\",\"domain\":[0.0,1.0],\"title\":{\"text\":\"title\"}},\"yaxis\":{\"anchor\":\"x\",\"domain\":[0.0,1.0],\"title\":{\"text\":\"Number of Votes\"}},\"legend\":{\"title\":{\"text\":\"Party\"},\"tracegroupgap\":0},\"title\":{\"text\":\"Vote Distribution by Party\"},\"barmode\":\"relative\"},                        {\"responsive\": true}                    ).then(function(){\n",
       "                            \n",
       "var gd = document.getElementById('49431c59-a248-4913-a2b6-e9a22b30dd7e');\n",
       "var x = new MutationObserver(function (mutations, observer) {{\n",
       "        var display = window.getComputedStyle(gd).display;\n",
       "        if (!display || display === 'none') {{\n",
       "            console.log([gd, 'removed!']);\n",
       "            Plotly.purge(gd);\n",
       "            observer.disconnect();\n",
       "        }}\n",
       "}});\n",
       "\n",
       "// Listen for the removal of the full notebook cells\n",
       "var notebookContainer = gd.closest('#notebook-container');\n",
       "if (notebookContainer) {{\n",
       "    x.observe(notebookContainer, {childList: true});\n",
       "}}\n",
       "\n",
       "// Listen for the clearing of the current output cell\n",
       "var outputEl = gd.closest('.output');\n",
       "if (outputEl) {{\n",
       "    x.observe(outputEl, {childList: true});\n",
       "}}\n",
       "\n",
       "                        })                };                });            </script>        </div>"
      ]
     },
     "metadata": {},
     "output_type": "display_data"
    }
   ],
   "source": [
    "df['D_total'] = df['D_yea_or_aye_votes'] + df['D_nay_or_no_votes'] + df['D_abstain_votes']\n",
    "df['R_total'] = df['R_yea_or_aye_votes'] + df['R_nay_or_no_votes'] + df['R_abstain_votes']\n",
    "df['I_total'] = df['I_yea_or_aye_votes'] + df['I_nay_or_no_votes'] + df['I_abstain_votes']\n",
    "\n",
    "fig = px.bar(df, x='title', y=['D_total', 'R_total', 'I_total'], \n",
    "             labels={'value':'Number of Votes', 'variable':'Party'},\n",
    "             title='Vote Distribution by Party')\n",
    "fig.show()"
   ]
  },
  {
   "cell_type": "code",
   "execution_count": 276,
   "id": "e3c3bc4a-e0d8-47a2-a68e-e3699e1e068f",
   "metadata": {
    "tags": []
   },
   "outputs": [],
   "source": [
    "# EXPERIMENT WITH DIFFERENT AXES\n",
    "fig = px.scatter(df[df['closeness_rank'] <=25], \n",
    "                 x='policy_area', \n",
    "                 y='yea_nay_gap_votes', \n",
    "                 # size=df['abs_yea_nay_gap_vote'].astype(float),  # Convert to float for size\n",
    "                 color='result',\n",
    "                 hover_name='title',\n",
    "                 hover_data={'result': True,\n",
    "                             'yea_nay_gap_votes': True, \n",
    "                             'title': True,\n",
    "                             'D_yea_or_aye_votes': True,\n",
    "                             'R_yea_or_aye_votes': True,\n",
    "                             'most_recent_text_short':True,\n",
    "                            },\n",
    "                 title='Subjects of Bills with Closest Votes')"
   ]
  },
  {
   "cell_type": "code",
   "execution_count": 277,
   "id": "a2440a28-56f7-4da0-93c7-8312d5b0b7f5",
   "metadata": {
    "tags": []
   },
   "outputs": [
    {
     "data": {
      "application/vnd.plotly.v1+json": {
       "config": {
        "plotlyServerURL": "https://plot.ly"
       },
       "data": [
        {
         "customdata": [
          [
           "Passed",
           "Limit, Save, Grow Act of 2023",
           0,
           217,
           "Limit, Save, Grow Act of 2023  This bill increases<br>the federal debt limit and decreases spending. It<br>also repeals several energy tax credits, modifies<br>the permitting process and other requirements for<br>energy projects, expands work requirements for the<br>Supplemental Nutrition Assistance Program<br>(SNAP)..."
          ],
          [
           "Passed",
           "Trust the Science Act",
           4,
           205,
           "Trust the Science Act  This bill directs the<br>Department of the Interior to remove protections<br>for the gray wolf under the Endangered Species Act<br>of 1973 (ESA). Specifically, the bill requires<br>Interior to reissue the final rule<br>titledEndangered and Threatened Wildlife and<br>Plants; Removing the Gray Wo..."
          ],
          [
           "Passed",
           "Equal Representation Act",
           0,
           206,
           "Equal Representation Act  This bill requires any<br>questionnaire used in the decennial census to<br>include a checkbox or other similar option for<br>respondents to indicate whether the respondent and<br>each household member is a U.S. citizen.  The<br>Department of Commerce must make public the number<br>of citizen..."
          ],
          [
           "Passed",
           "Department of State, Foreign Operations,<br>and<br>Related Programs Appropriations Act, 2024",
           0,
           216,
           "Department of State, Foreign Operations, and<br>Related Programs Appropriations Act, 2024  This<br>bill provides FY2024 appropriations for the<br>Department of State, foreign operations, and<br>related programs.  The bill provides<br>appropriations to the State Department for  The<br>bill provides appropriations for ..."
          ],
          [
           "Passed",
           "Parents Bill of Rights Act",
           0,
           213,
           "Parents Bill of Rights Act  This bill establishes<br>various rights of parents and guardians regarding<br>the public elementary or secondary school<br>education (including secondary career and<br>technical education) of their children. Local<br>educational agencies (LEAs) and schools must<br>comply with the requireme..."
          ],
          [
           "Passed",
           "Cutting Green Corruption and Taxes Act",
           1,
           208,
           "Cutting Green Corruption and Taxes Act  This bill<br>repeals certain programs for reducing greenhouse<br>gas emissions.  Specifically, it repeals the<br>Greenhouse Gas Reduction Fund, which provides<br>financial and technical assistance to states and<br>other eligible recipients to help communities<br>reduce greenhou..."
          ],
          [
           "Passed",
           "Mining Regulatory Clarity Act of 2024",
           204,
           6,
           "Mining Regulatory Clarity Act of 2024  This bill<br>sets forth a process to allow mine operations to<br>use, occupy, and conduct operations (e.g.,<br>construction of roads and other mining<br>infrastructure activity) on public land regardless<br>of whether a mineral deposit has been discovered<br>on the land.  ..."
          ],
          [
           "Passed",
           "Secure the Border Act of 2023",
           0,
           219,
           "Secure the Border Act of 2023  This bill makes<br>various changes to immigration law, including by<br>imposing limits on asylum eligibility and<br>requiring employers to use an electronic system to<br>verify the employment eligibility of new<br>employees.  DIVISION A--BORDER SECURITY  This<br>division requires certai..."
          ],
          [
           "Passed",
           "Department of Defense Appropriations Act, 2024",
           2,
           216,
           "Department of Defense Appropriations Act, 2024<br>This bill provides FY2024 appropriations to the<br>Department of Defense (DOD) for military<br>activities.  (The bill excludes military<br>construction, military family housing, civil works<br>projects of the Army Corps of Engineers, and<br>nuclear warheads, which ar..."
          ],
          [
           "Passed",
           "Consolidated Appropriations Act, 2024",
           0,
           219,
           "Consolidated Appropriations Act, 2024  This bill<br>provides FY2024 appropriations for several federal<br>departments and agencies. It also extends various<br>expiring programs and authorities, including<br>several public health programs.  Specifically, the<br>bill includes 6 of the 12 regular FY2024<br>appropriation..."
          ],
          [
           "Passed",
           "Creating Confidence in Clean Water Permitting Act",
           2,
           211,
           "Creating Confidence in Clean Water Permitting Act<br>This bill modifies requirements under the Clean<br>Water Act, including requirements concerning water<br>quality criteria, the National Pollutant Discharge<br>Elimination System (NPDES) program, the permit<br>program for discharging dredged or fill material<br>int..."
          ]
         ],
         "hovertemplate": "<b>%{hovertext}</b><br><br>result=%{customdata[0]}<br>policy_area=%{x}<br>yea_nay_gap_votes=%{y}<br>title=%{customdata[1]}<br>D_yea_or_aye_votes=%{customdata[2]}<br>R_yea_or_aye_votes=%{customdata[3]}<br>most_recent_text_short=%{customdata[4]}<extra></extra>",
         "hovertext": [
          "Limit, Save, Grow Act of 2023",
          "Trust the Science Act",
          "Equal Representation Act",
          "Department of State, Foreign Operations,<br>and<br>Related Programs Appropriations Act, 2024",
          "Parents Bill of Rights Act",
          "Cutting Green Corruption and Taxes Act",
          "Mining Regulatory Clarity Act of 2024",
          "Secure the Border Act of 2023",
          "Department of Defense Appropriations Act, 2024",
          "Consolidated Appropriations Act, 2024",
          "Creating Confidence in Clean Water Permitting Act"
         ],
         "legendgroup": "Passed",
         "marker": {
          "color": "#636efa",
          "symbol": "circle"
         },
         "mode": "markers",
         "name": "Passed",
         "orientation": "v",
         "showlegend": true,
         "type": "scatter",
         "x": [
          "Economics and Public Finance",
          "Animals",
          "Government Operations and Politics",
          "International Affairs",
          "Education",
          "Environmental Protection",
          "Energy",
          "Immigration",
          "Armed Forces and National Security",
          "Economics and Public Finance",
          "Environmental Protection"
         ],
         "xaxis": "x",
         "y": [
          2,
          4,
          4,
          4,
          5,
          5,
          6,
          6,
          8,
          8,
          8
         ],
         "yaxis": "y"
        },
        {
         "customdata": [
          [
           "Failed",
           "Hands Off Our Home Appliances Act",
           202,
           0,
           "Hands Off Our Home Appliances Act  This bill<br>modifies the process by which the Department of<br>Energy (DOE) amends, revokes, or implements energy<br>conservation standards for certain consumer<br>products (other than automobiles), such as<br>household appliances.  First, the bill eliminates<br>the requirement und..."
          ],
          [
           "Failed",
           "Equal Representation Act",
           203,
           0,
           "Equal Representation Act  This bill requires any<br>questionnaire used in the decennial census to<br>include a checkbox or other similar option for<br>respondents to indicate whether the respondent and<br>each household member is a U.S. citizen.  The<br>Department of Commerce must make public the number<br>of citizen..."
          ],
          [
           "Failed",
           "Superior National Forest Restoration Act",
           205,
           0,
           "Superior National Forest Restoration Act  This<br>bill rescindsPublic Land Order No. 7917 for<br>Withdrawal of Federal Lands; Cook, Lake, and Saint<br>Louis Counties, MN, which bars mining operations<br>on specified Forest Service lands in Minnesota.<br>The bill directs the Forest Service to  A lease or<br>permit re..."
          ],
          [
           "Failed",
           "Ensuring Accountability in Agency Rulemaking Act",
           206,
           0,
           "Ensuring Accountability in Agency Rulemaking Act<br>This bill requires, subject to a limited<br>exception, that any agency rule promulgated under<br>notice and comment procedures must be issued and<br>signed by an individual who was appointed by the<br>President and confirmed by the Senate.  The Office<br>of Informa..."
          ],
          [
           "Failed",
           "Mining Regulatory Clarity Act of 2024",
           203,
           0,
           "Mining Regulatory Clarity Act of 2024  This bill<br>sets forth a process to allow mine operations to<br>use, occupy, and conduct operations (e.g.,<br>construction of roads and other mining<br>infrastructure activity) on public land regardless<br>of whether a mineral deposit has been discovered<br>on the land.  ..."
          ],
          [
           "Failed",
           "Trust the Science Act",
           205,
           0,
           "Trust the Science Act  This bill directs the<br>Department of the Interior to remove protections<br>for the gray wolf under the Endangered Species Act<br>of 1973 (ESA). Specifically, the bill requires<br>Interior to reissue the final rule<br>titledEndangered and Threatened Wildlife and<br>Plants; Removing the Gray Wo..."
          ],
          [
           "Failed",
           "Cutting Green Corruption and Taxes Act",
           206,
           0,
           "Cutting Green Corruption and Taxes Act  This bill<br>repeals certain programs for reducing greenhouse<br>gas emissions.  Specifically, it repeals the<br>Greenhouse Gas Reduction Fund, which provides<br>financial and technical assistance to states and<br>other eligible recipients to help communities<br>reduce greenhou..."
          ],
          [
           "Failed",
           "Agriculture, Rural Development, Food and<br>Drug<br>Administration, and Related<br>Agencies<br>Appropriations Act, 2024",
           210,
           1,
           "Agriculture, Rural Development, Food and Drug<br>Administration, and Related Agencies<br>Appropriations Act, 2024  This bill provides<br>FY2024 appropriations for the Department of<br>Agriculture (USDA), the Food and Drug<br>Administration, and related agencies.  The bill<br>provides appropriations to USDA for agricu..."
          ],
          [
           "Failed",
           "Continuing Appropriations and Border<br>Security<br>Enhancement Act, 2024",
           210,
           0,
           "Continuing Appropriations and Border Security<br>Enhancement Act, 2024  This bill provides<br>continuing FY2024 appropriations for federal<br>agencies through October 31, 2023. It also makes<br>various changes to immigration law, including by<br>imposing limits on asylum eligibility.  DIVISION A<br>--CONTINUING APPROP..."
          ],
          [
           "Failed",
           "Western Economic Security Today Act of 2024",
           204,
           0,
           "Western Economic Security Today Act of 2023 or the<br>WEST Act of 2023  This bill requires the Bureau of<br>Land Management (BLM) to withdraw a proposed rule<br>relating to conservation and landscape health and<br>prohibits the BLM from finalizing, implementing,<br>or enforcing the proposed rule or any<br>substantial..."
          ],
          [
           "Failed",
           "Protecting Access for Hunters and Anglers Act<br>of<br>2023",
           204,
           0,
           "Protecting Access for Hunters and Anglers Act of<br>2023  This bill bars the Department of the<br>Interior and the Department of Agriculture from<br>prohibiting or regulating the use of lead<br>ammunition or tackle on federal land or water that<br>is under the jurisdiction of such departments and<br>made available fo..."
          ],
          [
           "Failed",
           "Department of State, Foreign Operations,<br>and<br>Related Programs Appropriations Act, 2024",
           210,
           0,
           "Department of State, Foreign Operations, and<br>Related Programs Appropriations Act, 2024  This<br>bill provides FY2024 appropriations for the<br>Department of State, foreign operations, and<br>related programs.  The bill provides<br>appropriations to the State Department for  The<br>bill provides appropriations for ..."
          ],
          [
           "Failed",
           "National Defense Authorization Act for Fiscal<br>Year<br>2024",
           210,
           0,
           "National Defense Authorization Act for Fiscal Year<br>2024  This bill authorizes FY2024 appropriations<br>and sets forth policies for Department of Defense<br>(DOD) programs and activities, military<br>construction, the national security programs of<br>the Department of Energy (DOE), and the Maritime<br>Administratio..."
          ],
          [
           "Failed",
           "Legislative Branch Appropriations Act, 2024",
           201,
           0,
           "Legislative Branch Appropriations Act, 2024  This<br>bill provides FY2024 appropriations for the<br>legislative branch, including the House of<br>Representatives and joint items such as  In<br>addition, the bill provides FY2024 appropriations<br>for   - the Joint Economic Committee,  - the Joint<br>Committee on Taxat..."
          ],
          [
           "Failed",
           "Creating Confidence in Clean Water Permitting Act",
           205,
           0,
           "Creating Confidence in Clean Water Permitting Act<br>This bill modifies requirements under the Clean<br>Water Act, including requirements concerning water<br>quality criteria, the National Pollutant Discharge<br>Elimination System (NPDES) program, the permit<br>program for discharging dredged or fill material<br>int..."
          ],
          [
           "Failed",
           "Department of Defense Appropriations Act, 2024",
           210,
           0,
           "Department of Defense Appropriations Act, 2024<br>This bill provides FY2024 appropriations to the<br>Department of Defense (DOD) for military<br>activities.  (The bill excludes military<br>construction, military family housing, civil works<br>projects of the Army Corps of Engineers, and<br>nuclear warheads, which ar..."
          ],
          [
           "Failed",
           "Military Construction, Veterans Affairs,<br>and<br>Related Agencies Appropriations Act, 2025",
           199,
           0,
           "Military Construction, Veterans Affairs, and<br>Related Agencies Appropriations Act, 2025  This<br>bill provides FY2025 appropriations for military<br>construction, the Department of Veterans Affairs<br>(VA), and related agencies.  The bill provides<br>appropriations to the Department of Defense (DOD)<br>for military..."
          ],
          [
           "Failed",
           "Department of Homeland Security<br>Appropriations<br>Act, 2024",
           210,
           0,
           "Department of Homeland Security Appropriations<br>Act, 2024  This bill provides FY2024<br>appropriations for the Department of Homeland<br>Security (DHS).  Specifically, the bill provides<br>appropriations to DHS for Departmental Management,<br>Intelligence, Situational Awareness, and<br>Oversight, including  In addi..."
          ],
          [
           "Failed",
           "Israel Security Assistance Support Act",
           202,
           0,
           "Israel Security Assistance Support Act  This bill<br>specifies that no federal funds may be used to<br>withhold, halt, reverse, or cancel the delivery of<br>defense articles or defense services to Israel.<br>Also, no funds may be used to pay the salary of<br>any Department of Defense (DOD) or Department of<br>State e..."
          ]
         ],
         "hovertemplate": "<b>%{hovertext}</b><br><br>result=%{customdata[0]}<br>policy_area=%{x}<br>yea_nay_gap_votes=%{y}<br>title=%{customdata[1]}<br>D_yea_or_aye_votes=%{customdata[2]}<br>R_yea_or_aye_votes=%{customdata[3]}<br>most_recent_text_short=%{customdata[4]}<extra></extra>",
         "hovertext": [
          "Hands Off Our Home Appliances Act",
          "Equal Representation Act",
          "Superior National Forest Restoration Act",
          "Ensuring Accountability in Agency Rulemaking Act",
          "Mining Regulatory Clarity Act of 2024",
          "Trust the Science Act",
          "Cutting Green Corruption and Taxes Act",
          "Agriculture, Rural Development, Food and<br>Drug<br>Administration, and Related<br>Agencies<br>Appropriations Act, 2024",
          "Continuing Appropriations and Border<br>Security<br>Enhancement Act, 2024",
          "Western Economic Security Today Act of 2024",
          "Protecting Access for Hunters and Anglers Act<br>of<br>2023",
          "Department of State, Foreign Operations,<br>and<br>Related Programs Appropriations Act, 2024",
          "National Defense Authorization Act for Fiscal<br>Year<br>2024",
          "Legislative Branch Appropriations Act, 2024",
          "Creating Confidence in Clean Water Permitting Act",
          "Department of Defense Appropriations Act, 2024",
          "Military Construction, Veterans Affairs,<br>and<br>Related Agencies Appropriations Act, 2025",
          "Department of Homeland Security<br>Appropriations<br>Act, 2024",
          "Israel Security Assistance Support Act"
         ],
         "legendgroup": "Failed",
         "marker": {
          "color": "#EF553B",
          "symbol": "circle"
         },
         "mode": "markers",
         "name": "Failed",
         "orientation": "v",
         "showlegend": true,
         "type": "scatter",
         "x": [
          "Energy",
          "Government Operations and Politics",
          "Public Lands and Natural Resources",
          "Government Operations and Politics",
          "Energy",
          "Animals",
          "Environmental Protection",
          "Agriculture and Food",
          "Economics and Public Finance",
          "Public Lands and Natural Resources",
          "Public Lands and Natural Resources",
          "International Affairs",
          "Armed Forces and National Security",
          "Congress",
          "Environmental Protection",
          "Armed Forces and National Security",
          "Economics and Public Finance",
          "Emergency Management",
          "International Affairs"
         ],
         "xaxis": "x",
         "y": [
          -4,
          -4,
          -5,
          -5,
          -5,
          -5,
          -5,
          -6,
          -6,
          -6,
          -7,
          -7,
          -7,
          -8,
          -8,
          -8,
          -8,
          -8,
          -8
         ],
         "yaxis": "y"
        }
       ],
       "layout": {
        "autosize": true,
        "legend": {
         "title": {
          "text": "result"
         },
         "tracegroupgap": 0
        },
        "template": {
         "data": {
          "bar": [
           {
            "error_x": {
             "color": "#2a3f5f"
            },
            "error_y": {
             "color": "#2a3f5f"
            },
            "marker": {
             "line": {
              "color": "#E5ECF6",
              "width": 0.5
             },
             "pattern": {
              "fillmode": "overlay",
              "size": 10,
              "solidity": 0.2
             }
            },
            "type": "bar"
           }
          ],
          "barpolar": [
           {
            "marker": {
             "line": {
              "color": "#E5ECF6",
              "width": 0.5
             },
             "pattern": {
              "fillmode": "overlay",
              "size": 10,
              "solidity": 0.2
             }
            },
            "type": "barpolar"
           }
          ],
          "carpet": [
           {
            "aaxis": {
             "endlinecolor": "#2a3f5f",
             "gridcolor": "white",
             "linecolor": "white",
             "minorgridcolor": "white",
             "startlinecolor": "#2a3f5f"
            },
            "baxis": {
             "endlinecolor": "#2a3f5f",
             "gridcolor": "white",
             "linecolor": "white",
             "minorgridcolor": "white",
             "startlinecolor": "#2a3f5f"
            },
            "type": "carpet"
           }
          ],
          "choropleth": [
           {
            "colorbar": {
             "outlinewidth": 0,
             "ticks": ""
            },
            "type": "choropleth"
           }
          ],
          "contour": [
           {
            "colorbar": {
             "outlinewidth": 0,
             "ticks": ""
            },
            "colorscale": [
             [
              0,
              "#0d0887"
             ],
             [
              0.1111111111111111,
              "#46039f"
             ],
             [
              0.2222222222222222,
              "#7201a8"
             ],
             [
              0.3333333333333333,
              "#9c179e"
             ],
             [
              0.4444444444444444,
              "#bd3786"
             ],
             [
              0.5555555555555556,
              "#d8576b"
             ],
             [
              0.6666666666666666,
              "#ed7953"
             ],
             [
              0.7777777777777778,
              "#fb9f3a"
             ],
             [
              0.8888888888888888,
              "#fdca26"
             ],
             [
              1,
              "#f0f921"
             ]
            ],
            "type": "contour"
           }
          ],
          "contourcarpet": [
           {
            "colorbar": {
             "outlinewidth": 0,
             "ticks": ""
            },
            "type": "contourcarpet"
           }
          ],
          "heatmap": [
           {
            "colorbar": {
             "outlinewidth": 0,
             "ticks": ""
            },
            "colorscale": [
             [
              0,
              "#0d0887"
             ],
             [
              0.1111111111111111,
              "#46039f"
             ],
             [
              0.2222222222222222,
              "#7201a8"
             ],
             [
              0.3333333333333333,
              "#9c179e"
             ],
             [
              0.4444444444444444,
              "#bd3786"
             ],
             [
              0.5555555555555556,
              "#d8576b"
             ],
             [
              0.6666666666666666,
              "#ed7953"
             ],
             [
              0.7777777777777778,
              "#fb9f3a"
             ],
             [
              0.8888888888888888,
              "#fdca26"
             ],
             [
              1,
              "#f0f921"
             ]
            ],
            "type": "heatmap"
           }
          ],
          "heatmapgl": [
           {
            "colorbar": {
             "outlinewidth": 0,
             "ticks": ""
            },
            "colorscale": [
             [
              0,
              "#0d0887"
             ],
             [
              0.1111111111111111,
              "#46039f"
             ],
             [
              0.2222222222222222,
              "#7201a8"
             ],
             [
              0.3333333333333333,
              "#9c179e"
             ],
             [
              0.4444444444444444,
              "#bd3786"
             ],
             [
              0.5555555555555556,
              "#d8576b"
             ],
             [
              0.6666666666666666,
              "#ed7953"
             ],
             [
              0.7777777777777778,
              "#fb9f3a"
             ],
             [
              0.8888888888888888,
              "#fdca26"
             ],
             [
              1,
              "#f0f921"
             ]
            ],
            "type": "heatmapgl"
           }
          ],
          "histogram": [
           {
            "marker": {
             "pattern": {
              "fillmode": "overlay",
              "size": 10,
              "solidity": 0.2
             }
            },
            "type": "histogram"
           }
          ],
          "histogram2d": [
           {
            "colorbar": {
             "outlinewidth": 0,
             "ticks": ""
            },
            "colorscale": [
             [
              0,
              "#0d0887"
             ],
             [
              0.1111111111111111,
              "#46039f"
             ],
             [
              0.2222222222222222,
              "#7201a8"
             ],
             [
              0.3333333333333333,
              "#9c179e"
             ],
             [
              0.4444444444444444,
              "#bd3786"
             ],
             [
              0.5555555555555556,
              "#d8576b"
             ],
             [
              0.6666666666666666,
              "#ed7953"
             ],
             [
              0.7777777777777778,
              "#fb9f3a"
             ],
             [
              0.8888888888888888,
              "#fdca26"
             ],
             [
              1,
              "#f0f921"
             ]
            ],
            "type": "histogram2d"
           }
          ],
          "histogram2dcontour": [
           {
            "colorbar": {
             "outlinewidth": 0,
             "ticks": ""
            },
            "colorscale": [
             [
              0,
              "#0d0887"
             ],
             [
              0.1111111111111111,
              "#46039f"
             ],
             [
              0.2222222222222222,
              "#7201a8"
             ],
             [
              0.3333333333333333,
              "#9c179e"
             ],
             [
              0.4444444444444444,
              "#bd3786"
             ],
             [
              0.5555555555555556,
              "#d8576b"
             ],
             [
              0.6666666666666666,
              "#ed7953"
             ],
             [
              0.7777777777777778,
              "#fb9f3a"
             ],
             [
              0.8888888888888888,
              "#fdca26"
             ],
             [
              1,
              "#f0f921"
             ]
            ],
            "type": "histogram2dcontour"
           }
          ],
          "mesh3d": [
           {
            "colorbar": {
             "outlinewidth": 0,
             "ticks": ""
            },
            "type": "mesh3d"
           }
          ],
          "parcoords": [
           {
            "line": {
             "colorbar": {
              "outlinewidth": 0,
              "ticks": ""
             }
            },
            "type": "parcoords"
           }
          ],
          "pie": [
           {
            "automargin": true,
            "type": "pie"
           }
          ],
          "scatter": [
           {
            "fillpattern": {
             "fillmode": "overlay",
             "size": 10,
             "solidity": 0.2
            },
            "type": "scatter"
           }
          ],
          "scatter3d": [
           {
            "line": {
             "colorbar": {
              "outlinewidth": 0,
              "ticks": ""
             }
            },
            "marker": {
             "colorbar": {
              "outlinewidth": 0,
              "ticks": ""
             }
            },
            "type": "scatter3d"
           }
          ],
          "scattercarpet": [
           {
            "marker": {
             "colorbar": {
              "outlinewidth": 0,
              "ticks": ""
             }
            },
            "type": "scattercarpet"
           }
          ],
          "scattergeo": [
           {
            "marker": {
             "colorbar": {
              "outlinewidth": 0,
              "ticks": ""
             }
            },
            "type": "scattergeo"
           }
          ],
          "scattergl": [
           {
            "marker": {
             "colorbar": {
              "outlinewidth": 0,
              "ticks": ""
             }
            },
            "type": "scattergl"
           }
          ],
          "scattermapbox": [
           {
            "marker": {
             "colorbar": {
              "outlinewidth": 0,
              "ticks": ""
             }
            },
            "type": "scattermapbox"
           }
          ],
          "scatterpolar": [
           {
            "marker": {
             "colorbar": {
              "outlinewidth": 0,
              "ticks": ""
             }
            },
            "type": "scatterpolar"
           }
          ],
          "scatterpolargl": [
           {
            "marker": {
             "colorbar": {
              "outlinewidth": 0,
              "ticks": ""
             }
            },
            "type": "scatterpolargl"
           }
          ],
          "scatterternary": [
           {
            "marker": {
             "colorbar": {
              "outlinewidth": 0,
              "ticks": ""
             }
            },
            "type": "scatterternary"
           }
          ],
          "surface": [
           {
            "colorbar": {
             "outlinewidth": 0,
             "ticks": ""
            },
            "colorscale": [
             [
              0,
              "#0d0887"
             ],
             [
              0.1111111111111111,
              "#46039f"
             ],
             [
              0.2222222222222222,
              "#7201a8"
             ],
             [
              0.3333333333333333,
              "#9c179e"
             ],
             [
              0.4444444444444444,
              "#bd3786"
             ],
             [
              0.5555555555555556,
              "#d8576b"
             ],
             [
              0.6666666666666666,
              "#ed7953"
             ],
             [
              0.7777777777777778,
              "#fb9f3a"
             ],
             [
              0.8888888888888888,
              "#fdca26"
             ],
             [
              1,
              "#f0f921"
             ]
            ],
            "type": "surface"
           }
          ],
          "table": [
           {
            "cells": {
             "fill": {
              "color": "#EBF0F8"
             },
             "line": {
              "color": "white"
             }
            },
            "header": {
             "fill": {
              "color": "#C8D4E3"
             },
             "line": {
              "color": "white"
             }
            },
            "type": "table"
           }
          ]
         },
         "layout": {
          "annotationdefaults": {
           "arrowcolor": "#2a3f5f",
           "arrowhead": 0,
           "arrowwidth": 1
          },
          "autotypenumbers": "strict",
          "coloraxis": {
           "colorbar": {
            "outlinewidth": 0,
            "ticks": ""
           }
          },
          "colorscale": {
           "diverging": [
            [
             0,
             "#8e0152"
            ],
            [
             0.1,
             "#c51b7d"
            ],
            [
             0.2,
             "#de77ae"
            ],
            [
             0.3,
             "#f1b6da"
            ],
            [
             0.4,
             "#fde0ef"
            ],
            [
             0.5,
             "#f7f7f7"
            ],
            [
             0.6,
             "#e6f5d0"
            ],
            [
             0.7,
             "#b8e186"
            ],
            [
             0.8,
             "#7fbc41"
            ],
            [
             0.9,
             "#4d9221"
            ],
            [
             1,
             "#276419"
            ]
           ],
           "sequential": [
            [
             0,
             "#0d0887"
            ],
            [
             0.1111111111111111,
             "#46039f"
            ],
            [
             0.2222222222222222,
             "#7201a8"
            ],
            [
             0.3333333333333333,
             "#9c179e"
            ],
            [
             0.4444444444444444,
             "#bd3786"
            ],
            [
             0.5555555555555556,
             "#d8576b"
            ],
            [
             0.6666666666666666,
             "#ed7953"
            ],
            [
             0.7777777777777778,
             "#fb9f3a"
            ],
            [
             0.8888888888888888,
             "#fdca26"
            ],
            [
             1,
             "#f0f921"
            ]
           ],
           "sequentialminus": [
            [
             0,
             "#0d0887"
            ],
            [
             0.1111111111111111,
             "#46039f"
            ],
            [
             0.2222222222222222,
             "#7201a8"
            ],
            [
             0.3333333333333333,
             "#9c179e"
            ],
            [
             0.4444444444444444,
             "#bd3786"
            ],
            [
             0.5555555555555556,
             "#d8576b"
            ],
            [
             0.6666666666666666,
             "#ed7953"
            ],
            [
             0.7777777777777778,
             "#fb9f3a"
            ],
            [
             0.8888888888888888,
             "#fdca26"
            ],
            [
             1,
             "#f0f921"
            ]
           ]
          },
          "colorway": [
           "#636efa",
           "#EF553B",
           "#00cc96",
           "#ab63fa",
           "#FFA15A",
           "#19d3f3",
           "#FF6692",
           "#B6E880",
           "#FF97FF",
           "#FECB52"
          ],
          "font": {
           "color": "#2a3f5f"
          },
          "geo": {
           "bgcolor": "white",
           "lakecolor": "white",
           "landcolor": "#E5ECF6",
           "showlakes": true,
           "showland": true,
           "subunitcolor": "white"
          },
          "hoverlabel": {
           "align": "left"
          },
          "hovermode": "closest",
          "mapbox": {
           "style": "light"
          },
          "paper_bgcolor": "white",
          "plot_bgcolor": "#E5ECF6",
          "polar": {
           "angularaxis": {
            "gridcolor": "white",
            "linecolor": "white",
            "ticks": ""
           },
           "bgcolor": "#E5ECF6",
           "radialaxis": {
            "gridcolor": "white",
            "linecolor": "white",
            "ticks": ""
           }
          },
          "scene": {
           "xaxis": {
            "backgroundcolor": "#E5ECF6",
            "gridcolor": "white",
            "gridwidth": 2,
            "linecolor": "white",
            "showbackground": true,
            "ticks": "",
            "zerolinecolor": "white"
           },
           "yaxis": {
            "backgroundcolor": "#E5ECF6",
            "gridcolor": "white",
            "gridwidth": 2,
            "linecolor": "white",
            "showbackground": true,
            "ticks": "",
            "zerolinecolor": "white"
           },
           "zaxis": {
            "backgroundcolor": "#E5ECF6",
            "gridcolor": "white",
            "gridwidth": 2,
            "linecolor": "white",
            "showbackground": true,
            "ticks": "",
            "zerolinecolor": "white"
           }
          },
          "shapedefaults": {
           "line": {
            "color": "#2a3f5f"
           }
          },
          "ternary": {
           "aaxis": {
            "gridcolor": "white",
            "linecolor": "white",
            "ticks": ""
           },
           "baxis": {
            "gridcolor": "white",
            "linecolor": "white",
            "ticks": ""
           },
           "bgcolor": "#E5ECF6",
           "caxis": {
            "gridcolor": "white",
            "linecolor": "white",
            "ticks": ""
           }
          },
          "title": {
           "x": 0.05
          },
          "xaxis": {
           "automargin": true,
           "gridcolor": "white",
           "linecolor": "white",
           "ticks": "",
           "title": {
            "standoff": 15
           },
           "zerolinecolor": "white",
           "zerolinewidth": 2
          },
          "yaxis": {
           "automargin": true,
           "gridcolor": "white",
           "linecolor": "white",
           "ticks": "",
           "title": {
            "standoff": 15
           },
           "zerolinecolor": "white",
           "zerolinewidth": 2
          }
         }
        },
        "title": {
         "text": "Subjects of Bills with Closest Votes"
        },
        "xaxis": {
         "anchor": "y",
         "autorange": true,
         "domain": [
          0,
          1
         ],
         "range": [
          -0.7102510460251047,
          12.710251046025105
         ],
         "title": {
          "text": "policy_area"
         },
         "type": "category"
        },
        "yaxis": {
         "anchor": "x",
         "autorange": true,
         "domain": [
          0,
          1
         ],
         "range": [
          -9.688249400479616,
          9.688249400479616
         ],
         "title": {
          "text": "yea_nay_gap_votes"
         },
         "type": "linear"
        }
       }
      },
      "image/png": "[encoded data removed]",
      "text/html": [
       "<div>                            <div id=\"771d7f67-0ab8-4dde-95a1-33e87aa74fdd\" class=\"plotly-graph-div\" style=\"height:525px; width:100%;\"></div>            <script type=\"text/javascript\">                require([\"plotly\"], function(Plotly) {                    window.PLOTLYENV=window.PLOTLYENV || {};                                    if (document.getElementById(\"771d7f67-0ab8-4dde-95a1-33e87aa74fdd\")) {                    Plotly.newPlot(                        \"771d7f67-0ab8-4dde-95a1-33e87aa74fdd\",                        [{\"customdata\":[[\"Passed\",\"Limit, Save, Grow Act of 2023\",0,217,\"Limit, Save, Grow Act of 2023  This bill increases<br>the federal debt limit and decreases spending. It<br>also repeals several energy tax credits, modifies<br>the permitting process and other requirements for<br>energy projects, expands work requirements for the<br>Supplemental Nutrition Assistance Program<br>(SNAP)...\"],[\"Passed\",\"Trust the Science Act\",4,205,\"Trust the Science Act  This bill directs the<br>Department of the Interior to remove protections<br>for the gray wolf under the Endangered Species Act<br>of 1973 (ESA). Specifically, the bill requires<br>Interior to reissue the final rule<br>titledEndangered and Threatened Wildlife and<br>Plants; Removing the Gray Wo...\"],[\"Passed\",\"Equal Representation Act\",0,206,\"Equal Representation Act  This bill requires any<br>questionnaire used in the decennial census to<br>include a checkbox or other similar option for<br>respondents to indicate whether the respondent and<br>each household member is a U.S. citizen.  The<br>Department of Commerce must make public the number<br>of citizen...\"],[\"Passed\",\"Department of State, Foreign Operations,<br>and<br>Related Programs Appropriations Act, 2024\",0,216,\"Department of State, Foreign Operations, and<br>Related Programs Appropriations Act, 2024  This<br>bill provides FY2024 appropriations for the<br>Department of State, foreign operations, and<br>related programs.  The bill provides<br>appropriations to the State Department for  The<br>bill provides appropriations for ...\"],[\"Passed\",\"Parents Bill of Rights Act\",0,213,\"Parents Bill of Rights Act  This bill establishes<br>various rights of parents and guardians regarding<br>the public elementary or secondary school<br>education (including secondary career and<br>technical education) of their children. Local<br>educational agencies (LEAs) and schools must<br>comply with the requireme...\"],[\"Passed\",\"Cutting Green Corruption and Taxes Act\",1,208,\"Cutting Green Corruption and Taxes Act  This bill<br>repeals certain programs for reducing greenhouse<br>gas emissions.  Specifically, it repeals the<br>Greenhouse Gas Reduction Fund, which provides<br>financial and technical assistance to states and<br>other eligible recipients to help communities<br>reduce greenhou...\"],[\"Passed\",\"Mining Regulatory Clarity Act of 2024\",204,6,\"Mining Regulatory Clarity Act of 2024  This bill<br>sets forth a process to allow mine operations to<br>use, occupy, and conduct operations (e.g.,<br>construction of roads and other mining<br>infrastructure activity) on public land regardless<br>of whether a mineral deposit has been discovered<br>on the land.  ...\"],[\"Passed\",\"Secure the Border Act of 2023\",0,219,\"Secure the Border Act of 2023  This bill makes<br>various changes to immigration law, including by<br>imposing limits on asylum eligibility and<br>requiring employers to use an electronic system to<br>verify the employment eligibility of new<br>employees.  DIVISION A--BORDER SECURITY  This<br>division requires certai...\"],[\"Passed\",\"Department of Defense Appropriations Act, 2024\",2,216,\"Department of Defense Appropriations Act, 2024<br>This bill provides FY2024 appropriations to the<br>Department of Defense (DOD) for military<br>activities.  (The bill excludes military<br>construction, military family housing, civil works<br>projects of the Army Corps of Engineers, and<br>nuclear warheads, which ar...\"],[\"Passed\",\"Consolidated Appropriations Act, 2024\",0,219,\"Consolidated Appropriations Act, 2024  This bill<br>provides FY2024 appropriations for several federal<br>departments and agencies. It also extends various<br>expiring programs and authorities, including<br>several public health programs.  Specifically, the<br>bill includes 6 of the 12 regular FY2024<br>appropriation...\"],[\"Passed\",\"Creating Confidence in Clean Water Permitting Act\",2,211,\"Creating Confidence in Clean Water Permitting Act<br>This bill modifies requirements under the Clean<br>Water Act, including requirements concerning water<br>quality criteria, the National Pollutant Discharge<br>Elimination System (NPDES) program, the permit<br>program for discharging dredged or fill material<br>int...\"]],\"hovertemplate\":\"<b>%{hovertext}</b><br><br>result=%{customdata[0]}<br>policy_area=%{x}<br>yea_nay_gap_votes=%{y}<br>title=%{customdata[1]}<br>D_yea_or_aye_votes=%{customdata[2]}<br>R_yea_or_aye_votes=%{customdata[3]}<br>most_recent_text_short=%{customdata[4]}<extra></extra>\",\"hovertext\":[\"Limit, Save, Grow Act of 2023\",\"Trust the Science Act\",\"Equal Representation Act\",\"Department of State, Foreign Operations,<br>and<br>Related Programs Appropriations Act, 2024\",\"Parents Bill of Rights Act\",\"Cutting Green Corruption and Taxes Act\",\"Mining Regulatory Clarity Act of 2024\",\"Secure the Border Act of 2023\",\"Department of Defense Appropriations Act, 2024\",\"Consolidated Appropriations Act, 2024\",\"Creating Confidence in Clean Water Permitting Act\"],\"legendgroup\":\"Passed\",\"marker\":{\"color\":\"#636efa\",\"symbol\":\"circle\"},\"mode\":\"markers\",\"name\":\"Passed\",\"orientation\":\"v\",\"showlegend\":true,\"x\":[\"Economics and Public Finance\",\"Animals\",\"Government Operations and Politics\",\"International Affairs\",\"Education\",\"Environmental Protection\",\"Energy\",\"Immigration\",\"Armed Forces and National Security\",\"Economics and Public Finance\",\"Environmental Protection\"],\"xaxis\":\"x\",\"y\":[2,4,4,4,5,5,6,6,8,8,8],\"yaxis\":\"y\",\"type\":\"scatter\"},{\"customdata\":[[\"Failed\",\"Hands Off Our Home Appliances Act\",202,0,\"Hands Off Our Home Appliances Act  This bill<br>modifies the process by which the Department of<br>Energy (DOE) amends, revokes, or implements energy<br>conservation standards for certain consumer<br>products (other than automobiles), such as<br>household appliances.  First, the bill eliminates<br>the requirement und...\"],[\"Failed\",\"Equal Representation Act\",203,0,\"Equal Representation Act  This bill requires any<br>questionnaire used in the decennial census to<br>include a checkbox or other similar option for<br>respondents to indicate whether the respondent and<br>each household member is a U.S. citizen.  The<br>Department of Commerce must make public the number<br>of citizen...\"],[\"Failed\",\"Superior National Forest Restoration Act\",205,0,\"Superior National Forest Restoration Act  This<br>bill rescindsPublic Land Order No. 7917 for<br>Withdrawal of Federal Lands; Cook, Lake, and Saint<br>Louis Counties, MN, which bars mining operations<br>on specified Forest Service lands in Minnesota.<br>The bill directs the Forest Service to  A lease or<br>permit re...\"],[\"Failed\",\"Ensuring Accountability in Agency Rulemaking Act\",206,0,\"Ensuring Accountability in Agency Rulemaking Act<br>This bill requires, subject to a limited<br>exception, that any agency rule promulgated under<br>notice and comment procedures must be issued and<br>signed by an individual who was appointed by the<br>President and confirmed by the Senate.  The Office<br>of Informa...\"],[\"Failed\",\"Mining Regulatory Clarity Act of 2024\",203,0,\"Mining Regulatory Clarity Act of 2024  This bill<br>sets forth a process to allow mine operations to<br>use, occupy, and conduct operations (e.g.,<br>construction of roads and other mining<br>infrastructure activity) on public land regardless<br>of whether a mineral deposit has been discovered<br>on the land.  ...\"],[\"Failed\",\"Trust the Science Act\",205,0,\"Trust the Science Act  This bill directs the<br>Department of the Interior to remove protections<br>for the gray wolf under the Endangered Species Act<br>of 1973 (ESA). Specifically, the bill requires<br>Interior to reissue the final rule<br>titledEndangered and Threatened Wildlife and<br>Plants; Removing the Gray Wo...\"],[\"Failed\",\"Cutting Green Corruption and Taxes Act\",206,0,\"Cutting Green Corruption and Taxes Act  This bill<br>repeals certain programs for reducing greenhouse<br>gas emissions.  Specifically, it repeals the<br>Greenhouse Gas Reduction Fund, which provides<br>financial and technical assistance to states and<br>other eligible recipients to help communities<br>reduce greenhou...\"],[\"Failed\",\"Agriculture, Rural Development, Food and<br>Drug<br>Administration, and Related<br>Agencies<br>Appropriations Act, 2024\",210,1,\"Agriculture, Rural Development, Food and Drug<br>Administration, and Related Agencies<br>Appropriations Act, 2024  This bill provides<br>FY2024 appropriations for the Department of<br>Agriculture (USDA), the Food and Drug<br>Administration, and related agencies.  The bill<br>provides appropriations to USDA for agricu...\"],[\"Failed\",\"Continuing Appropriations and Border<br>Security<br>Enhancement Act, 2024\",210,0,\"Continuing Appropriations and Border Security<br>Enhancement Act, 2024  This bill provides<br>continuing FY2024 appropriations for federal<br>agencies through October 31, 2023. It also makes<br>various changes to immigration law, including by<br>imposing limits on asylum eligibility.  DIVISION A<br>--CONTINUING APPROP...\"],[\"Failed\",\"Western Economic Security Today Act of 2024\",204,0,\"Western Economic Security Today Act of 2023 or the<br>WEST Act of 2023  This bill requires the Bureau of<br>Land Management (BLM) to withdraw a proposed rule<br>relating to conservation and landscape health and<br>prohibits the BLM from finalizing, implementing,<br>or enforcing the proposed rule or any<br>substantial...\"],[\"Failed\",\"Protecting Access for Hunters and Anglers Act<br>of<br>2023\",204,0,\"Protecting Access for Hunters and Anglers Act of<br>2023  This bill bars the Department of the<br>Interior and the Department of Agriculture from<br>prohibiting or regulating the use of lead<br>ammunition or tackle on federal land or water that<br>is under the jurisdiction of such departments and<br>made available fo...\"],[\"Failed\",\"Department of State, Foreign Operations,<br>and<br>Related Programs Appropriations Act, 2024\",210,0,\"Department of State, Foreign Operations, and<br>Related Programs Appropriations Act, 2024  This<br>bill provides FY2024 appropriations for the<br>Department of State, foreign operations, and<br>related programs.  The bill provides<br>appropriations to the State Department for  The<br>bill provides appropriations for ...\"],[\"Failed\",\"National Defense Authorization Act for Fiscal<br>Year<br>2024\",210,0,\"National Defense Authorization Act for Fiscal Year<br>2024  This bill authorizes FY2024 appropriations<br>and sets forth policies for Department of Defense<br>(DOD) programs and activities, military<br>construction, the national security programs of<br>the Department of Energy (DOE), and the Maritime<br>Administratio...\"],[\"Failed\",\"Legislative Branch Appropriations Act, 2024\",201,0,\"Legislative Branch Appropriations Act, 2024  This<br>bill provides FY2024 appropriations for the<br>legislative branch, including the House of<br>Representatives and joint items such as  In<br>addition, the bill provides FY2024 appropriations<br>for   - the Joint Economic Committee,  - the Joint<br>Committee on Taxat...\"],[\"Failed\",\"Creating Confidence in Clean Water Permitting Act\",205,0,\"Creating Confidence in Clean Water Permitting Act<br>This bill modifies requirements under the Clean<br>Water Act, including requirements concerning water<br>quality criteria, the National Pollutant Discharge<br>Elimination System (NPDES) program, the permit<br>program for discharging dredged or fill material<br>int...\"],[\"Failed\",\"Department of Defense Appropriations Act, 2024\",210,0,\"Department of Defense Appropriations Act, 2024<br>This bill provides FY2024 appropriations to the<br>Department of Defense (DOD) for military<br>activities.  (The bill excludes military<br>construction, military family housing, civil works<br>projects of the Army Corps of Engineers, and<br>nuclear warheads, which ar...\"],[\"Failed\",\"Military Construction, Veterans Affairs,<br>and<br>Related Agencies Appropriations Act, 2025\",199,0,\"Military Construction, Veterans Affairs, and<br>Related Agencies Appropriations Act, 2025  This<br>bill provides FY2025 appropriations for military<br>construction, the Department of Veterans Affairs<br>(VA), and related agencies.  The bill provides<br>appropriations to the Department of Defense (DOD)<br>for military...\"],[\"Failed\",\"Department of Homeland Security<br>Appropriations<br>Act, 2024\",210,0,\"Department of Homeland Security Appropriations<br>Act, 2024  This bill provides FY2024<br>appropriations for the Department of Homeland<br>Security (DHS).  Specifically, the bill provides<br>appropriations to DHS for Departmental Management,<br>Intelligence, Situational Awareness, and<br>Oversight, including  In addi...\"],[\"Failed\",\"Israel Security Assistance Support Act\",202,0,\"Israel Security Assistance Support Act  This bill<br>specifies that no federal funds may be used to<br>withhold, halt, reverse, or cancel the delivery of<br>defense articles or defense services to Israel.<br>Also, no funds may be used to pay the salary of<br>any Department of Defense (DOD) or Department of<br>State e...\"]],\"hovertemplate\":\"<b>%{hovertext}</b><br><br>result=%{customdata[0]}<br>policy_area=%{x}<br>yea_nay_gap_votes=%{y}<br>title=%{customdata[1]}<br>D_yea_or_aye_votes=%{customdata[2]}<br>R_yea_or_aye_votes=%{customdata[3]}<br>most_recent_text_short=%{customdata[4]}<extra></extra>\",\"hovertext\":[\"Hands Off Our Home Appliances Act\",\"Equal Representation Act\",\"Superior National Forest Restoration Act\",\"Ensuring Accountability in Agency Rulemaking Act\",\"Mining Regulatory Clarity Act of 2024\",\"Trust the Science Act\",\"Cutting Green Corruption and Taxes Act\",\"Agriculture, Rural Development, Food and<br>Drug<br>Administration, and Related<br>Agencies<br>Appropriations Act, 2024\",\"Continuing Appropriations and Border<br>Security<br>Enhancement Act, 2024\",\"Western Economic Security Today Act of 2024\",\"Protecting Access for Hunters and Anglers Act<br>of<br>2023\",\"Department of State, Foreign Operations,<br>and<br>Related Programs Appropriations Act, 2024\",\"National Defense Authorization Act for Fiscal<br>Year<br>2024\",\"Legislative Branch Appropriations Act, 2024\",\"Creating Confidence in Clean Water Permitting Act\",\"Department of Defense Appropriations Act, 2024\",\"Military Construction, Veterans Affairs,<br>and<br>Related Agencies Appropriations Act, 2025\",\"Department of Homeland Security<br>Appropriations<br>Act, 2024\",\"Israel Security Assistance Support Act\"],\"legendgroup\":\"Failed\",\"marker\":{\"color\":\"#EF553B\",\"symbol\":\"circle\"},\"mode\":\"markers\",\"name\":\"Failed\",\"orientation\":\"v\",\"showlegend\":true,\"x\":[\"Energy\",\"Government Operations and Politics\",\"Public Lands and Natural Resources\",\"Government Operations and Politics\",\"Energy\",\"Animals\",\"Environmental Protection\",\"Agriculture and Food\",\"Economics and Public Finance\",\"Public Lands and Natural Resources\",\"Public Lands and Natural Resources\",\"International Affairs\",\"Armed Forces and National Security\",\"Congress\",\"Environmental Protection\",\"Armed Forces and National Security\",\"Economics and Public Finance\",\"Emergency Management\",\"International Affairs\"],\"xaxis\":\"x\",\"y\":[-4,-4,-5,-5,-5,-5,-5,-6,-6,-6,-7,-7,-7,-8,-8,-8,-8,-8,-8],\"yaxis\":\"y\",\"type\":\"scatter\"}],                        {\"template\":{\"data\":{\"histogram2dcontour\":[{\"type\":\"histogram2dcontour\",\"colorbar\":{\"outlinewidth\":0,\"ticks\":\"\"},\"colorscale\":[[0.0,\"#0d0887\"],[0.1111111111111111,\"#46039f\"],[0.2222222222222222,\"#7201a8\"],[0.3333333333333333,\"#9c179e\"],[0.4444444444444444,\"#bd3786\"],[0.5555555555555556,\"#d8576b\"],[0.6666666666666666,\"#ed7953\"],[0.7777777777777778,\"#fb9f3a\"],[0.8888888888888888,\"#fdca26\"],[1.0,\"#f0f921\"]]}],\"choropleth\":[{\"type\":\"choropleth\",\"colorbar\":{\"outlinewidth\":0,\"ticks\":\"\"}}],\"histogram2d\":[{\"type\":\"histogram2d\",\"colorbar\":{\"outlinewidth\":0,\"ticks\":\"\"},\"colorscale\":[[0.0,\"#0d0887\"],[0.1111111111111111,\"#46039f\"],[0.2222222222222222,\"#7201a8\"],[0.3333333333333333,\"#9c179e\"],[0.4444444444444444,\"#bd3786\"],[0.5555555555555556,\"#d8576b\"],[0.6666666666666666,\"#ed7953\"],[0.7777777777777778,\"#fb9f3a\"],[0.8888888888888888,\"#fdca26\"],[1.0,\"#f0f921\"]]}],\"heatmap\":[{\"type\":\"heatmap\",\"colorbar\":{\"outlinewidth\":0,\"ticks\":\"\"},\"colorscale\":[[0.0,\"#0d0887\"],[0.1111111111111111,\"#46039f\"],[0.2222222222222222,\"#7201a8\"],[0.3333333333333333,\"#9c179e\"],[0.4444444444444444,\"#bd3786\"],[0.5555555555555556,\"#d8576b\"],[0.6666666666666666,\"#ed7953\"],[0.7777777777777778,\"#fb9f3a\"],[0.8888888888888888,\"#fdca26\"],[1.0,\"#f0f921\"]]}],\"heatmapgl\":[{\"type\":\"heatmapgl\",\"colorbar\":{\"outlinewidth\":0,\"ticks\":\"\"},\"colorscale\":[[0.0,\"#0d0887\"],[0.1111111111111111,\"#46039f\"],[0.2222222222222222,\"#7201a8\"],[0.3333333333333333,\"#9c179e\"],[0.4444444444444444,\"#bd3786\"],[0.5555555555555556,\"#d8576b\"],[0.6666666666666666,\"#ed7953\"],[0.7777777777777778,\"#fb9f3a\"],[0.8888888888888888,\"#fdca26\"],[1.0,\"#f0f921\"]]}],\"contourcarpet\":[{\"type\":\"contourcarpet\",\"colorbar\":{\"outlinewidth\":0,\"ticks\":\"\"}}],\"contour\":[{\"type\":\"contour\",\"colorbar\":{\"outlinewidth\":0,\"ticks\":\"\"},\"colorscale\":[[0.0,\"#0d0887\"],[0.1111111111111111,\"#46039f\"],[0.2222222222222222,\"#7201a8\"],[0.3333333333333333,\"#9c179e\"],[0.4444444444444444,\"#bd3786\"],[0.5555555555555556,\"#d8576b\"],[0.6666666666666666,\"#ed7953\"],[0.7777777777777778,\"#fb9f3a\"],[0.8888888888888888,\"#fdca26\"],[1.0,\"#f0f921\"]]}],\"surface\":[{\"type\":\"surface\",\"colorbar\":{\"outlinewidth\":0,\"ticks\":\"\"},\"colorscale\":[[0.0,\"#0d0887\"],[0.1111111111111111,\"#46039f\"],[0.2222222222222222,\"#7201a8\"],[0.3333333333333333,\"#9c179e\"],[0.4444444444444444,\"#bd3786\"],[0.5555555555555556,\"#d8576b\"],[0.6666666666666666,\"#ed7953\"],[0.7777777777777778,\"#fb9f3a\"],[0.8888888888888888,\"#fdca26\"],[1.0,\"#f0f921\"]]}],\"mesh3d\":[{\"type\":\"mesh3d\",\"colorbar\":{\"outlinewidth\":0,\"ticks\":\"\"}}],\"scatter\":[{\"fillpattern\":{\"fillmode\":\"overlay\",\"size\":10,\"solidity\":0.2},\"type\":\"scatter\"}],\"parcoords\":[{\"type\":\"parcoords\",\"line\":{\"colorbar\":{\"outlinewidth\":0,\"ticks\":\"\"}}}],\"scatterpolargl\":[{\"type\":\"scatterpolargl\",\"marker\":{\"colorbar\":{\"outlinewidth\":0,\"ticks\":\"\"}}}],\"bar\":[{\"error_x\":{\"color\":\"#2a3f5f\"},\"error_y\":{\"color\":\"#2a3f5f\"},\"marker\":{\"line\":{\"color\":\"#E5ECF6\",\"width\":0.5},\"pattern\":{\"fillmode\":\"overlay\",\"size\":10,\"solidity\":0.2}},\"type\":\"bar\"}],\"scattergeo\":[{\"type\":\"scattergeo\",\"marker\":{\"colorbar\":{\"outlinewidth\":0,\"ticks\":\"\"}}}],\"scatterpolar\":[{\"type\":\"scatterpolar\",\"marker\":{\"colorbar\":{\"outlinewidth\":0,\"ticks\":\"\"}}}],\"histogram\":[{\"marker\":{\"pattern\":{\"fillmode\":\"overlay\",\"size\":10,\"solidity\":0.2}},\"type\":\"histogram\"}],\"scattergl\":[{\"type\":\"scattergl\",\"marker\":{\"colorbar\":{\"outlinewidth\":0,\"ticks\":\"\"}}}],\"scatter3d\":[{\"type\":\"scatter3d\",\"line\":{\"colorbar\":{\"outlinewidth\":0,\"ticks\":\"\"}},\"marker\":{\"colorbar\":{\"outlinewidth\":0,\"ticks\":\"\"}}}],\"scattermapbox\":[{\"type\":\"scattermapbox\",\"marker\":{\"colorbar\":{\"outlinewidth\":0,\"ticks\":\"\"}}}],\"scatterternary\":[{\"type\":\"scatterternary\",\"marker\":{\"colorbar\":{\"outlinewidth\":0,\"ticks\":\"\"}}}],\"scattercarpet\":[{\"type\":\"scattercarpet\",\"marker\":{\"colorbar\":{\"outlinewidth\":0,\"ticks\":\"\"}}}],\"carpet\":[{\"aaxis\":{\"endlinecolor\":\"#2a3f5f\",\"gridcolor\":\"white\",\"linecolor\":\"white\",\"minorgridcolor\":\"white\",\"startlinecolor\":\"#2a3f5f\"},\"baxis\":{\"endlinecolor\":\"#2a3f5f\",\"gridcolor\":\"white\",\"linecolor\":\"white\",\"minorgridcolor\":\"white\",\"startlinecolor\":\"#2a3f5f\"},\"type\":\"carpet\"}],\"table\":[{\"cells\":{\"fill\":{\"color\":\"#EBF0F8\"},\"line\":{\"color\":\"white\"}},\"header\":{\"fill\":{\"color\":\"#C8D4E3\"},\"line\":{\"color\":\"white\"}},\"type\":\"table\"}],\"barpolar\":[{\"marker\":{\"line\":{\"color\":\"#E5ECF6\",\"width\":0.5},\"pattern\":{\"fillmode\":\"overlay\",\"size\":10,\"solidity\":0.2}},\"type\":\"barpolar\"}],\"pie\":[{\"automargin\":true,\"type\":\"pie\"}]},\"layout\":{\"autotypenumbers\":\"strict\",\"colorway\":[\"#636efa\",\"#EF553B\",\"#00cc96\",\"#ab63fa\",\"#FFA15A\",\"#19d3f3\",\"#FF6692\",\"#B6E880\",\"#FF97FF\",\"#FECB52\"],\"font\":{\"color\":\"#2a3f5f\"},\"hovermode\":\"closest\",\"hoverlabel\":{\"align\":\"left\"},\"paper_bgcolor\":\"white\",\"plot_bgcolor\":\"#E5ECF6\",\"polar\":{\"bgcolor\":\"#E5ECF6\",\"angularaxis\":{\"gridcolor\":\"white\",\"linecolor\":\"white\",\"ticks\":\"\"},\"radialaxis\":{\"gridcolor\":\"white\",\"linecolor\":\"white\",\"ticks\":\"\"}},\"ternary\":{\"bgcolor\":\"#E5ECF6\",\"aaxis\":{\"gridcolor\":\"white\",\"linecolor\":\"white\",\"ticks\":\"\"},\"baxis\":{\"gridcolor\":\"white\",\"linecolor\":\"white\",\"ticks\":\"\"},\"caxis\":{\"gridcolor\":\"white\",\"linecolor\":\"white\",\"ticks\":\"\"}},\"coloraxis\":{\"colorbar\":{\"outlinewidth\":0,\"ticks\":\"\"}},\"colorscale\":{\"sequential\":[[0.0,\"#0d0887\"],[0.1111111111111111,\"#46039f\"],[0.2222222222222222,\"#7201a8\"],[0.3333333333333333,\"#9c179e\"],[0.4444444444444444,\"#bd3786\"],[0.5555555555555556,\"#d8576b\"],[0.6666666666666666,\"#ed7953\"],[0.7777777777777778,\"#fb9f3a\"],[0.8888888888888888,\"#fdca26\"],[1.0,\"#f0f921\"]],\"sequentialminus\":[[0.0,\"#0d0887\"],[0.1111111111111111,\"#46039f\"],[0.2222222222222222,\"#7201a8\"],[0.3333333333333333,\"#9c179e\"],[0.4444444444444444,\"#bd3786\"],[0.5555555555555556,\"#d8576b\"],[0.6666666666666666,\"#ed7953\"],[0.7777777777777778,\"#fb9f3a\"],[0.8888888888888888,\"#fdca26\"],[1.0,\"#f0f921\"]],\"diverging\":[[0,\"#8e0152\"],[0.1,\"#c51b7d\"],[0.2,\"#de77ae\"],[0.3,\"#f1b6da\"],[0.4,\"#fde0ef\"],[0.5,\"#f7f7f7\"],[0.6,\"#e6f5d0\"],[0.7,\"#b8e186\"],[0.8,\"#7fbc41\"],[0.9,\"#4d9221\"],[1,\"#276419\"]]},\"xaxis\":{\"gridcolor\":\"white\",\"linecolor\":\"white\",\"ticks\":\"\",\"title\":{\"standoff\":15},\"zerolinecolor\":\"white\",\"automargin\":true,\"zerolinewidth\":2},\"yaxis\":{\"gridcolor\":\"white\",\"linecolor\":\"white\",\"ticks\":\"\",\"title\":{\"standoff\":15},\"zerolinecolor\":\"white\",\"automargin\":true,\"zerolinewidth\":2},\"scene\":{\"xaxis\":{\"backgroundcolor\":\"#E5ECF6\",\"gridcolor\":\"white\",\"linecolor\":\"white\",\"showbackground\":true,\"ticks\":\"\",\"zerolinecolor\":\"white\",\"gridwidth\":2},\"yaxis\":{\"backgroundcolor\":\"#E5ECF6\",\"gridcolor\":\"white\",\"linecolor\":\"white\",\"showbackground\":true,\"ticks\":\"\",\"zerolinecolor\":\"white\",\"gridwidth\":2},\"zaxis\":{\"backgroundcolor\":\"#E5ECF6\",\"gridcolor\":\"white\",\"linecolor\":\"white\",\"showbackground\":true,\"ticks\":\"\",\"zerolinecolor\":\"white\",\"gridwidth\":2}},\"shapedefaults\":{\"line\":{\"color\":\"#2a3f5f\"}},\"annotationdefaults\":{\"arrowcolor\":\"#2a3f5f\",\"arrowhead\":0,\"arrowwidth\":1},\"geo\":{\"bgcolor\":\"white\",\"landcolor\":\"#E5ECF6\",\"subunitcolor\":\"white\",\"showland\":true,\"showlakes\":true,\"lakecolor\":\"white\"},\"title\":{\"x\":0.05},\"mapbox\":{\"style\":\"light\"}}},\"xaxis\":{\"anchor\":\"y\",\"domain\":[0.0,1.0],\"title\":{\"text\":\"policy_area\"}},\"yaxis\":{\"anchor\":\"x\",\"domain\":[0.0,1.0],\"title\":{\"text\":\"yea_nay_gap_votes\"}},\"legend\":{\"title\":{\"text\":\"result\"},\"tracegroupgap\":0},\"title\":{\"text\":\"Subjects of Bills with Closest Votes\"}},                        {\"responsive\": true}                    ).then(function(){\n",
       "                            \n",
       "var gd = document.getElementById('771d7f67-0ab8-4dde-95a1-33e87aa74fdd');\n",
       "var x = new MutationObserver(function (mutations, observer) {{\n",
       "        var display = window.getComputedStyle(gd).display;\n",
       "        if (!display || display === 'none') {{\n",
       "            console.log([gd, 'removed!']);\n",
       "            Plotly.purge(gd);\n",
       "            observer.disconnect();\n",
       "        }}\n",
       "}});\n",
       "\n",
       "// Listen for the removal of the full notebook cells\n",
       "var notebookContainer = gd.closest('#notebook-container');\n",
       "if (notebookContainer) {{\n",
       "    x.observe(notebookContainer, {childList: true});\n",
       "}}\n",
       "\n",
       "// Listen for the clearing of the current output cell\n",
       "var outputEl = gd.closest('.output');\n",
       "if (outputEl) {{\n",
       "    x.observe(outputEl, {childList: true});\n",
       "}}\n",
       "\n",
       "                        })                };                });            </script>        </div>"
      ]
     },
     "metadata": {},
     "output_type": "display_data"
    }
   ],
   "source": [
    "fig.show()"
   ]
  },
  {
   "cell_type": "markdown",
   "id": "3f5add4f-0f22-4327-8a1d-e7f4e547af10",
   "metadata": {},
   "source": [
    "# Committees"
   ]
  },
  {
   "cell_type": "code",
   "execution_count": 290,
   "id": "c3a1c1e5-0dee-4c19-b012-24b67c913c9a",
   "metadata": {
    "tags": []
   },
   "outputs": [],
   "source": [
    "sql = \"\"\"\n",
    "with cte as(\n",
    "SELECT dv.bill_type\n",
    "      ,dv.chamber\n",
    "      ,dv.roll_call_number\n",
    "      ,dv.result\n",
    "      ,db.bill_name\n",
    "      ,db.title\n",
    "      ,bridge.name committee_name\n",
    "    FROM `Congress.dim_votes` dv\n",
    "        join `Congress.dim_bills` db on (dv.bill_key = db.bill_key)\n",
    "        left join `Congress.bill_committee_bridge` bridge on db.bill_key = bridge.bill_key\n",
    "    WHERE dv.chamber = 'House'\n",
    "        )\n",
    "\n",
    "select committee_name, sum(case \n",
    "                          when result = 'Passed' then 1\n",
    "                          else 0 end) as number_passed,\n",
    "                       sum(case \n",
    "                          when result = 'Failed' then 1\n",
    "                          else 0 end) as number_failed,\n",
    "                       count(*) as number_sponsored\n",
    "from cte\n",
    "group by committee_name\n",
    "order by number_passed desc\n",
    "\n",
    "\n",
    "\"\"\"\n"
   ]
  },
  {
   "cell_type": "code",
   "execution_count": 291,
   "id": "e0961566-39d5-451a-b3d0-28e1e76268a0",
   "metadata": {
    "tags": []
   },
   "outputs": [
    {
     "name": "stdout",
     "output_type": "stream",
     "text": [
      "Downloading: 100%|\u001b[32m█████████████████████████████████████████████████████████████████████████████████████████████████████████████████████████████████████████████████████████████████████████████████████████\u001b[0m|\u001b[0m\n"
     ]
    }
   ],
   "source": [
    "df = pandas_gbq.read_gbq(sql, project_id=project_id)"
   ]
  },
  {
   "cell_type": "code",
   "execution_count": 292,
   "id": "2fc29901-e08b-42f8-bc30-98e8543b8cc4",
   "metadata": {
    "tags": []
   },
   "outputs": [
    {
     "data": {
      "text/html": [
       "<div>\n",
       "<style scoped>\n",
       "    .dataframe tbody tr th:only-of-type {\n",
       "        vertical-align: middle;\n",
       "    }\n",
       "\n",
       "    .dataframe tbody tr th {\n",
       "        vertical-align: top;\n",
       "    }\n",
       "\n",
       "    .dataframe thead th {\n",
       "        text-align: right;\n",
       "    }\n",
       "</style>\n",
       "<table border=\"1\" class=\"dataframe\">\n",
       "  <thead>\n",
       "    <tr style=\"text-align: right;\">\n",
       "      <th></th>\n",
       "      <th>committee_name</th>\n",
       "      <th>number_passed</th>\n",
       "      <th>number_failed</th>\n",
       "      <th>number_sponsored</th>\n",
       "    </tr>\n",
       "  </thead>\n",
       "  <tbody>\n",
       "    <tr>\n",
       "      <th>0</th>\n",
       "      <td>Judiciary Committee</td>\n",
       "      <td>56</td>\n",
       "      <td>8</td>\n",
       "      <td>64</td>\n",
       "    </tr>\n",
       "    <tr>\n",
       "      <th>1</th>\n",
       "      <td>Energy and Commerce Committee</td>\n",
       "      <td>37</td>\n",
       "      <td>10</td>\n",
       "      <td>47</td>\n",
       "    </tr>\n",
       "    <tr>\n",
       "      <th>2</th>\n",
       "      <td>Financial Services Committee</td>\n",
       "      <td>35</td>\n",
       "      <td>3</td>\n",
       "      <td>38</td>\n",
       "    </tr>\n",
       "    <tr>\n",
       "      <th>3</th>\n",
       "      <td>Foreign Affairs Committee</td>\n",
       "      <td>32</td>\n",
       "      <td>11</td>\n",
       "      <td>43</td>\n",
       "    </tr>\n",
       "    <tr>\n",
       "      <th>4</th>\n",
       "      <td>Veterans' Affairs Committee</td>\n",
       "      <td>29</td>\n",
       "      <td>2</td>\n",
       "      <td>31</td>\n",
       "    </tr>\n",
       "  </tbody>\n",
       "</table>\n",
       "</div>"
      ],
      "text/plain": [
       "                  committee_name  number_passed  number_failed  \\\n",
       "0            Judiciary Committee             56              8   \n",
       "1  Energy and Commerce Committee             37             10   \n",
       "2   Financial Services Committee             35              3   \n",
       "3      Foreign Affairs Committee             32             11   \n",
       "4    Veterans' Affairs Committee             29              2   \n",
       "\n",
       "   number_sponsored  \n",
       "0                64  \n",
       "1                47  \n",
       "2                38  \n",
       "3                43  \n",
       "4                31  "
      ]
     },
     "execution_count": 292,
     "metadata": {},
     "output_type": "execute_result"
    }
   ],
   "source": [
    "df.head()"
   ]
  },
  {
   "cell_type": "code",
   "execution_count": 297,
   "id": "aee3e0c2-5880-48e6-a588-341104266753",
   "metadata": {
    "tags": []
   },
   "outputs": [
    {
     "data": {
      "application/vnd.plotly.v1+json": {
       "config": {
        "plotlyServerURL": "https://plot.ly"
       },
       "data": [
        {
         "marker": {
          "color": "rgb(26, 118, 255)"
         },
         "name": "Number Passed",
         "type": "bar",
         "x": [
          "Judiciary Committee",
          "Energy and Commerce Committee",
          "Financial Services Committee",
          "Foreign Affairs Committee",
          "Veterans' Affairs Committee",
          "Oversight and Accountability Committee",
          "Natural Resources Committee",
          "Ways and Means Committee",
          "Banking, Housing, and Urban Affairs Committee",
          "Commerce, Science, and Transportation Committee",
          "Education and the Workforce Committee",
          "Appropriations Committee",
          "Homeland Security and Governmental Affairs Committee",
          "Transportation and Infrastructure Committee",
          "Science, Space, and Technology Committee",
          "Foreign Relations Committee",
          "Energy and Natural Resources Committee",
          "Budget Committee",
          "Intelligence (Permanent Select) Committee",
          "Environment and Public Works Committee",
          "Agriculture Committee",
          "Armed Services Committee",
          "Health, Education, Labor, and Pensions Committee",
          "Small Business Committee",
          "Rules Committee",
          "Homeland Security Committee",
          "Finance Committee",
          null,
          "Indian Affairs Committee",
          "Committee on House Administration",
          "Small Business and Entrepreneurship Committee"
         ],
         "y": [
          56,
          37,
          35,
          32,
          29,
          27,
          22,
          21,
          21,
          20,
          19,
          17,
          17,
          17,
          16,
          16,
          15,
          12,
          8,
          8,
          7,
          7,
          7,
          6,
          5,
          5,
          3,
          2,
          1,
          1,
          1
         ]
        },
        {
         "marker": {
          "color": "rgb(255, 26, 26)"
         },
         "name": "Number Failed",
         "type": "bar",
         "x": [
          "Judiciary Committee",
          "Energy and Commerce Committee",
          "Financial Services Committee",
          "Foreign Affairs Committee",
          "Veterans' Affairs Committee",
          "Oversight and Accountability Committee",
          "Natural Resources Committee",
          "Ways and Means Committee",
          "Banking, Housing, and Urban Affairs Committee",
          "Commerce, Science, and Transportation Committee",
          "Education and the Workforce Committee",
          "Appropriations Committee",
          "Homeland Security and Governmental Affairs Committee",
          "Transportation and Infrastructure Committee",
          "Science, Space, and Technology Committee",
          "Foreign Relations Committee",
          "Energy and Natural Resources Committee",
          "Budget Committee",
          "Intelligence (Permanent Select) Committee",
          "Environment and Public Works Committee",
          "Agriculture Committee",
          "Armed Services Committee",
          "Health, Education, Labor, and Pensions Committee",
          "Small Business Committee",
          "Rules Committee",
          "Homeland Security Committee",
          "Finance Committee",
          null,
          "Indian Affairs Committee",
          "Committee on House Administration",
          "Small Business and Entrepreneurship Committee"
         ],
         "y": [
          8,
          10,
          3,
          11,
          2,
          7,
          10,
          5,
          1,
          0,
          10,
          14,
          4,
          6,
          2,
          0,
          5,
          7,
          3,
          4,
          3,
          3,
          2,
          2,
          2,
          1,
          0,
          0,
          0,
          0,
          0
         ]
        }
       ],
       "layout": {
        "autosize": true,
        "barmode": "stack",
        "legend": {
         "title": {
          "text": "Outcome"
         }
        },
        "template": {
         "data": {
          "bar": [
           {
            "error_x": {
             "color": "#2a3f5f"
            },
            "error_y": {
             "color": "#2a3f5f"
            },
            "marker": {
             "line": {
              "color": "#E5ECF6",
              "width": 0.5
             },
             "pattern": {
              "fillmode": "overlay",
              "size": 10,
              "solidity": 0.2
             }
            },
            "type": "bar"
           }
          ],
          "barpolar": [
           {
            "marker": {
             "line": {
              "color": "#E5ECF6",
              "width": 0.5
             },
             "pattern": {
              "fillmode": "overlay",
              "size": 10,
              "solidity": 0.2
             }
            },
            "type": "barpolar"
           }
          ],
          "carpet": [
           {
            "aaxis": {
             "endlinecolor": "#2a3f5f",
             "gridcolor": "white",
             "linecolor": "white",
             "minorgridcolor": "white",
             "startlinecolor": "#2a3f5f"
            },
            "baxis": {
             "endlinecolor": "#2a3f5f",
             "gridcolor": "white",
             "linecolor": "white",
             "minorgridcolor": "white",
             "startlinecolor": "#2a3f5f"
            },
            "type": "carpet"
           }
          ],
          "choropleth": [
           {
            "colorbar": {
             "outlinewidth": 0,
             "ticks": ""
            },
            "type": "choropleth"
           }
          ],
          "contour": [
           {
            "colorbar": {
             "outlinewidth": 0,
             "ticks": ""
            },
            "colorscale": [
             [
              0,
              "#0d0887"
             ],
             [
              0.1111111111111111,
              "#46039f"
             ],
             [
              0.2222222222222222,
              "#7201a8"
             ],
             [
              0.3333333333333333,
              "#9c179e"
             ],
             [
              0.4444444444444444,
              "#bd3786"
             ],
             [
              0.5555555555555556,
              "#d8576b"
             ],
             [
              0.6666666666666666,
              "#ed7953"
             ],
             [
              0.7777777777777778,
              "#fb9f3a"
             ],
             [
              0.8888888888888888,
              "#fdca26"
             ],
             [
              1,
              "#f0f921"
             ]
            ],
            "type": "contour"
           }
          ],
          "contourcarpet": [
           {
            "colorbar": {
             "outlinewidth": 0,
             "ticks": ""
            },
            "type": "contourcarpet"
           }
          ],
          "heatmap": [
           {
            "colorbar": {
             "outlinewidth": 0,
             "ticks": ""
            },
            "colorscale": [
             [
              0,
              "#0d0887"
             ],
             [
              0.1111111111111111,
              "#46039f"
             ],
             [
              0.2222222222222222,
              "#7201a8"
             ],
             [
              0.3333333333333333,
              "#9c179e"
             ],
             [
              0.4444444444444444,
              "#bd3786"
             ],
             [
              0.5555555555555556,
              "#d8576b"
             ],
             [
              0.6666666666666666,
              "#ed7953"
             ],
             [
              0.7777777777777778,
              "#fb9f3a"
             ],
             [
              0.8888888888888888,
              "#fdca26"
             ],
             [
              1,
              "#f0f921"
             ]
            ],
            "type": "heatmap"
           }
          ],
          "heatmapgl": [
           {
            "colorbar": {
             "outlinewidth": 0,
             "ticks": ""
            },
            "colorscale": [
             [
              0,
              "#0d0887"
             ],
             [
              0.1111111111111111,
              "#46039f"
             ],
             [
              0.2222222222222222,
              "#7201a8"
             ],
             [
              0.3333333333333333,
              "#9c179e"
             ],
             [
              0.4444444444444444,
              "#bd3786"
             ],
             [
              0.5555555555555556,
              "#d8576b"
             ],
             [
              0.6666666666666666,
              "#ed7953"
             ],
             [
              0.7777777777777778,
              "#fb9f3a"
             ],
             [
              0.8888888888888888,
              "#fdca26"
             ],
             [
              1,
              "#f0f921"
             ]
            ],
            "type": "heatmapgl"
           }
          ],
          "histogram": [
           {
            "marker": {
             "pattern": {
              "fillmode": "overlay",
              "size": 10,
              "solidity": 0.2
             }
            },
            "type": "histogram"
           }
          ],
          "histogram2d": [
           {
            "colorbar": {
             "outlinewidth": 0,
             "ticks": ""
            },
            "colorscale": [
             [
              0,
              "#0d0887"
             ],
             [
              0.1111111111111111,
              "#46039f"
             ],
             [
              0.2222222222222222,
              "#7201a8"
             ],
             [
              0.3333333333333333,
              "#9c179e"
             ],
             [
              0.4444444444444444,
              "#bd3786"
             ],
             [
              0.5555555555555556,
              "#d8576b"
             ],
             [
              0.6666666666666666,
              "#ed7953"
             ],
             [
              0.7777777777777778,
              "#fb9f3a"
             ],
             [
              0.8888888888888888,
              "#fdca26"
             ],
             [
              1,
              "#f0f921"
             ]
            ],
            "type": "histogram2d"
           }
          ],
          "histogram2dcontour": [
           {
            "colorbar": {
             "outlinewidth": 0,
             "ticks": ""
            },
            "colorscale": [
             [
              0,
              "#0d0887"
             ],
             [
              0.1111111111111111,
              "#46039f"
             ],
             [
              0.2222222222222222,
              "#7201a8"
             ],
             [
              0.3333333333333333,
              "#9c179e"
             ],
             [
              0.4444444444444444,
              "#bd3786"
             ],
             [
              0.5555555555555556,
              "#d8576b"
             ],
             [
              0.6666666666666666,
              "#ed7953"
             ],
             [
              0.7777777777777778,
              "#fb9f3a"
             ],
             [
              0.8888888888888888,
              "#fdca26"
             ],
             [
              1,
              "#f0f921"
             ]
            ],
            "type": "histogram2dcontour"
           }
          ],
          "mesh3d": [
           {
            "colorbar": {
             "outlinewidth": 0,
             "ticks": ""
            },
            "type": "mesh3d"
           }
          ],
          "parcoords": [
           {
            "line": {
             "colorbar": {
              "outlinewidth": 0,
              "ticks": ""
             }
            },
            "type": "parcoords"
           }
          ],
          "pie": [
           {
            "automargin": true,
            "type": "pie"
           }
          ],
          "scatter": [
           {
            "fillpattern": {
             "fillmode": "overlay",
             "size": 10,
             "solidity": 0.2
            },
            "type": "scatter"
           }
          ],
          "scatter3d": [
           {
            "line": {
             "colorbar": {
              "outlinewidth": 0,
              "ticks": ""
             }
            },
            "marker": {
             "colorbar": {
              "outlinewidth": 0,
              "ticks": ""
             }
            },
            "type": "scatter3d"
           }
          ],
          "scattercarpet": [
           {
            "marker": {
             "colorbar": {
              "outlinewidth": 0,
              "ticks": ""
             }
            },
            "type": "scattercarpet"
           }
          ],
          "scattergeo": [
           {
            "marker": {
             "colorbar": {
              "outlinewidth": 0,
              "ticks": ""
             }
            },
            "type": "scattergeo"
           }
          ],
          "scattergl": [
           {
            "marker": {
             "colorbar": {
              "outlinewidth": 0,
              "ticks": ""
             }
            },
            "type": "scattergl"
           }
          ],
          "scattermapbox": [
           {
            "marker": {
             "colorbar": {
              "outlinewidth": 0,
              "ticks": ""
             }
            },
            "type": "scattermapbox"
           }
          ],
          "scatterpolar": [
           {
            "marker": {
             "colorbar": {
              "outlinewidth": 0,
              "ticks": ""
             }
            },
            "type": "scatterpolar"
           }
          ],
          "scatterpolargl": [
           {
            "marker": {
             "colorbar": {
              "outlinewidth": 0,
              "ticks": ""
             }
            },
            "type": "scatterpolargl"
           }
          ],
          "scatterternary": [
           {
            "marker": {
             "colorbar": {
              "outlinewidth": 0,
              "ticks": ""
             }
            },
            "type": "scatterternary"
           }
          ],
          "surface": [
           {
            "colorbar": {
             "outlinewidth": 0,
             "ticks": ""
            },
            "colorscale": [
             [
              0,
              "#0d0887"
             ],
             [
              0.1111111111111111,
              "#46039f"
             ],
             [
              0.2222222222222222,
              "#7201a8"
             ],
             [
              0.3333333333333333,
              "#9c179e"
             ],
             [
              0.4444444444444444,
              "#bd3786"
             ],
             [
              0.5555555555555556,
              "#d8576b"
             ],
             [
              0.6666666666666666,
              "#ed7953"
             ],
             [
              0.7777777777777778,
              "#fb9f3a"
             ],
             [
              0.8888888888888888,
              "#fdca26"
             ],
             [
              1,
              "#f0f921"
             ]
            ],
            "type": "surface"
           }
          ],
          "table": [
           {
            "cells": {
             "fill": {
              "color": "#EBF0F8"
             },
             "line": {
              "color": "white"
             }
            },
            "header": {
             "fill": {
              "color": "#C8D4E3"
             },
             "line": {
              "color": "white"
             }
            },
            "type": "table"
           }
          ]
         },
         "layout": {
          "annotationdefaults": {
           "arrowcolor": "#2a3f5f",
           "arrowhead": 0,
           "arrowwidth": 1
          },
          "autotypenumbers": "strict",
          "coloraxis": {
           "colorbar": {
            "outlinewidth": 0,
            "ticks": ""
           }
          },
          "colorscale": {
           "diverging": [
            [
             0,
             "#8e0152"
            ],
            [
             0.1,
             "#c51b7d"
            ],
            [
             0.2,
             "#de77ae"
            ],
            [
             0.3,
             "#f1b6da"
            ],
            [
             0.4,
             "#fde0ef"
            ],
            [
             0.5,
             "#f7f7f7"
            ],
            [
             0.6,
             "#e6f5d0"
            ],
            [
             0.7,
             "#b8e186"
            ],
            [
             0.8,
             "#7fbc41"
            ],
            [
             0.9,
             "#4d9221"
            ],
            [
             1,
             "#276419"
            ]
           ],
           "sequential": [
            [
             0,
             "#0d0887"
            ],
            [
             0.1111111111111111,
             "#46039f"
            ],
            [
             0.2222222222222222,
             "#7201a8"
            ],
            [
             0.3333333333333333,
             "#9c179e"
            ],
            [
             0.4444444444444444,
             "#bd3786"
            ],
            [
             0.5555555555555556,
             "#d8576b"
            ],
            [
             0.6666666666666666,
             "#ed7953"
            ],
            [
             0.7777777777777778,
             "#fb9f3a"
            ],
            [
             0.8888888888888888,
             "#fdca26"
            ],
            [
             1,
             "#f0f921"
            ]
           ],
           "sequentialminus": [
            [
             0,
             "#0d0887"
            ],
            [
             0.1111111111111111,
             "#46039f"
            ],
            [
             0.2222222222222222,
             "#7201a8"
            ],
            [
             0.3333333333333333,
             "#9c179e"
            ],
            [
             0.4444444444444444,
             "#bd3786"
            ],
            [
             0.5555555555555556,
             "#d8576b"
            ],
            [
             0.6666666666666666,
             "#ed7953"
            ],
            [
             0.7777777777777778,
             "#fb9f3a"
            ],
            [
             0.8888888888888888,
             "#fdca26"
            ],
            [
             1,
             "#f0f921"
            ]
           ]
          },
          "colorway": [
           "#636efa",
           "#EF553B",
           "#00cc96",
           "#ab63fa",
           "#FFA15A",
           "#19d3f3",
           "#FF6692",
           "#B6E880",
           "#FF97FF",
           "#FECB52"
          ],
          "font": {
           "color": "#2a3f5f"
          },
          "geo": {
           "bgcolor": "white",
           "lakecolor": "white",
           "landcolor": "#E5ECF6",
           "showlakes": true,
           "showland": true,
           "subunitcolor": "white"
          },
          "hoverlabel": {
           "align": "left"
          },
          "hovermode": "closest",
          "mapbox": {
           "style": "light"
          },
          "paper_bgcolor": "white",
          "plot_bgcolor": "#E5ECF6",
          "polar": {
           "angularaxis": {
            "gridcolor": "white",
            "linecolor": "white",
            "ticks": ""
           },
           "bgcolor": "#E5ECF6",
           "radialaxis": {
            "gridcolor": "white",
            "linecolor": "white",
            "ticks": ""
           }
          },
          "scene": {
           "xaxis": {
            "backgroundcolor": "#E5ECF6",
            "gridcolor": "white",
            "gridwidth": 2,
            "linecolor": "white",
            "showbackground": true,
            "ticks": "",
            "zerolinecolor": "white"
           },
           "yaxis": {
            "backgroundcolor": "#E5ECF6",
            "gridcolor": "white",
            "gridwidth": 2,
            "linecolor": "white",
            "showbackground": true,
            "ticks": "",
            "zerolinecolor": "white"
           },
           "zaxis": {
            "backgroundcolor": "#E5ECF6",
            "gridcolor": "white",
            "gridwidth": 2,
            "linecolor": "white",
            "showbackground": true,
            "ticks": "",
            "zerolinecolor": "white"
           }
          },
          "shapedefaults": {
           "line": {
            "color": "#2a3f5f"
           }
          },
          "ternary": {
           "aaxis": {
            "gridcolor": "white",
            "linecolor": "white",
            "ticks": ""
           },
           "baxis": {
            "gridcolor": "white",
            "linecolor": "white",
            "ticks": ""
           },
           "bgcolor": "#E5ECF6",
           "caxis": {
            "gridcolor": "white",
            "linecolor": "white",
            "ticks": ""
           }
          },
          "title": {
           "x": 0.05
          },
          "xaxis": {
           "automargin": true,
           "gridcolor": "white",
           "linecolor": "white",
           "ticks": "",
           "title": {
            "standoff": 15
           },
           "zerolinecolor": "white",
           "zerolinewidth": 2
          },
          "yaxis": {
           "automargin": true,
           "gridcolor": "white",
           "linecolor": "white",
           "ticks": "",
           "title": {
            "standoff": 15
           },
           "zerolinecolor": "white",
           "zerolinewidth": 2
          }
         }
        },
        "title": {
         "text": "Breakdown of Sponsored Bills by Committee"
        },
        "xaxis": {
         "autorange": true,
         "range": [
          -0.5,
          29.5
         ],
         "title": {
          "text": "Committee Name"
         },
         "type": "category"
        },
        "yaxis": {
         "autorange": true,
         "range": [
          0,
          67.36842105263158
         ],
         "title": {
          "text": "Number of Bills"
         },
         "type": "linear"
        }
       }
      },
      "image/png": "[encoded data removed]",
      "text/html": [
       "<div>                            <div id=\"81a7cc87-ef62-4bd5-8eb6-3669813a5f49\" class=\"plotly-graph-div\" style=\"height:525px; width:100%;\"></div>            <script type=\"text/javascript\">                require([\"plotly\"], function(Plotly) {                    window.PLOTLYENV=window.PLOTLYENV || {};                                    if (document.getElementById(\"81a7cc87-ef62-4bd5-8eb6-3669813a5f49\")) {                    Plotly.newPlot(                        \"81a7cc87-ef62-4bd5-8eb6-3669813a5f49\",                        [{\"marker\":{\"color\":\"rgb(26, 118, 255)\"},\"name\":\"Number Passed\",\"x\":[\"Judiciary Committee\",\"Energy and Commerce Committee\",\"Financial Services Committee\",\"Foreign Affairs Committee\",\"Veterans' Affairs Committee\",\"Oversight and Accountability Committee\",\"Natural Resources Committee\",\"Ways and Means Committee\",\"Banking, Housing, and Urban Affairs Committee\",\"Commerce, Science, and Transportation Committee\",\"Education and the Workforce Committee\",\"Appropriations Committee\",\"Homeland Security and Governmental Affairs Committee\",\"Transportation and Infrastructure Committee\",\"Science, Space, and Technology Committee\",\"Foreign Relations Committee\",\"Energy and Natural Resources Committee\",\"Budget Committee\",\"Intelligence (Permanent Select) Committee\",\"Environment and Public Works Committee\",\"Agriculture Committee\",\"Armed Services Committee\",\"Health, Education, Labor, and Pensions Committee\",\"Small Business Committee\",\"Rules Committee\",\"Homeland Security Committee\",\"Finance Committee\",null,\"Indian Affairs Committee\",\"Committee on House Administration\",\"Small Business and Entrepreneurship Committee\"],\"y\":[56,37,35,32,29,27,22,21,21,20,19,17,17,17,16,16,15,12,8,8,7,7,7,6,5,5,3,2,1,1,1],\"type\":\"bar\"},{\"marker\":{\"color\":\"rgb(255, 26, 26)\"},\"name\":\"Number Failed\",\"x\":[\"Judiciary Committee\",\"Energy and Commerce Committee\",\"Financial Services Committee\",\"Foreign Affairs Committee\",\"Veterans' Affairs Committee\",\"Oversight and Accountability Committee\",\"Natural Resources Committee\",\"Ways and Means Committee\",\"Banking, Housing, and Urban Affairs Committee\",\"Commerce, Science, and Transportation Committee\",\"Education and the Workforce Committee\",\"Appropriations Committee\",\"Homeland Security and Governmental Affairs Committee\",\"Transportation and Infrastructure Committee\",\"Science, Space, and Technology Committee\",\"Foreign Relations Committee\",\"Energy and Natural Resources Committee\",\"Budget Committee\",\"Intelligence (Permanent Select) Committee\",\"Environment and Public Works Committee\",\"Agriculture Committee\",\"Armed Services Committee\",\"Health, Education, Labor, and Pensions Committee\",\"Small Business Committee\",\"Rules Committee\",\"Homeland Security Committee\",\"Finance Committee\",null,\"Indian Affairs Committee\",\"Committee on House Administration\",\"Small Business and Entrepreneurship Committee\"],\"y\":[8,10,3,11,2,7,10,5,1,0,10,14,4,6,2,0,5,7,3,4,3,3,2,2,2,1,0,0,0,0,0],\"type\":\"bar\"}],                        {\"template\":{\"data\":{\"histogram2dcontour\":[{\"type\":\"histogram2dcontour\",\"colorbar\":{\"outlinewidth\":0,\"ticks\":\"\"},\"colorscale\":[[0.0,\"#0d0887\"],[0.1111111111111111,\"#46039f\"],[0.2222222222222222,\"#7201a8\"],[0.3333333333333333,\"#9c179e\"],[0.4444444444444444,\"#bd3786\"],[0.5555555555555556,\"#d8576b\"],[0.6666666666666666,\"#ed7953\"],[0.7777777777777778,\"#fb9f3a\"],[0.8888888888888888,\"#fdca26\"],[1.0,\"#f0f921\"]]}],\"choropleth\":[{\"type\":\"choropleth\",\"colorbar\":{\"outlinewidth\":0,\"ticks\":\"\"}}],\"histogram2d\":[{\"type\":\"histogram2d\",\"colorbar\":{\"outlinewidth\":0,\"ticks\":\"\"},\"colorscale\":[[0.0,\"#0d0887\"],[0.1111111111111111,\"#46039f\"],[0.2222222222222222,\"#7201a8\"],[0.3333333333333333,\"#9c179e\"],[0.4444444444444444,\"#bd3786\"],[0.5555555555555556,\"#d8576b\"],[0.6666666666666666,\"#ed7953\"],[0.7777777777777778,\"#fb9f3a\"],[0.8888888888888888,\"#fdca26\"],[1.0,\"#f0f921\"]]}],\"heatmap\":[{\"type\":\"heatmap\",\"colorbar\":{\"outlinewidth\":0,\"ticks\":\"\"},\"colorscale\":[[0.0,\"#0d0887\"],[0.1111111111111111,\"#46039f\"],[0.2222222222222222,\"#7201a8\"],[0.3333333333333333,\"#9c179e\"],[0.4444444444444444,\"#bd3786\"],[0.5555555555555556,\"#d8576b\"],[0.6666666666666666,\"#ed7953\"],[0.7777777777777778,\"#fb9f3a\"],[0.8888888888888888,\"#fdca26\"],[1.0,\"#f0f921\"]]}],\"heatmapgl\":[{\"type\":\"heatmapgl\",\"colorbar\":{\"outlinewidth\":0,\"ticks\":\"\"},\"colorscale\":[[0.0,\"#0d0887\"],[0.1111111111111111,\"#46039f\"],[0.2222222222222222,\"#7201a8\"],[0.3333333333333333,\"#9c179e\"],[0.4444444444444444,\"#bd3786\"],[0.5555555555555556,\"#d8576b\"],[0.6666666666666666,\"#ed7953\"],[0.7777777777777778,\"#fb9f3a\"],[0.8888888888888888,\"#fdca26\"],[1.0,\"#f0f921\"]]}],\"contourcarpet\":[{\"type\":\"contourcarpet\",\"colorbar\":{\"outlinewidth\":0,\"ticks\":\"\"}}],\"contour\":[{\"type\":\"contour\",\"colorbar\":{\"outlinewidth\":0,\"ticks\":\"\"},\"colorscale\":[[0.0,\"#0d0887\"],[0.1111111111111111,\"#46039f\"],[0.2222222222222222,\"#7201a8\"],[0.3333333333333333,\"#9c179e\"],[0.4444444444444444,\"#bd3786\"],[0.5555555555555556,\"#d8576b\"],[0.6666666666666666,\"#ed7953\"],[0.7777777777777778,\"#fb9f3a\"],[0.8888888888888888,\"#fdca26\"],[1.0,\"#f0f921\"]]}],\"surface\":[{\"type\":\"surface\",\"colorbar\":{\"outlinewidth\":0,\"ticks\":\"\"},\"colorscale\":[[0.0,\"#0d0887\"],[0.1111111111111111,\"#46039f\"],[0.2222222222222222,\"#7201a8\"],[0.3333333333333333,\"#9c179e\"],[0.4444444444444444,\"#bd3786\"],[0.5555555555555556,\"#d8576b\"],[0.6666666666666666,\"#ed7953\"],[0.7777777777777778,\"#fb9f3a\"],[0.8888888888888888,\"#fdca26\"],[1.0,\"#f0f921\"]]}],\"mesh3d\":[{\"type\":\"mesh3d\",\"colorbar\":{\"outlinewidth\":0,\"ticks\":\"\"}}],\"scatter\":[{\"fillpattern\":{\"fillmode\":\"overlay\",\"size\":10,\"solidity\":0.2},\"type\":\"scatter\"}],\"parcoords\":[{\"type\":\"parcoords\",\"line\":{\"colorbar\":{\"outlinewidth\":0,\"ticks\":\"\"}}}],\"scatterpolargl\":[{\"type\":\"scatterpolargl\",\"marker\":{\"colorbar\":{\"outlinewidth\":0,\"ticks\":\"\"}}}],\"bar\":[{\"error_x\":{\"color\":\"#2a3f5f\"},\"error_y\":{\"color\":\"#2a3f5f\"},\"marker\":{\"line\":{\"color\":\"#E5ECF6\",\"width\":0.5},\"pattern\":{\"fillmode\":\"overlay\",\"size\":10,\"solidity\":0.2}},\"type\":\"bar\"}],\"scattergeo\":[{\"type\":\"scattergeo\",\"marker\":{\"colorbar\":{\"outlinewidth\":0,\"ticks\":\"\"}}}],\"scatterpolar\":[{\"type\":\"scatterpolar\",\"marker\":{\"colorbar\":{\"outlinewidth\":0,\"ticks\":\"\"}}}],\"histogram\":[{\"marker\":{\"pattern\":{\"fillmode\":\"overlay\",\"size\":10,\"solidity\":0.2}},\"type\":\"histogram\"}],\"scattergl\":[{\"type\":\"scattergl\",\"marker\":{\"colorbar\":{\"outlinewidth\":0,\"ticks\":\"\"}}}],\"scatter3d\":[{\"type\":\"scatter3d\",\"line\":{\"colorbar\":{\"outlinewidth\":0,\"ticks\":\"\"}},\"marker\":{\"colorbar\":{\"outlinewidth\":0,\"ticks\":\"\"}}}],\"scattermapbox\":[{\"type\":\"scattermapbox\",\"marker\":{\"colorbar\":{\"outlinewidth\":0,\"ticks\":\"\"}}}],\"scatterternary\":[{\"type\":\"scatterternary\",\"marker\":{\"colorbar\":{\"outlinewidth\":0,\"ticks\":\"\"}}}],\"scattercarpet\":[{\"type\":\"scattercarpet\",\"marker\":{\"colorbar\":{\"outlinewidth\":0,\"ticks\":\"\"}}}],\"carpet\":[{\"aaxis\":{\"endlinecolor\":\"#2a3f5f\",\"gridcolor\":\"white\",\"linecolor\":\"white\",\"minorgridcolor\":\"white\",\"startlinecolor\":\"#2a3f5f\"},\"baxis\":{\"endlinecolor\":\"#2a3f5f\",\"gridcolor\":\"white\",\"linecolor\":\"white\",\"minorgridcolor\":\"white\",\"startlinecolor\":\"#2a3f5f\"},\"type\":\"carpet\"}],\"table\":[{\"cells\":{\"fill\":{\"color\":\"#EBF0F8\"},\"line\":{\"color\":\"white\"}},\"header\":{\"fill\":{\"color\":\"#C8D4E3\"},\"line\":{\"color\":\"white\"}},\"type\":\"table\"}],\"barpolar\":[{\"marker\":{\"line\":{\"color\":\"#E5ECF6\",\"width\":0.5},\"pattern\":{\"fillmode\":\"overlay\",\"size\":10,\"solidity\":0.2}},\"type\":\"barpolar\"}],\"pie\":[{\"automargin\":true,\"type\":\"pie\"}]},\"layout\":{\"autotypenumbers\":\"strict\",\"colorway\":[\"#636efa\",\"#EF553B\",\"#00cc96\",\"#ab63fa\",\"#FFA15A\",\"#19d3f3\",\"#FF6692\",\"#B6E880\",\"#FF97FF\",\"#FECB52\"],\"font\":{\"color\":\"#2a3f5f\"},\"hovermode\":\"closest\",\"hoverlabel\":{\"align\":\"left\"},\"paper_bgcolor\":\"white\",\"plot_bgcolor\":\"#E5ECF6\",\"polar\":{\"bgcolor\":\"#E5ECF6\",\"angularaxis\":{\"gridcolor\":\"white\",\"linecolor\":\"white\",\"ticks\":\"\"},\"radialaxis\":{\"gridcolor\":\"white\",\"linecolor\":\"white\",\"ticks\":\"\"}},\"ternary\":{\"bgcolor\":\"#E5ECF6\",\"aaxis\":{\"gridcolor\":\"white\",\"linecolor\":\"white\",\"ticks\":\"\"},\"baxis\":{\"gridcolor\":\"white\",\"linecolor\":\"white\",\"ticks\":\"\"},\"caxis\":{\"gridcolor\":\"white\",\"linecolor\":\"white\",\"ticks\":\"\"}},\"coloraxis\":{\"colorbar\":{\"outlinewidth\":0,\"ticks\":\"\"}},\"colorscale\":{\"sequential\":[[0.0,\"#0d0887\"],[0.1111111111111111,\"#46039f\"],[0.2222222222222222,\"#7201a8\"],[0.3333333333333333,\"#9c179e\"],[0.4444444444444444,\"#bd3786\"],[0.5555555555555556,\"#d8576b\"],[0.6666666666666666,\"#ed7953\"],[0.7777777777777778,\"#fb9f3a\"],[0.8888888888888888,\"#fdca26\"],[1.0,\"#f0f921\"]],\"sequentialminus\":[[0.0,\"#0d0887\"],[0.1111111111111111,\"#46039f\"],[0.2222222222222222,\"#7201a8\"],[0.3333333333333333,\"#9c179e\"],[0.4444444444444444,\"#bd3786\"],[0.5555555555555556,\"#d8576b\"],[0.6666666666666666,\"#ed7953\"],[0.7777777777777778,\"#fb9f3a\"],[0.8888888888888888,\"#fdca26\"],[1.0,\"#f0f921\"]],\"diverging\":[[0,\"#8e0152\"],[0.1,\"#c51b7d\"],[0.2,\"#de77ae\"],[0.3,\"#f1b6da\"],[0.4,\"#fde0ef\"],[0.5,\"#f7f7f7\"],[0.6,\"#e6f5d0\"],[0.7,\"#b8e186\"],[0.8,\"#7fbc41\"],[0.9,\"#4d9221\"],[1,\"#276419\"]]},\"xaxis\":{\"gridcolor\":\"white\",\"linecolor\":\"white\",\"ticks\":\"\",\"title\":{\"standoff\":15},\"zerolinecolor\":\"white\",\"automargin\":true,\"zerolinewidth\":2},\"yaxis\":{\"gridcolor\":\"white\",\"linecolor\":\"white\",\"ticks\":\"\",\"title\":{\"standoff\":15},\"zerolinecolor\":\"white\",\"automargin\":true,\"zerolinewidth\":2},\"scene\":{\"xaxis\":{\"backgroundcolor\":\"#E5ECF6\",\"gridcolor\":\"white\",\"linecolor\":\"white\",\"showbackground\":true,\"ticks\":\"\",\"zerolinecolor\":\"white\",\"gridwidth\":2},\"yaxis\":{\"backgroundcolor\":\"#E5ECF6\",\"gridcolor\":\"white\",\"linecolor\":\"white\",\"showbackground\":true,\"ticks\":\"\",\"zerolinecolor\":\"white\",\"gridwidth\":2},\"zaxis\":{\"backgroundcolor\":\"#E5ECF6\",\"gridcolor\":\"white\",\"linecolor\":\"white\",\"showbackground\":true,\"ticks\":\"\",\"zerolinecolor\":\"white\",\"gridwidth\":2}},\"shapedefaults\":{\"line\":{\"color\":\"#2a3f5f\"}},\"annotationdefaults\":{\"arrowcolor\":\"#2a3f5f\",\"arrowhead\":0,\"arrowwidth\":1},\"geo\":{\"bgcolor\":\"white\",\"landcolor\":\"#E5ECF6\",\"subunitcolor\":\"white\",\"showland\":true,\"showlakes\":true,\"lakecolor\":\"white\"},\"title\":{\"x\":0.05},\"mapbox\":{\"style\":\"light\"}}},\"barmode\":\"stack\",\"title\":{\"text\":\"Breakdown of Sponsored Bills by Committee\"},\"xaxis\":{\"title\":{\"text\":\"Committee Name\"}},\"yaxis\":{\"title\":{\"text\":\"Number of Bills\"}},\"legend\":{\"title\":{\"text\":\"Outcome\"}}},                        {\"responsive\": true}                    ).then(function(){\n",
       "                            \n",
       "var gd = document.getElementById('81a7cc87-ef62-4bd5-8eb6-3669813a5f49');\n",
       "var x = new MutationObserver(function (mutations, observer) {{\n",
       "        var display = window.getComputedStyle(gd).display;\n",
       "        if (!display || display === 'none') {{\n",
       "            console.log([gd, 'removed!']);\n",
       "            Plotly.purge(gd);\n",
       "            observer.disconnect();\n",
       "        }}\n",
       "}});\n",
       "\n",
       "// Listen for the removal of the full notebook cells\n",
       "var notebookContainer = gd.closest('#notebook-container');\n",
       "if (notebookContainer) {{\n",
       "    x.observe(notebookContainer, {childList: true});\n",
       "}}\n",
       "\n",
       "// Listen for the clearing of the current output cell\n",
       "var outputEl = gd.closest('.output');\n",
       "if (outputEl) {{\n",
       "    x.observe(outputEl, {childList: true});\n",
       "}}\n",
       "\n",
       "                        })                };                });            </script>        </div>"
      ]
     },
     "metadata": {},
     "output_type": "display_data"
    }
   ],
   "source": [
    "# ADD RECENT BILLS PASSED\n",
    "\n",
    "# Convert data to columns\n",
    "committee_names = df['committee_name']\n",
    "number_passed = df['number_passed']\n",
    "number_failed = df['number_failed']\n",
    "\n",
    "# Create the stacked bar chart\n",
    "fig = go.Figure()\n",
    "\n",
    "fig.add_trace(go.Bar(\n",
    "    x=committee_names,\n",
    "    y=number_passed,\n",
    "    name='Number Passed',\n",
    "    marker_color='rgb(26, 118, 255)'\n",
    "))\n",
    "\n",
    "fig.add_trace(go.Bar(\n",
    "    x=committee_names,\n",
    "    y=number_failed,\n",
    "    name='Number Failed',\n",
    "    marker_color='rgb(255, 26, 26)'\n",
    "))\n",
    "\n",
    "# Update the layout\n",
    "fig.update_layout(\n",
    "    barmode='stack',\n",
    "    title='Breakdown of Sponsored Bills by Committee',\n",
    "    xaxis=dict(title='Committee Name'),\n",
    "    yaxis=dict(title='Number of Bills'),\n",
    "    legend=dict(title='Outcome')\n",
    ")\n",
    "\n",
    "# Display the figure\n",
    "fig.show()"
   ]
  },
  {
   "cell_type": "code",
   "execution_count": null,
   "id": "56b50110-77c7-441a-9c03-de61f270a783",
   "metadata": {},
   "outputs": [],
   "source": []
  }
 ],
 "metadata": {
  "kernelspec": {
   "display_name": "venv",
   "language": "python",
   "name": "venv"
  },
  "language_info": {
   "codemirror_mode": {
    "name": "ipython",
    "version": 3
   },
   "file_extension": ".py",
   "mimetype": "text/x-python",
   "name": "python",
   "nbconvert_exporter": "python",
   "pygments_lexer": "ipython3",
   "version": "3.11.0"
  }
 },
 "nbformat": 4,
 "nbformat_minor": 5
}
