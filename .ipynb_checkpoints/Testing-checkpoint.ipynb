{
 "cells": [
  {
   "cell_type": "code",
   "execution_count": 1,
   "id": "bb1c67b7-be00-474a-9bb4-11dd2727bae6",
   "metadata": {
    "tags": []
   },
   "outputs": [],
   "source": [
    "import requests\n",
    "import pandas as pd\n",
    "import xmltodict"
   ]
  },
  {
   "cell_type": "code",
   "execution_count": 2,
   "id": "2cb28cc7-c30e-46cd-becc-6efcfb6f7fea",
   "metadata": {
    "tags": []
   },
   "outputs": [],
   "source": [
    "r = requests.get('https://www.govinfo.gov/bulkdata/BILLSTATUS/118/hr/BILLSTATUS-118hr184.xml')"
   ]
  },
  {
   "cell_type": "code",
   "execution_count": 3,
   "id": "7a057d6b-af1f-46cb-93e2-1a854459b937",
   "metadata": {
    "tags": []
   },
   "outputs": [],
   "source": [
    "data = xmltodict.parse(r.content)"
   ]
  },
  {
   "cell_type": "code",
   "execution_count": 4,
   "id": "e2fdf5e2-94d7-4360-90f8-a557a776aa0a",
   "metadata": {
    "tags": []
   },
   "outputs": [
    {
     "data": {
      "text/plain": [
       "{'billStatus': {'version': '3.0.0',\n",
       "  'bill': {'number': '184',\n",
       "   'updateDate': '2024-07-24T15:24:11Z',\n",
       "   'updateDateIncludingText': '2024-07-24T15:24:11Z',\n",
       "   'originChamber': 'House',\n",
       "   'originChamberCode': 'H',\n",
       "   'type': 'HR',\n",
       "   'introducedDate': '2023-01-09',\n",
       "   'congress': '118',\n",
       "   'cdata': None,\n",
       "   'committees': {'item': {'systemCode': 'hsii00',\n",
       "     'name': 'Natural Resources Committee',\n",
       "     'chamber': 'House',\n",
       "     'type': 'Standing',\n",
       "     'activities': {'item': {'name': 'Referred to',\n",
       "       'date': '2023-01-09T22:18:40Z'}}}},\n",
       "   'actions': {'item': [{'actionDate': '2023-01-09',\n",
       "      'text': 'Referred to the House Committee on Natural Resources.',\n",
       "      'type': 'IntroReferral',\n",
       "      'actionCode': 'H11100',\n",
       "      'sourceSystem': {'code': '2', 'name': 'House floor actions'},\n",
       "      'committees': {'item': {'systemCode': 'hsii00',\n",
       "        'name': 'Natural Resources Committee'}}},\n",
       "     {'actionDate': '2023-01-09',\n",
       "      'text': 'Introduced in House',\n",
       "      'type': 'IntroReferral',\n",
       "      'actionCode': 'Intro-H',\n",
       "      'sourceSystem': {'code': '9', 'name': 'Library of Congress'}},\n",
       "     {'actionDate': '2023-01-09',\n",
       "      'text': 'Introduced in House',\n",
       "      'type': 'IntroReferral',\n",
       "      'actionCode': '1000',\n",
       "      'sourceSystem': {'code': '9', 'name': 'Library of Congress'}}]},\n",
       "   'sponsors': {'item': {'bioguideId': 'M000871',\n",
       "     'fullName': 'Rep. Mann, Tracey [R-KS-1]',\n",
       "     'firstName': 'Tracey',\n",
       "     'lastName': 'Mann',\n",
       "     'party': 'R',\n",
       "     'state': 'KS',\n",
       "     'district': '1',\n",
       "     'isByRequest': 'N'}},\n",
       "   'policyArea': {'name': 'Environmental Protection'},\n",
       "   'subjects': {'legislativeSubjects': {'item': [{'name': 'Congressional oversight'},\n",
       "      {'name': 'Congressional-executive branch relations'},\n",
       "      {'name': 'Government information and archives'},\n",
       "      {'name': 'Presidents and presidential powers, Vice Presidents'}]},\n",
       "    'policyArea': {'name': 'Environmental Protection'}},\n",
       "   'summaries': {'summary': {'versionCode': '00',\n",
       "     'actionDate': '2023-01-09',\n",
       "     'actionDesc': 'Introduced in House',\n",
       "     'updateDate': '2023-01-23T16:50:43Z',\n",
       "     'text': '<p>This bill requires the President to notify Congress and the public before issuing executive orders relating to the natural resources of the United States and the environment.</p>'}},\n",
       "   'title': 'To promote accountability and transparency in future executive orders.',\n",
       "   'titles': {'item': [{'titleType': 'Display Title',\n",
       "      'titleTypeCode': '45',\n",
       "      'title': 'To promote accountability and transparency in future executive orders.'},\n",
       "     {'titleType': 'Official Title as Introduced',\n",
       "      'titleTypeCode': '6',\n",
       "      'title': 'To promote accountability and transparency in future executive orders.',\n",
       "      'billTextVersionName': 'Introduced in House',\n",
       "      'billTextVersionCode': 'IH'}]},\n",
       "   'textVersions': {'item': {'type': 'Introduced in House',\n",
       "     'date': '2023-01-09T05:00:00Z',\n",
       "     'formats': {'item': {'url': 'https://www.govinfo.gov/content/pkg/BILLS-118hr184ih/xml/BILLS-118hr184ih.xml'}}}},\n",
       "   'latestAction': {'actionDate': '2023-01-09',\n",
       "    'text': 'Referred to the House Committee on Natural Resources.'}},\n",
       "  'dublinCore': {'@xmlns:dc': 'http://purl.org/dc/elements/1.1/',\n",
       "   'dc:format': 'text/xml',\n",
       "   'dc:language': 'EN',\n",
       "   'dc:rights': 'Pursuant to Title 17 Section 105 of the United States Code, this file is not subject to copyright protection and is in the public domain.',\n",
       "   'dc:contributor': 'Congressional Research Service, Library of Congress',\n",
       "   'dc:description': 'This file contains bill summaries and statuses for federal legislation. A bill summary describes the most significant provisions of a piece of legislation and details the effects the legislative text may have on current law and federal programs. Bill summaries are authored by the Congressional Research Service (CRS) of the Library of Congress. As stated in Public Law 91-510 (2 USC 166 (d)(6)), one of the duties of CRS is \"to prepare summaries and digests of bills and resolutions of a public general nature introduced in the Senate or House of Representatives\". For more information, refer to the User Guide that accompanies this file.'}}}"
      ]
     },
     "execution_count": 4,
     "metadata": {},
     "output_type": "execute_result"
    }
   ],
   "source": [
    "{'S':'senate-bill',\n",
    " 'HR':'house-bill',\n",
    " 'SRES':'senate-resolution',\n",
    " 'HRES':'house-resolution',\n",
    " 'SJES':'senate-joint-resolution',\n",
    " 'HJES':'house-joint-resolution',\n",
    " 'HCONRES':'house-concurrent-resolution'\""
   ]
  },
  {
   "cell_type": "code",
   "execution_count": 2,
   "id": "bf17655c-f56c-451a-aca6-3bc2b51db04d",
   "metadata": {
    "tags": []
   },
   "outputs": [],
   "source": [
    "def sen_id_dict(item):\n",
    "    if isinstance(item, dict):\n",
    "        return {\n",
    "            'first_name': item.get('full_name').get('first_name'),\n",
    "            'last_name': item.get('full_name').get('last_name'),\n",
    "            'state': item.get('state'),\n",
    "            'bioguideID': item.get('bioguide'),\n",
    "            'lisid':item.get('lisid')\n",
    "        }\n",
    "    return {}"
   ]
  },
  {
   "cell_type": "code",
   "execution_count": 12,
   "id": "9c67342e-66ec-416e-aa3c-8dab2a0d35ab",
   "metadata": {
    "tags": []
   },
   "outputs": [],
   "source": [
    "# import os\n",
    "# os.environ.get(\"congress_api_key\")"
   ]
  },
  {
   "cell_type": "code",
   "execution_count": 13,
   "id": "2340c5a6-912f-441c-84e7-397695c48f45",
   "metadata": {
    "tags": []
   },
   "outputs": [],
   "source": [
    "import json"
   ]
  },
  {
   "cell_type": "code",
   "execution_count": 25,
   "id": "bb00b9e4-5e3b-4069-9f7c-871bb1dc2d9a",
   "metadata": {
    "tags": []
   },
   "outputs": [],
   "source": [
    "start_date  = \"2023-01-01T00:00:00Z\"\n",
    "end_date    = \"2024-06-30T00:00:00Z\"\n",
    "limit       = 250\n",
    "api_key     = 'WNue8kCDCOIlewAsULgnN8j6SqSgAZjE2sYbPsBb'\n",
    "offset      = 0\n",
    "\n",
    "# path = f'https://api.congress.gov/v3/member?format=json&fromDateTime={start_date}&toDateTime={end_date}&offset={offset}&limit={limit}&api_key={api_key}'\n",
    "path = f'https://api.congress.gov/v3/member/W000790?format=json&api_key={api_key}'\n",
    "# path = f'https://api.congress.gov/v3/committee/house/hlcn00?format=json&api_key={api_key}'"
   ]
  },
  {
   "cell_type": "code",
   "execution_count": 26,
   "id": "11776d80-499d-490e-93d2-613c2ed2d5fc",
   "metadata": {
    "tags": []
   },
   "outputs": [],
   "source": [
    "response = requests.get(path).json()"
   ]
  },
  {
   "cell_type": "code",
   "execution_count": 27,
   "id": "0a3fcb11-903e-450d-a325-24eb4182f31e",
   "metadata": {
    "tags": []
   },
   "outputs": [
    {
     "data": {
      "text/plain": [
       "{'member': {'addressInformation': {'city': 'Washington',\n",
       "   'district': 'DC',\n",
       "   'officeAddress': '416 Russell Senate Office Building Washington, DC 20510',\n",
       "   'phoneNumber': '(202) 224-3643',\n",
       "   'zipCode': 20510},\n",
       "  'bioguideId': 'W000790',\n",
       "  'birthYear': '1969',\n",
       "  'cosponsoredLegislation': {'count': 767,\n",
       "   'url': 'https://api.congress.gov/v3/member/W000790/cosponsored-legislation'},\n",
       "  'currentMember': True,\n",
       "  'depiction': {'attribution': '<a href=\"http://www.senate.gov/artandhistory/history/common/generic/Photo_Collection_of_the_Senate_Historical_Office.htm\">Courtesy U.S. Senate Historical Office</a>',\n",
       "   'imageUrl': 'https://www.congress.gov/img/member/w000790_200.jpg'},\n",
       "  'directOrderName': 'Raphael G. Warnock',\n",
       "  'firstName': 'Raphael',\n",
       "  'honorificName': 'Mr.',\n",
       "  'invertedOrderName': 'Warnock, Raphael G.',\n",
       "  'lastName': 'Warnock',\n",
       "  'officialWebsiteUrl': 'https://www.warnock.senate.gov',\n",
       "  'partyHistory': [{'partyAbbreviation': 'D',\n",
       "    'partyName': 'Democratic',\n",
       "    'startYear': 2021}],\n",
       "  'sponsoredLegislation': {'count': 145,\n",
       "   'url': 'https://api.congress.gov/v3/member/W000790/sponsored-legislation'},\n",
       "  'state': 'Georgia',\n",
       "  'terms': [{'chamber': 'Senate',\n",
       "    'congress': 117,\n",
       "    'endYear': 2023,\n",
       "    'memberType': 'Senator',\n",
       "    'startYear': 2021,\n",
       "    'stateCode': 'GA',\n",
       "    'stateName': 'Georgia'},\n",
       "   {'chamber': 'Senate',\n",
       "    'congress': 118,\n",
       "    'memberType': 'Senator',\n",
       "    'startYear': 2023,\n",
       "    'stateCode': 'GA',\n",
       "    'stateName': 'Georgia'}],\n",
       "  'updateDate': '2024-03-10T12:42:25Z'},\n",
       " 'request': {'bioguideId': 'w000790',\n",
       "  'contentType': 'application/json',\n",
       "  'format': 'json'}}"
      ]
     },
     "execution_count": 27,
     "metadata": {},
     "output_type": "execute_result"
    }
   ],
   "source": [
    "response"
   ]
  },
  {
   "cell_type": "code",
   "execution_count": 51,
   "id": "1ecff7e4-a473-455b-b051-43afb407399a",
   "metadata": {
    "tags": []
   },
   "outputs": [],
   "source": [
    "def get_senate_id_lookup():\n",
    "    response = requests.get('https://www.senate.gov/about/senator-lookup.xml')\n",
    "    sen_dict = xmltodict.parse(response.content)\n",
    "    sen_id_list = [sen_id_dict(sen) for sen in sen_dict['senators']['senator']]\n",
    "    \n",
    "    return sen_id_list"
   ]
  },
  {
   "cell_type": "code",
   "execution_count": 53,
   "id": "e6e25094-6bac-44e7-86a6-3c64f54f21db",
   "metadata": {
    "tags": []
   },
   "outputs": [],
   "source": [
    "# get_senate_id_lookup()"
   ]
  },
  {
   "cell_type": "code",
   "execution_count": 54,
   "id": "0515b2d9-fa5d-4e9c-a018-42949a2ca0d1",
   "metadata": {
    "tags": []
   },
   "outputs": [],
   "source": [
    "# response = requests.get('https://www.senate.gov/about/senator-lookup.xml')\n",
    "# sen_dict = xmltodict.parse(response.content)"
   ]
  },
  {
   "cell_type": "code",
   "execution_count": 55,
   "id": "b6030f06-6d06-4f7a-b976-ccbe676c3b6b",
   "metadata": {
    "tags": []
   },
   "outputs": [],
   "source": [
    "# sen_df = pd.DataFrame(sen_dict['senators']['senator'])"
   ]
  },
  {
   "cell_type": "code",
   "execution_count": 49,
   "id": "14e8d176-b1d5-4fa4-a92c-a324f25f217a",
   "metadata": {
    "tags": []
   },
   "outputs": [
    {
     "data": {
      "text/plain": [
       "{'first_name': 'Joseph',\n",
       " 'last_name': 'Abbott',\n",
       " 'state': 'NC',\n",
       " 'bioguideID': 'A000006',\n",
       " 'lisid': None}"
      ]
     },
     "execution_count": 49,
     "metadata": {},
     "output_type": "execute_result"
    }
   ],
   "source": [
    "id_dict(sen_dict['senators']['senator'][0])"
   ]
  },
  {
   "cell_type": "code",
   "execution_count": 31,
   "id": "a2b07a12-0000-4ab3-bc98-c6de84f2b4e4",
   "metadata": {
    "tags": []
   },
   "outputs": [
    {
     "data": {
      "text/plain": [
       "dict_keys(['first_name', 'middle_name', 'last_name'])"
      ]
     },
     "execution_count": 31,
     "metadata": {},
     "output_type": "execute_result"
    }
   ],
   "source": [
    "sen_df.publication_name[0].keys()"
   ]
  },
  {
   "cell_type": "code",
   "execution_count": 32,
   "id": "8946b070-7371-4a48-8168-e4ed8c6af54c",
   "metadata": {
    "tags": []
   },
   "outputs": [
    {
     "data": {
      "text/html": [
       "<div>\n",
       "<style scoped>\n",
       "    .dataframe tbody tr th:only-of-type {\n",
       "        vertical-align: middle;\n",
       "    }\n",
       "\n",
       "    .dataframe tbody tr th {\n",
       "        vertical-align: top;\n",
       "    }\n",
       "\n",
       "    .dataframe thead th {\n",
       "        text-align: right;\n",
       "    }\n",
       "</style>\n",
       "<table border=\"1\" class=\"dataframe\">\n",
       "  <thead>\n",
       "    <tr style=\"text-align: right;\">\n",
       "      <th></th>\n",
       "      <th>full_name</th>\n",
       "      <th>publication_name</th>\n",
       "      <th>party</th>\n",
       "      <th>state</th>\n",
       "      <th>bioguide</th>\n",
       "      <th>service_dates</th>\n",
       "      <th>death_date</th>\n",
       "      <th>lisid</th>\n",
       "      <th>featured_bio</th>\n",
       "      <th>@current</th>\n",
       "    </tr>\n",
       "  </thead>\n",
       "  <tbody>\n",
       "    <tr>\n",
       "      <th>0</th>\n",
       "      <td>{'first_name': 'Joseph', 'middle_name': 'Carte...</td>\n",
       "      <td>{'first_name': 'Joseph', 'middle_name': 'C.', ...</td>\n",
       "      <td>R</td>\n",
       "      <td>NC</td>\n",
       "      <td>A000006</td>\n",
       "      <td>{'service_date': {'begin_date': {'@day': '14',...</td>\n",
       "      <td>{'@day': '08', '@month': '10', '@year': '1881'}</td>\n",
       "      <td>NaN</td>\n",
       "      <td>NaN</td>\n",
       "      <td>NaN</td>\n",
       "    </tr>\n",
       "    <tr>\n",
       "      <th>1</th>\n",
       "      <td>{'first_name': 'Hazel', 'middle_name': 'Hempel...</td>\n",
       "      <td>{'first_name': 'Hazel', 'middle_name': 'H.', '...</td>\n",
       "      <td>R</td>\n",
       "      <td>NE</td>\n",
       "      <td>A000010</td>\n",
       "      <td>{'service_date': {'begin_date': {'@day': '08',...</td>\n",
       "      <td>{'@day': '30', '@month': '07', '@year': '1966'}</td>\n",
       "      <td>NaN</td>\n",
       "      <td>NaN</td>\n",
       "      <td>NaN</td>\n",
       "    </tr>\n",
       "    <tr>\n",
       "      <th>2</th>\n",
       "      <td>{'first_name': 'James', 'middle_name': None, '...</td>\n",
       "      <td>{'first_name': None, 'middle_name': None, 'las...</td>\n",
       "      <td>R</td>\n",
       "      <td>SD</td>\n",
       "      <td>A000009</td>\n",
       "      <td>{'service_date': {'begin_date': {'@day': '03',...</td>\n",
       "      <td>{'@day': '16', '@month': '05', '@year': '2012'}</td>\n",
       "      <td>S145</td>\n",
       "      <td>NaN</td>\n",
       "      <td>NaN</td>\n",
       "    </tr>\n",
       "    <tr>\n",
       "      <th>3</th>\n",
       "      <td>{'first_name': 'James', 'middle_name': 'George...</td>\n",
       "      <td>{'first_name': 'James', 'middle_name': 'G.', '...</td>\n",
       "      <td>D</td>\n",
       "      <td>SD</td>\n",
       "      <td>A000017</td>\n",
       "      <td>{'service_date': {'begin_date': {'@day': '03',...</td>\n",
       "      <td>{'@day': '24', '@month': '02', '@year': '2023'}</td>\n",
       "      <td>S002</td>\n",
       "      <td>NaN</td>\n",
       "      <td>NaN</td>\n",
       "    </tr>\n",
       "    <tr>\n",
       "      <th>4</th>\n",
       "      <td>{'first_name': 'Spencer', 'middle_name': None,...</td>\n",
       "      <td>{'first_name': None, 'middle_name': None, 'las...</td>\n",
       "      <td>R</td>\n",
       "      <td>MI</td>\n",
       "      <td>A000355</td>\n",
       "      <td>{'service_date': {'begin_date': {'@day': '03',...</td>\n",
       "      <td>{'@day': '', '@month': '', '@year': ''}</td>\n",
       "      <td>S238</td>\n",
       "      <td>NaN</td>\n",
       "      <td>NaN</td>\n",
       "    </tr>\n",
       "  </tbody>\n",
       "</table>\n",
       "</div>"
      ],
      "text/plain": [
       "                                           full_name  \\\n",
       "0  {'first_name': 'Joseph', 'middle_name': 'Carte...   \n",
       "1  {'first_name': 'Hazel', 'middle_name': 'Hempel...   \n",
       "2  {'first_name': 'James', 'middle_name': None, '...   \n",
       "3  {'first_name': 'James', 'middle_name': 'George...   \n",
       "4  {'first_name': 'Spencer', 'middle_name': None,...   \n",
       "\n",
       "                                    publication_name party state bioguide  \\\n",
       "0  {'first_name': 'Joseph', 'middle_name': 'C.', ...     R    NC  A000006   \n",
       "1  {'first_name': 'Hazel', 'middle_name': 'H.', '...     R    NE  A000010   \n",
       "2  {'first_name': None, 'middle_name': None, 'las...     R    SD  A000009   \n",
       "3  {'first_name': 'James', 'middle_name': 'G.', '...     D    SD  A000017   \n",
       "4  {'first_name': None, 'middle_name': None, 'las...     R    MI  A000355   \n",
       "\n",
       "                                       service_dates  \\\n",
       "0  {'service_date': {'begin_date': {'@day': '14',...   \n",
       "1  {'service_date': {'begin_date': {'@day': '08',...   \n",
       "2  {'service_date': {'begin_date': {'@day': '03',...   \n",
       "3  {'service_date': {'begin_date': {'@day': '03',...   \n",
       "4  {'service_date': {'begin_date': {'@day': '03',...   \n",
       "\n",
       "                                        death_date lisid featured_bio @current  \n",
       "0  {'@day': '08', '@month': '10', '@year': '1881'}   NaN          NaN      NaN  \n",
       "1  {'@day': '30', '@month': '07', '@year': '1966'}   NaN          NaN      NaN  \n",
       "2  {'@day': '16', '@month': '05', '@year': '2012'}  S145          NaN      NaN  \n",
       "3  {'@day': '24', '@month': '02', '@year': '2023'}  S002          NaN      NaN  \n",
       "4          {'@day': '', '@month': '', '@year': ''}  S238          NaN      NaN  "
      ]
     },
     "execution_count": 32,
     "metadata": {},
     "output_type": "execute_result"
    }
   ],
   "source": [
    "sen_df.head()"
   ]
  },
  {
   "cell_type": "code",
   "execution_count": null,
   "id": "79fdf9fb-ae83-4495-b2e7-b8848002b629",
   "metadata": {},
   "outputs": [],
   "source": []
  }
 ],
 "metadata": {
  "kernelspec": {
   "display_name": "Python 3 (ipykernel)",
   "language": "python",
   "name": "python3"
  },
  "language_info": {
   "codemirror_mode": {
    "name": "ipython",
    "version": 3
   },
   "file_extension": ".py",
   "mimetype": "text/x-python",
   "name": "python",
   "nbconvert_exporter": "python",
   "pygments_lexer": "ipython3",
   "version": "3.11.0"
  }
 },
 "nbformat": 4,
 "nbformat_minor": 5
}
